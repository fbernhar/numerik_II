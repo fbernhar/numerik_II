{
 "cells": [
  {
   "cell_type": "markdown",
   "metadata": {},
   "source": [
    "# 2. Projekt zur Veranstaltung \"Numerische Mathematik 2\"\n"
   ]
  },
  {
   "cell_type": "markdown",
   "metadata": {},
   "source": [
    "## Randwertprobleme: Finite Differenzen"
   ]
  },
  {
   "cell_type": "markdown",
   "metadata": {},
   "source": [
    "### Florian Bernhard 28258717\n",
    "----"
   ]
  },
  {
   "cell_type": "markdown",
   "metadata": {},
   "source": [
    "###### Imports and default settings:"
   ]
  },
  {
   "cell_type": "code",
   "execution_count": 3,
   "metadata": {},
   "outputs": [],
   "source": [
    "import math\n",
    "import time\n",
    "import numpy as np\n",
    "import matplotlib.pyplot as plt\n",
    "import seaborn as sns\n",
    "import scipy.sparse as sparse\n",
    "\n",
    "sns.set()\n",
    "sns.set_context('paper')\n",
    "sns.set_style('whitegrid')"
   ]
  },
  {
   "cell_type": "markdown",
   "metadata": {},
   "source": [
    "  "
   ]
  },
  {
   "cell_type": "markdown",
   "metadata": {},
   "source": [
    "### Aufgabe 1.0\n",
    "-------------\n",
    "Die unterschiede die zwischen den Verfahren 2.Ordnung und 4.Ordnung bestehen, sind folgende:\n",
    "\n",
    "#### Ordung des Fehlers:\n",
    "Für den Verfahrensfehler einer Differentiationsformel gilt:\n",
    "$|ev(h)| \\leq K * h^p + O(h^{p + 1})$ für  $h -> 0$\n",
    "\n",
    "Somit erhalten wir mit höherer Ordnung ein genaueres Ergebnis, einen kleineren Verfahrensfehler. Jedoch sollte dabei noch beachtet werden, dass dies nicht für beliebig kleine $h$ gilt, da bei dem Gesamtfehler für $h \\ll 0$ Auslöschung auftreten kann und die Verringerung des Verfahrensfehler somit wieder aufgehoben wird.\n",
    "\n",
    "#### Die Anzahl an benötigten Punkten:\n",
    "Für ein Verfahren mit höherer Ordnung werden zusätzliche Punkte benötigt, was am Intervallanfang sowie Intervallende zu der reduzierung der Ordnung führt, da dort nicht mehr als 1 Punkt bekannt ist und somit auch nur ein Verfahren der Ordnung 2 verwendet werden kann.\n"
   ]
  },
  {
   "cell_type": "markdown",
   "metadata": {},
   "source": [
    "### Aufgabe 2.0\n",
    "-------------"
   ]
  },
  {
   "cell_type": "markdown",
   "metadata": {},
   "source": [
    "#### Ableitungsapproximationen:"
   ]
  },
  {
   "cell_type": "code",
   "execution_count": 3,
   "metadata": {},
   "outputs": [],
   "source": [
    "def second_derivative_second_order(func, xValue, hValue):\n",
    "    return (func(xValue - hValue) - 2 * func(xValue) + func(xValue + hValue)) / (math.pow(hValue, 2))"
   ]
  },
  {
   "cell_type": "code",
   "execution_count": 4,
   "metadata": {},
   "outputs": [],
   "source": [
    "def second_derivative_fourth_order(func, xValue, hValue):\n",
    "    return (-func(xValue - 2 * hValue) + 16 * func(xValue - hValue) - 30 * func(xValue) + 16 * func(xValue + hValue) -\\\n",
    "            func(xValue + 2 * hValue)) / (12 * (math.pow(hValue, 2)))"
   ]
  },
  {
   "cell_type": "code",
   "execution_count": 5,
   "metadata": {},
   "outputs": [],
   "source": [
    "def first_derivative_second_order(func, xValue, hValue):\n",
    "    return (-func(xValue-hValue)+func(xValue+hValue))/(2*hValue)"
   ]
  },
  {
   "cell_type": "code",
   "execution_count": 33,
   "metadata": {},
   "outputs": [],
   "source": [
    "def first_derivative_fourth_order(func, xValue, hValue):\n",
    "    return (func(xValue-2*hValue)-8*func(xValue-hValue)+8*func(xValue+hValue)-func(xValue+2*hValue))/(12*hValue)"
   ]
  },
  {
   "cell_type": "markdown",
   "metadata": {},
   "source": [
    "#### Fehleranalyse:"
   ]
  },
  {
   "cell_type": "code",
   "execution_count": 17,
   "metadata": {},
   "outputs": [
    {
     "data": {
      "image/png": "[encoded data removed]",
      "text/plain": [
       "<Figure size 432x288 with 1 Axes>"
      ]
     },
     "metadata": {},
     "output_type": "display_data"
    }
   ],
   "source": [
    "x0 = 1\n",
    "h = np.linspace(1.0, 1.0e-10, 1000)\n",
    "sDsO = []\n",
    "sDfO = []\n",
    "for i in range(np.size(h)):\n",
    "    sDsO = np.append(sDsO, math.fabs(math.exp(x0)-second_derivative_second_order(math.exp, x0, h[i])))\n",
    "    sDfO = np.append(sDfO, math.fabs(math.exp(x0)-second_derivative_fourth_order(math.exp, x0, h[i])))\n",
    "\n",
    "plt.figure()    \n",
    "plt.title('Fehler Analyse 2.Ableitung')\n",
    "plt.plot(h, sDsO, label='2. Ordnung')\n",
    "plt.plot(h, sDfO, label='4. Ordnung')\n",
    "plt.xscale('log')\n",
    "plt.yscale('log')\n",
    "plt.xlabel('h')\n",
    "plt.ylabel('Error')\n",
    "plt.legend()\n",
    "plt.tight_layout()\n",
    "plt.show()"
   ]
  },
  {
   "cell_type": "markdown",
   "metadata": {},
   "source": [
    "Wie aus der Grafik zu entnehmen ist, wird hier das zusammenspiel zwischen Verfahrensfehler in der rechten Hälfte und Auslöschung in der linken Hälfte klar dargestellt.\n",
    "\n",
    "Dabei interessieren wir uns speziell für den rechten Teil der Grafik um den Verfahrensfehler graphisch abzuschätzen. \n",
    "- Der Fehler des blauen Graphen nimmt für eine Reduktion von h im Intervall [1.0e-2, 1.0] um etwa [1.0e-4] ab.\n",
    "- Der Fehler des orangen Graphen nimmt für eine Reduktion von h im Intervall [1.0e-2, 1.0] um etwa [1.0e-8] ab."
   ]
  },
  {
   "cell_type": "code",
   "execution_count": 31,
   "metadata": {},
   "outputs": [
    {
     "name": "stdout",
     "output_type": "stream",
     "text": [
      "h = 1.0, error = 0.23421061355351513\n",
      "h = 1.0e-2, error = 2.2652423016022993e-05\n"
     ]
    }
   ],
   "source": [
    "print('h = 1.0; error = '+ str(math.fabs(math.exp(x0)-second_derivative_second_order(math.exp, x0, 1.0))))\n",
    "print('h = 1.0e-2; error = '+ str(math.fabs(math.exp(x0)-second_derivative_second_order(math.exp, x0, 1.0e-2))))"
   ]
  },
  {
   "cell_type": "markdown",
   "metadata": {},
   "source": [
    "  "
   ]
  },
  {
   "cell_type": "code",
   "execution_count": 32,
   "metadata": {},
   "outputs": [
    {
     "name": "stdout",
     "output_type": "stream",
     "text": [
      "h = 1.0; error = 0.033029631395715686\n",
      "h = 1.0e-2; error = 2.963140843803558e-10\n"
     ]
    }
   ],
   "source": [
    "print('h = 1.0; error = '+ str(math.fabs(math.exp(x0)-second_derivative_fourth_order(math.exp, x0, 1.0))))\n",
    "print('h = 1.0e-2; error = '+ str(math.fabs(math.exp(x0)-second_derivative_fourth_order(math.exp, x0, 1.0e-2))))"
   ]
  },
  {
   "cell_type": "markdown",
   "metadata": {},
   "source": [
    "  "
   ]
  },
  {
   "cell_type": "markdown",
   "metadata": {},
   "source": [
    "### Aufgabe 3.0\n",
    "-------------"
   ]
  },
  {
   "cell_type": "markdown",
   "metadata": {},
   "source": [
    "#### Implementierung der Funktion:  *fd_ode1*"
   ]
  },
  {
   "cell_type": "code",
   "execution_count": 4,
   "metadata": {},
   "outputs": [],
   "source": [
    "def fd_ode1(aValue, bValue, cValue, xValue, yValue, nValue):\n",
    "    n = nValue\n",
    "    h = (xValue[1] - xValue[0]) / n\n",
    "\n",
    "    A = np.zeros((n + 1, n + 1))\n",
    "    b = np.zeros(n + 1)\n",
    "\n",
    "    A[0, 0] = 1\n",
    "    b[0] = yValue[0]\n",
    "    A[n, n] = 1\n",
    "    b[n] = yValue[1]\n",
    "\n",
    "    for i in range(1, n):\n",
    "        t = xValue[0] + i * h\n",
    "\n",
    "        b[i] = cValue(t)\n",
    "        A[i, i - 1] = 1 / math.pow(h, 2) + aValue(t) * 1 / (2 * h)\n",
    "        A[i, i] = -2 / math.pow(h, 2) - bValue(t)\n",
    "        A[i, i + 1] = 1 / math.pow(h, 2) - aValue(t) * 1 / (2 * h)\n",
    "    return A, b"
   ]
  },
  {
   "cell_type": "markdown",
   "metadata": {},
   "source": [
    "#### Implementierung der Funktion: *fd_ode2*"
   ]
  },
  {
   "cell_type": "code",
   "execution_count": 5,
   "metadata": {},
   "outputs": [],
   "source": [
    "def fd_ode2(aValue, bValue, cValue, xValue, yValue, nValue):\n",
    "    n = nValue\n",
    "    h = (xValue[1] - xValue[0]) / n\n",
    "\n",
    "    A = np.zeros((n + 1, n + 1))\n",
    "    b = np.zeros(n + 1)\n",
    "\n",
    "    A[0, 0] = 1\n",
    "    b[0] = yValue[0]\n",
    "    A[n, n] = 1\n",
    "    b[n] = yValue[1]\n",
    "\n",
    "    for i in range(1, n):\n",
    "        t = xValue[0] + i * h\n",
    "        if i == 1 or n - 1:\n",
    "            b[i] = cValue(t)\n",
    "            A[i, i - 1] = 1 / math.pow(h, 2) + aValue(t) * 1 / (2 * h)\n",
    "            A[i, i] = -2 / math.pow(h, 2) - bValue(t)\n",
    "            A[i, i + 1] = 1 / math.pow(h, 2) - aValue(t) * 1 / (2 * h)\n",
    "        else:\n",
    "            b[i] = cValue(t)\n",
    "            A[i, i - 2] = -1 / (12 * math.pow(h, 2)) - aValue(t) * 1 / (12 * h)\n",
    "            A[i, i - 1] = 16 / (12 * math.pow(h, 2)) + aValue(t) * 8 / (12 * h)\n",
    "            A[i, i] = -30 / (12 * math.pow(h, 2)) - bValue(t)\n",
    "            A[i, i + 1] = 16 / (12 * math.pow(h, 2)) - aValue(t) * 8 / (12 * h)\n",
    "            A[i, i + 2] = -1 / (12 * math.pow(h, 2)) + aValue(t) * 1 / (12 * h)\n",
    "    return A, b"
   ]
  },
  {
   "cell_type": "markdown",
   "metadata": {},
   "source": [
    "### Aufgabe 4.0\n",
    "-------------"
   ]
  },
  {
   "cell_type": "markdown",
   "metadata": {},
   "source": [
    "#### Erstes Randwertproblem"
   ]
  },
  {
   "cell_type": "markdown",
   "metadata": {},
   "source": [
    "##### fd_ode1"
   ]
  },
  {
   "cell_type": "code",
   "execution_count": 61,
   "metadata": {},
   "outputs": [],
   "source": [
    "a = lambda x: -x/(6*math.pow(x, 2))\n",
    "b = lambda x: 1/(6*math.pow(x, 2))\n",
    "c = lambda x: 0\n",
    "\n",
    "xValue = [1, 64]\n",
    "yValue = [2, 12]\n",
    "nValue = 63\n",
    "\n",
    "A, b = fd_ode1(a, b, c, xValue, yValue, nValue)\n",
    "sol_ode1 = np.linalg.solve(A, b)"
   ]
  },
  {
   "cell_type": "code",
   "execution_count": 62,
   "metadata": {},
   "outputs": [
    {
     "data": {
      "text/plain": [
       "37.23342792133721"
      ]
     },
     "execution_count": 62,
     "metadata": {},
     "output_type": "execute_result"
    }
   ],
   "source": [
    "x = np.ones(len(b))\n",
    "w , v = np.linalg.eig(A)\n",
    "sol_ode1_conj = conjugated_gradient_decent(A, x, b, 1.0e-10)\n",
    "np.linalg.norm(sol_ode1-sol_ode1_conj)"
   ]
  },
  {
   "cell_type": "code",
   "execution_count": 63,
   "metadata": {},
   "outputs": [
    {
     "data": {
      "image/png": "[encoded data removed]",
      "text/plain": [
       "<Figure size 432x288 with 1 Axes>"
      ]
     },
     "metadata": {},
     "output_type": "display_data"
    }
   ],
   "source": [
    "t = np.linspace(xValue[0], xValue[1], nValue + 1)\n",
    "plt.plot(t, sol_ode1_conj)\n",
    "plt.show()"
   ]
  },
  {
   "cell_type": "code",
   "execution_count": 22,
   "metadata": {},
   "outputs": [
    {
     "data": {
      "image/png": "[encoded data removed]",
      "text/plain": [
       "<Figure size 432x288 with 1 Axes>"
      ]
     },
     "metadata": {},
     "output_type": "display_data"
    }
   ],
   "source": [
    "t = np.linspace(xValue[0], xValue[1], nValue + 1)\n",
    "plt.plot(t, sol_ode1)\n",
    "plt.show()"
   ]
  },
  {
   "cell_type": "code",
   "execution_count": 64,
   "metadata": {},
   "outputs": [
    {
     "name": "stdout",
     "output_type": "stream",
     "text": [
      "[-2.64475760e-03 -1.02368720e-02 -2.27545951e-02 -4.01733852e-02\n",
      " -6.24543303e-02 -8.95451311e-02 -1.21380715e-01 -1.57883668e-01\n",
      " -1.98964590e-01 -2.44522418e-01 -2.94444751e-01 -3.48608178e-01\n",
      " -4.06878618e-01 -4.69111677e-01 -5.35153033e-01 -6.04838825e-01\n",
      " -6.77996081e-01 -7.54443149e-01 -8.33990161e-01 -9.16439509e-01\n",
      " -1.00158634e+00 -1.08921906e+00 -1.17911989e+00 -1.27106538e+00\n",
      " -1.36482697e+00 -1.46017158e+00 -1.55686217e+00 -1.65465836e+00\n",
      " -1.75331696e+00 -1.85259266e+00 -1.95223860e+00 -2.05200695e+00\n",
      " -2.15164959e+00 -2.25091868e+00 -2.34956732e+00 -2.44735008e+00\n",
      " -2.54402371e+00 -2.63934768e+00 -2.73308478e+00 -2.82500172e+00\n",
      " -3.99799856e+00 -3.99093403e+00 -3.97883377e+00 -3.96175878e+00\n",
      " -3.93976764e+00 -3.91292498e+00 -3.88130428e+00 -3.84498904e+00\n",
      " -3.80407321e+00 -3.75866136e+00 -3.70886868e+00 -3.65482078e+00\n",
      " -3.59665357e+00 -3.53451292e+00 -3.46855439e+00 -3.39894289e+00\n",
      " -3.32585225e+00 -3.24946487e+00 -2.91486971e+00 -3.16997125e+00\n",
      " -3.08756952e+00 -3.00246502e+00  1.00000000e+00  1.00000000e+00]\n",
      "-0.25012515280082515\n"
     ]
    }
   ],
   "source": [
    "print(w)\n",
    "print(max(w)/min(w))"
   ]
  },
  {
   "cell_type": "markdown",
   "metadata": {},
   "source": [
    "Wie wir erkennen, unterscheiden sich die Plots maßgeblich in ihrer Darstellung. Während die Lösung des Problems mit dem Solver aus der Numpy Bibliothek die korrekte Lösung anzeigt, hat das Conjugierte Gradientenverfahren schwierigkeiten zu der Lösung zu konvergieren. Das Conjugierte Gradientenverfahren ist vorallem bei Positiv definiten System und kleiner Kondition schnell in seiner Konvergenz."
   ]
  },
  {
   "cell_type": "markdown",
   "metadata": {},
   "source": [
    "##### fd_ode2"
   ]
  },
  {
   "cell_type": "code",
   "execution_count": 65,
   "metadata": {},
   "outputs": [],
   "source": [
    "a = lambda x: -x/(6*math.pow(x, 2))\n",
    "b = lambda x: 1/(6*math.pow(x, 2))\n",
    "c = lambda x: 0\n",
    "\n",
    "xValue = [1, 64]\n",
    "yValue = [2, 12]\n",
    "nValue = 63\n",
    "\n",
    "A, b = fd_ode2(a, b, c, xValue, yValue, nValue)\n",
    "sol_ode2 = np.linalg.solve(A, b)"
   ]
  },
  {
   "cell_type": "code",
   "execution_count": 66,
   "metadata": {},
   "outputs": [
    {
     "data": {
      "text/plain": [
       "37.23342792133721"
      ]
     },
     "execution_count": 66,
     "metadata": {},
     "output_type": "execute_result"
    }
   ],
   "source": [
    "x = np.ones(len(b))\n",
    "w , v = np.linalg.eig(A)\n",
    "sol_ode2_conj = conjugated_gradient_decent(A, x, b, 1.0e-10)\n",
    "np.linalg.norm(sol_ode2-sol_ode2_conj)"
   ]
  },
  {
   "cell_type": "code",
   "execution_count": 32,
   "metadata": {},
   "outputs": [
    {
     "data": {
      "image/png": "[encoded data removed]",
      "text/plain": [
       "<Figure size 432x288 with 1 Axes>"
      ]
     },
     "metadata": {},
     "output_type": "display_data"
    }
   ],
   "source": [
    "t = np.linspace(xValue[0], xValue[1], nValue + 1)\n",
    "plt.plot(t, sol_ode1_conj)\n",
    "plt.show()"
   ]
  },
  {
   "cell_type": "code",
   "execution_count": 29,
   "metadata": {},
   "outputs": [
    {
     "data": {
      "image/png": "[encoded data removed]",
      "text/plain": [
       "<Figure size 432x288 with 1 Axes>"
      ]
     },
     "metadata": {},
     "output_type": "display_data"
    }
   ],
   "source": [
    "t = np.linspace(xValue[0], xValue[1], nValue + 1)\n",
    "plt.plot(t, sol_ode2)\n",
    "plt.show()"
   ]
  },
  {
   "cell_type": "code",
   "execution_count": 67,
   "metadata": {},
   "outputs": [
    {
     "name": "stdout",
     "output_type": "stream",
     "text": [
      "[-2.64475760e-03 -1.02368720e-02 -2.27545951e-02 -4.01733852e-02\n",
      " -6.24543303e-02 -8.95451311e-02 -1.21380715e-01 -1.57883668e-01\n",
      " -1.98964590e-01 -2.44522418e-01 -2.94444751e-01 -3.48608178e-01\n",
      " -4.06878618e-01 -4.69111677e-01 -5.35153033e-01 -6.04838825e-01\n",
      " -6.77996081e-01 -7.54443149e-01 -8.33990161e-01 -9.16439509e-01\n",
      " -1.00158634e+00 -1.08921906e+00 -1.17911989e+00 -1.27106538e+00\n",
      " -1.36482697e+00 -1.46017158e+00 -1.55686217e+00 -1.65465836e+00\n",
      " -1.75331696e+00 -1.85259266e+00 -1.95223860e+00 -2.05200695e+00\n",
      " -2.15164959e+00 -2.25091868e+00 -2.34956732e+00 -2.44735008e+00\n",
      " -2.54402371e+00 -2.63934768e+00 -2.73308478e+00 -2.82500172e+00\n",
      " -3.99799856e+00 -3.99093403e+00 -3.97883377e+00 -3.96175878e+00\n",
      " -3.93976764e+00 -3.91292498e+00 -3.88130428e+00 -3.84498904e+00\n",
      " -3.80407321e+00 -3.75866136e+00 -3.70886868e+00 -3.65482078e+00\n",
      " -3.59665357e+00 -3.53451292e+00 -3.46855439e+00 -3.39894289e+00\n",
      " -3.32585225e+00 -3.24946487e+00 -2.91486971e+00 -3.16997125e+00\n",
      " -3.08756952e+00 -3.00246502e+00  1.00000000e+00  1.00000000e+00]\n",
      "-0.25012515280082515\n"
     ]
    }
   ],
   "source": [
    "print(w)\n",
    "print(max(w)/min(w))"
   ]
  },
  {
   "cell_type": "markdown",
   "metadata": {},
   "source": [
    "\"\" \"\""
   ]
  },
  {
   "cell_type": "markdown",
   "metadata": {},
   "source": [
    "#### Zweites Randwertproblem"
   ]
  },
  {
   "cell_type": "markdown",
   "metadata": {},
   "source": [
    "##### fd_ode1"
   ]
  },
  {
   "cell_type": "code",
   "execution_count": 68,
   "metadata": {},
   "outputs": [],
   "source": [
    "a = lambda x: 0\n",
    "b = lambda x: -math.pow((math.pi/L), 2)\n",
    "c = lambda x: 0\n",
    "\n",
    "L = 10\n",
    "xValue = [0, 3*(L/2)]\n",
    "yValue = [0, -10]\n",
    "nValue = 30\n",
    "\n",
    "A, b = fd_ode1(a, b, c, [0, 3*(L/2)], [0, -10], nValue)\n",
    "sol_ode1 = np.linalg.solve(A, b)"
   ]
  },
  {
   "cell_type": "code",
   "execution_count": 69,
   "metadata": {},
   "outputs": [
    {
     "data": {
      "text/plain": [
       "133.5067155120729"
      ]
     },
     "execution_count": 69,
     "metadata": {},
     "output_type": "execute_result"
    }
   ],
   "source": [
    "x = np.ones(len(b))\n",
    "w , v = np.linalg.eig(A)\n",
    "sol_ode1_conj = conjugated_gradient_decent(A, x, b, 1.0e-10)\n",
    "np.linalg.norm(sol_ode1-sol_ode1_conj)"
   ]
  },
  {
   "cell_type": "code",
   "execution_count": 36,
   "metadata": {},
   "outputs": [
    {
     "data": {
      "image/png": "[encoded data removed]",
      "text/plain": [
       "<Figure size 432x288 with 1 Axes>"
      ]
     },
     "metadata": {},
     "output_type": "display_data"
    }
   ],
   "source": [
    "t = np.linspace(xValue[0], xValue[1], nValue + 1)\n",
    "plt.plot(t, sol_ode1_conj)\n",
    "plt.show()"
   ]
  },
  {
   "cell_type": "code",
   "execution_count": 26,
   "metadata": {},
   "outputs": [
    {
     "data": {
      "image/png": "[encoded data removed]",
      "text/plain": [
       "<Figure size 432x288 with 1 Axes>"
      ]
     },
     "metadata": {},
     "output_type": "display_data"
    }
   ],
   "source": [
    "t = np.linspace(xValue[0], xValue[1], nValue + 1)\n",
    "plt.plot(t, sol_ode1)\n",
    "plt.show()"
   ]
  },
  {
   "cell_type": "code",
   "execution_count": 70,
   "metadata": {},
   "outputs": [
    {
     "name": "stdout",
     "output_type": "stream",
     "text": [
      "[-15.85747912 -15.72648476 -15.50975609 -15.20966762 -14.82950719\n",
      " -14.37343991 -13.84646256 -13.25434881 -12.60358597 -11.90130396\n",
      " -11.1551971  -10.37343991  -9.56459748  -8.73753166  -7.90130396\n",
      "  -7.06507625  -6.23801043  -5.429168    -4.64741081   0.05487121\n",
      "  -0.07612315  -0.29285183  -0.59294029  -0.97310073  -1.429168\n",
      "  -1.95614535  -2.54825911  -3.19902194  -3.90130396   1.\n",
      "   1.        ]\n",
      "-0.06306172579511117\n"
     ]
    }
   ],
   "source": [
    "print(w)\n",
    "print(max(w)/min(w))"
   ]
  },
  {
   "cell_type": "markdown",
   "metadata": {},
   "source": [
    "\"\" \"\""
   ]
  },
  {
   "cell_type": "markdown",
   "metadata": {},
   "source": [
    "##### fd_ode2"
   ]
  },
  {
   "cell_type": "code",
   "execution_count": 71,
   "metadata": {},
   "outputs": [],
   "source": [
    "a = lambda x: 0\n",
    "b = lambda x: -math.pow((math.pi/L), 2)\n",
    "c = lambda x: 0\n",
    "\n",
    "L = 10\n",
    "xValue = [0, 3*(L/2)]\n",
    "yValue = [0, -10]\n",
    "nValue = 30\n",
    "\n",
    "A, b = fd_ode2(a, b, c, [0, 3*(L/2)], [0, -10], nValue)\n",
    "sol_ode2 = np.linalg.solve(A, b)"
   ]
  },
  {
   "cell_type": "code",
   "execution_count": 72,
   "metadata": {},
   "outputs": [
    {
     "data": {
      "text/plain": [
       "133.5067155120729"
      ]
     },
     "execution_count": 72,
     "metadata": {},
     "output_type": "execute_result"
    }
   ],
   "source": [
    "x = np.ones(len(b))\n",
    "w , v = np.linalg.eig(A)\n",
    "sol_ode2_conj = conjugated_gradient_decent(A, x, b, 1.0e-10)\n",
    "np.linalg.norm(sol_ode1-sol_ode2_conj)"
   ]
  },
  {
   "cell_type": "code",
   "execution_count": 73,
   "metadata": {},
   "outputs": [
    {
     "data": {
      "image/png": "[encoded data removed]",
      "text/plain": [
       "<Figure size 432x288 with 1 Axes>"
      ]
     },
     "metadata": {},
     "output_type": "display_data"
    }
   ],
   "source": [
    "t = np.linspace(xValue[0], xValue[1], nValue + 1)\n",
    "plt.plot(t, sol_ode2_conj)\n",
    "plt.show()"
   ]
  },
  {
   "cell_type": "code",
   "execution_count": 34,
   "metadata": {},
   "outputs": [
    {
     "data": {
      "image/png": "[encoded data removed]",
      "text/plain": [
       "<Figure size 432x288 with 1 Axes>"
      ]
     },
     "metadata": {},
     "output_type": "display_data"
    }
   ],
   "source": [
    "t = np.linspace(xValue[0], xValue[1], nValue + 1)\n",
    "plt.plot(t, sol_ode2)\n",
    "plt.show()"
   ]
  },
  {
   "cell_type": "code",
   "execution_count": 74,
   "metadata": {},
   "outputs": [
    {
     "name": "stdout",
     "output_type": "stream",
     "text": [
      "[-15.85747912 -15.72648476 -15.50975609 -15.20966762 -14.82950719\n",
      " -14.37343991 -13.84646256 -13.25434881 -12.60358597 -11.90130396\n",
      " -11.1551971  -10.37343991  -9.56459748  -8.73753166  -7.90130396\n",
      "  -7.06507625  -6.23801043  -5.429168    -4.64741081   0.05487121\n",
      "  -0.07612315  -0.29285183  -0.59294029  -0.97310073  -1.429168\n",
      "  -1.95614535  -2.54825911  -3.19902194  -3.90130396   1.\n",
      "   1.        ]\n",
      "-0.06306172579511117\n"
     ]
    }
   ],
   "source": [
    "print(w)\n",
    "print(max(w)/min(w))"
   ]
  },
  {
   "cell_type": "markdown",
   "metadata": {},
   "source": []
  },
  {
   "cell_type": "markdown",
   "metadata": {},
   "source": [
    "### Plots mit unterschiedlichen Intervallbreiten der Gitterpunkten"
   ]
  },
  {
   "cell_type": "markdown",
   "metadata": {},
   "source": [
    "#### fd_ode1"
   ]
  },
  {
   "cell_type": "code",
   "execution_count": 57,
   "metadata": {},
   "outputs": [
    {
     "data": {
      "image/png": "[encoded data removed]",
      "text/plain": [
       "<Figure size 432x288 with 1 Axes>"
      ]
     },
     "metadata": {},
     "output_type": "display_data"
    }
   ],
   "source": [
    "L = 10\n",
    "a = lambda x: 0\n",
    "b = lambda x: -math.pow((math.pi/L), 2)\n",
    "c = lambda x: 0\n",
    "\n",
    "\n",
    "xValue = [0, 3*(L/2)]\n",
    "yValue = [0, -10]\n",
    "nValue = 5\n",
    "\n",
    "A, b = fd_ode1(a, b, c, xValue, yValue, nValue)\n",
    "sol_ode1 = np.linalg.solve(A, b)\n",
    "t = np.linspace(xValue[0], xValue[1], nValue + 1)\n",
    "plt.plot(t, sol_ode1)\n",
    "plt.show()"
   ]
  },
  {
   "cell_type": "code",
   "execution_count": 53,
   "metadata": {},
   "outputs": [
    {
     "data": {
      "image/png": "[encoded data removed]",
      "text/plain": [
       "<Figure size 432x288 with 1 Axes>"
      ]
     },
     "metadata": {},
     "output_type": "display_data"
    }
   ],
   "source": [
    "L = 10\n",
    "a = lambda x: 0\n",
    "b = lambda x: -math.pow((math.pi/L), 2)\n",
    "c = lambda x: 0\n",
    "\n",
    "\n",
    "xValue = [0, 3*(L/2)]\n",
    "yValue = [0, -10]\n",
    "nValue = 25\n",
    "\n",
    "A, b = fd_ode1(a, b, c, xValue, yValue, nValue)\n",
    "sol_ode1 = np.linalg.solve(A, b)\n",
    "t = np.linspace(xValue[0], xValue[1], nValue + 1)\n",
    "plt.plot(t, sol_ode1)\n",
    "plt.show()"
   ]
  },
  {
   "cell_type": "code",
   "execution_count": 56,
   "metadata": {},
   "outputs": [
    {
     "data": {
      "image/png": "[encoded data removed]",
      "text/plain": [
       "<Figure size 432x288 with 1 Axes>"
      ]
     },
     "metadata": {},
     "output_type": "display_data"
    }
   ],
   "source": [
    "L = 10\n",
    "a = lambda x: 0\n",
    "b = lambda x: -math.pow((math.pi/L), 2)\n",
    "c = lambda x: 0\n",
    "\n",
    "\n",
    "xValue = [0, 3*(L/2)]\n",
    "yValue = [0, -10]\n",
    "nValue = 50\n",
    "\n",
    "A, b = fd_ode1(a, b, c, xValue, yValue, nValue)\n",
    "sol_ode1 = np.linalg.solve(A, b)\n",
    "t = np.linspace(xValue[0], xValue[1], nValue + 1)\n",
    "plt.plot(t, sol_ode1)\n",
    "plt.show()"
   ]
  },
  {
   "cell_type": "markdown",
   "metadata": {},
   "source": [
    "#### fd_ode2"
   ]
  },
  {
   "cell_type": "code",
   "execution_count": 59,
   "metadata": {},
   "outputs": [
    {
     "data": {
      "image/png": "[encoded data removed]",
      "text/plain": [
       "<Figure size 432x288 with 1 Axes>"
      ]
     },
     "metadata": {},
     "output_type": "display_data"
    }
   ],
   "source": [
    "L = 10\n",
    "a = lambda x: 0\n",
    "b = lambda x: -math.pow((math.pi/L), 2)\n",
    "c = lambda x: 0\n",
    "\n",
    "\n",
    "xValue = [0, 3*(L/2)]\n",
    "yValue = [0, -10]\n",
    "nValue = 5\n",
    "\n",
    "A, b = fd_ode2(a, b, c, xValue, yValue, nValue)\n",
    "sol_ode2 = np.linalg.solve(A, b)\n",
    "t = np.linspace(xValue[0], xValue[1], nValue + 1)\n",
    "plt.plot(t, sol_ode2)\n",
    "plt.show()"
   ]
  },
  {
   "cell_type": "code",
   "execution_count": 60,
   "metadata": {},
   "outputs": [
    {
     "data": {
      "image/png": "[encoded data removed]",
      "text/plain": [
       "<Figure size 432x288 with 1 Axes>"
      ]
     },
     "metadata": {},
     "output_type": "display_data"
    }
   ],
   "source": [
    "L = 10\n",
    "a = lambda x: 0\n",
    "b = lambda x: -math.pow((math.pi/L), 2)\n",
    "c = lambda x: 0\n",
    "\n",
    "\n",
    "xValue = [0, 3*(L/2)]\n",
    "yValue = [0, -10]\n",
    "nValue = 25\n",
    "\n",
    "A, b = fd_ode2(a, b, c, xValue, yValue, nValue)\n",
    "sol_ode2 = np.linalg.solve(A, b)\n",
    "t = np.linspace(xValue[0], xValue[1], nValue + 1)\n",
    "plt.plot(t, sol_ode2)\n",
    "plt.show()"
   ]
  },
  {
   "cell_type": "code",
   "execution_count": 61,
   "metadata": {},
   "outputs": [
    {
     "data": {
      "image/png": "[encoded data removed]",
      "text/plain": [
       "<Figure size 432x288 with 1 Axes>"
      ]
     },
     "metadata": {},
     "output_type": "display_data"
    }
   ],
   "source": [
    "L = 10\n",
    "a = lambda x: 0\n",
    "b = lambda x: -math.pow((math.pi/L), 2)\n",
    "c = lambda x: 0\n",
    "\n",
    "\n",
    "xValue = [0, 3*(L/2)]\n",
    "yValue = [0, -10]\n",
    "nValue = 50\n",
    "\n",
    "A, b = fd_ode2(a, b, c, xValue, yValue, nValue)\n",
    "sol_ode2 = np.linalg.solve(A, b)\n",
    "t = np.linspace(xValue[0], xValue[1], nValue + 1)\n",
    "plt.plot(t, sol_ode2)\n",
    "plt.show()"
   ]
  },
  {
   "cell_type": "markdown",
   "metadata": {},
   "source": [
    " "
   ]
  },
  {
   "cell_type": "markdown",
   "metadata": {},
   "source": [
    " "
   ]
  },
  {
   "cell_type": "markdown",
   "metadata": {},
   "source": [
    "### Aufgabe 5.0\n",
    "-------------"
   ]
  },
  {
   "cell_type": "markdown",
   "metadata": {},
   "source": [
    "#### fd_ode3"
   ]
  },
  {
   "cell_type": "code",
   "execution_count": 50,
   "metadata": {},
   "outputs": [],
   "source": [
    "def fd_ode3(aValue, bValue, cValue, xValue, yValue, nValue, derivative):\n",
    "    n = nValue\n",
    "    h = (xValue[1] - xValue[0]) / n\n",
    "\n",
    "    A = np.zeros((n + 1, n + 1))\n",
    "    b = np.zeros(n + 1)\n",
    "    if derivative[0] is True:\n",
    "        A[0, 0] = -1\n",
    "        A[0, 1] = 1\n",
    "        b[0] = yValue[0] * h\n",
    "    else:\n",
    "        A[0, 0] = 1\n",
    "        b[0] = yValue[0]\n",
    "\n",
    "    if derivative[1] is True:\n",
    "        A[n, n] = 1\n",
    "        A[n, n - 1] = -1\n",
    "        b[n] = yValue[1] * h\n",
    "    else:\n",
    "        A[n, n] = 1\n",
    "        b[n] = yValue[1]\n",
    "\n",
    "    for i in range(1, n):\n",
    "        t = xValue[0] + i * h\n",
    "\n",
    "        b[i] = cValue(t)\n",
    "        A[i, i - 1] = 1 / math.pow(h, 2) + aValue(t) * 1 / (2 * h)\n",
    "        A[i, i] = -2 / math.pow(h, 2) - bValue(t)\n",
    "        A[i, i + 1] = 1 / math.pow(h, 2) - aValue(t) * 1 / (2 * h)\n",
    "    return A, b"
   ]
  },
  {
   "cell_type": "markdown",
   "metadata": {},
   "source": [
    "### Aufgabe 6.0\n",
    "-------------"
   ]
  },
  {
   "cell_type": "code",
   "execution_count": 75,
   "metadata": {},
   "outputs": [],
   "source": [
    "L = 10\n",
    "\n",
    "a = lambda x: 0\n",
    "b = lambda x: 0\n",
    "c = lambda x: -math.sin((2*math.pi*x)/L)\n",
    "\n",
    "\n",
    "xValue = [0, L]\n",
    "yValue = [0, 0]\n",
    "nValue = 20\n",
    "\n",
    "A, b = fd_ode3(a, b, c, xValue, yValue, nValue, [True, True])\n",
    "sol_ode3 = np.linalg.lstsq(A, b, rcond=None)[0]"
   ]
  },
  {
   "cell_type": "code",
   "execution_count": 76,
   "metadata": {},
   "outputs": [
    {
     "data": {
      "text/plain": [
       "array([ 7.89218939e+00,  7.89218939e+00,  7.81493514e+00,  7.59073458e+00,\n",
       "        7.16427977e+00,  6.50006083e+00,  5.58584189e+00,  4.43385883e+00,\n",
       "        3.07962151e+00,  1.57843788e+00, -2.09789072e-14, -1.57843788e+00,\n",
       "       -3.07962151e+00, -4.43385883e+00, -5.58584189e+00, -6.50006083e+00,\n",
       "       -7.16427977e+00, -7.59073458e+00, -7.81493514e+00, -7.89218939e+00,\n",
       "       -7.89218939e+00])"
      ]
     },
     "execution_count": 76,
     "metadata": {},
     "output_type": "execute_result"
    }
   ],
   "source": [
    "sol_ode3"
   ]
  },
  {
   "cell_type": "code",
   "execution_count": 77,
   "metadata": {},
   "outputs": [
    {
     "name": "stderr",
     "output_type": "stream",
     "text": [
      "<ipython-input-14-a863b679155b>:10: RuntimeWarning: divide by zero encountered in double_scalars\n",
      "  alpha = -np.dot(r, d)/np.dot(d, Ad)\n",
      "<ipython-input-14-a863b679155b>:16: RuntimeWarning: invalid value encountered in add\n",
      "  d = -r + beta * d\n"
     ]
    },
    {
     "data": {
      "text/plain": [
       "nan"
      ]
     },
     "execution_count": 77,
     "metadata": {},
     "output_type": "execute_result"
    }
   ],
   "source": [
    "x = np.ones(len(b))\n",
    "w , v = np.linalg.eig(A)\n",
    "sol_ode3_conj = conjugated_gradient_decent(A, x, b, 1.0e-10)\n",
    "np.linalg.norm(sol_ode3-sol_ode3_conj)"
   ]
  },
  {
   "cell_type": "code",
   "execution_count": 78,
   "metadata": {},
   "outputs": [
    {
     "data": {
      "image/png": "[encoded data removed]",
      "text/plain": [
       "<Figure size 432x288 with 1 Axes>"
      ]
     },
     "metadata": {},
     "output_type": "display_data"
    }
   ],
   "source": [
    "t = np.linspace(xValue[0], xValue[1], nValue + 1)\n",
    "plt.plot(t, sol_ode3_conj)\n",
    "plt.show()"
   ]
  },
  {
   "cell_type": "code",
   "execution_count": 89,
   "metadata": {},
   "outputs": [
    {
     "data": {
      "image/png": "[encoded data removed]",
      "text/plain": [
       "<Figure size 432x288 with 1 Axes>"
      ]
     },
     "metadata": {},
     "output_type": "display_data"
    }
   ],
   "source": [
    "t = np.linspace(xValue[0], xValue[1], nValue + 1)\n",
    "plt.plot(t, sol_ode3)\n",
    "plt.show()"
   ]
  },
  {
   "cell_type": "code",
   "execution_count": 79,
   "metadata": {},
   "outputs": [
    {
     "name": "stdout",
     "output_type": "stream",
     "text": [
      "[-1.59016629e+01 -1.56090726e+01 -1.51294333e+01 -1.44745540e+01\n",
      " -1.36605586e+01 -1.27074879e+01 -1.16388064e+01 -1.04808240e+01\n",
      " -9.26204740e+00 -8.01247707e+00 -6.76286691e+00 -5.54396339e+00\n",
      " -4.38574209e+00 -3.31665650e+00 -2.36290888e+00 -1.54773824e+00\n",
      " -8.90682875e-01 -4.06718731e-01 -1.05784689e-01  1.26973836e-15\n",
      "  1.99986536e-01]\n",
      "-0.01257645429785178\n"
     ]
    }
   ],
   "source": [
    "print(w)\n",
    "print(max(w)/min(w))"
   ]
  },
  {
   "cell_type": "markdown",
   "metadata": {},
   "source": [
    "In diesem Fall erhalten wir leider eine Singuläre Matrix, für die wir keine Exakte Lösung des Problems bestimmen können. Stattdessen wenden wir das Least Squares Problem darauf an, um somit die beste Approximation der Lösung, durch minimierung des Fehlers zu erhalten.\n",
    "\n",
    "Wenn wir unsere Lösung betrachten und  dies mit unseren Angaben vergleichen, finden wir übereinstimmungen.\n",
    "Der Anfang sowie das Ende, wie aus dem Graphen zu entnehmen sind, weißen eine Steigung -> 0 auf."
   ]
  },
  {
   "cell_type": "markdown",
   "metadata": {},
   "source": [
    "### Aufgabe 7.0\n",
    "-------------"
   ]
  },
  {
   "cell_type": "markdown",
   "metadata": {},
   "source": [
    "#### Conjugiertes Gradienten - Verfahren"
   ]
  },
  {
   "cell_type": "code",
   "execution_count": 14,
   "metadata": {},
   "outputs": [],
   "source": [
    "def conjugated_gradient_decent(A, x, b, tol):\n",
    "    k = 0\n",
    "    max_it = 100\n",
    "    err = 2 * tol\n",
    "\n",
    "    r = -b + A.dot(x)\n",
    "    d = b - A.dot(x)\n",
    "    while (err > tol) and (k < max_it):\n",
    "        Ad = A.dot(d)\n",
    "        alpha = -np.dot(r, d)/np.dot(d, Ad)\n",
    "        x = x + alpha * d\n",
    "\n",
    "        r_prev = r\n",
    "        r = r + alpha * Ad\n",
    "        beta = (np.linalg.norm(r)**2) / (np.linalg.norm(r_prev)**2)\n",
    "        d = -r + beta * d\n",
    "        err = np.linalg.norm(r)\n",
    "        k = k + 1\n",
    "    return x"
   ]
  },
  {
   "cell_type": "markdown",
   "metadata": {},
   "source": [
    "### Aufgabe 8.0\n",
    "-------------"
   ]
  },
  {
   "cell_type": "markdown",
   "metadata": {},
   "source": [
    "#### Implementierung der vorgegebenen Matrix"
   ]
  },
  {
   "cell_type": "code",
   "execution_count": 4,
   "metadata": {},
   "outputs": [],
   "source": [
    "n = 50\n",
    "\n",
    "lower = np.ones(n)*-4\n",
    "mid = np.ones(n)*20\n",
    "upper = np.ones(n)*-4\n",
    "\n",
    "data = np.vstack((lower, (mid, upper)))\n",
    "diags = np.array([-1, 0, 1])\n",
    "first_tridiag = sparse.spdiags(data, diags, n, n).toarray()\n",
    "\n",
    "lower = np.ones(n)*-1\n",
    "mid = np.ones(n)*0\n",
    "upper = np.ones(n)*-1\n",
    "\n",
    "data = np.vstack((lower, (mid, upper)))\n",
    "diags = np.array([-1, 0, 1])\n",
    "second_tridiag = sparse.spdiags(data, diags, n, n).toarray()\n",
    "\n",
    "lower = np.ones(n)*-1\n",
    "mid = np.ones(n)*-4\n",
    "upper = np.ones(n)*-1\n",
    "\n",
    "data = np.vstack((lower, (mid, upper)))\n",
    "diags = np.array([-1, 0, 1])\n",
    "third_tridiag = sparse.spdiags(data, diags, n, n).toarray()\n",
    "\n",
    "\n",
    "A = (math.pow(n, 2)/6)*((sparse.kron(sparse.eye(n), first_tridiag).toarray())+(sparse.kron(second_tridiag, third_tridiag).toarray()))\n",
    "b = np.ones(len(A))"
   ]
  },
  {
   "cell_type": "markdown",
   "metadata": {},
   "source": [
    "#### Linalg Solve Verfahren  vs Conjugiertem Gradienten Verfahren"
   ]
  },
  {
   "cell_type": "code",
   "execution_count": 5,
   "metadata": {},
   "outputs": [],
   "source": [
    "tol = 1.0e-10\n",
    "x = np.ones(len(A))\n",
    "\n",
    "tic = time.perf_counter()\n",
    "sol_conjugated_gradient_decent = conjugated_gradient_decent(A, b, x, tol)\n",
    "toc = time.perf_counter()\n",
    "\n",
    "time_conjugated_gradient_decent = abs(toc - tic)"
   ]
  },
  {
   "cell_type": "code",
   "execution_count": 6,
   "metadata": {},
   "outputs": [
    {
     "data": {
      "text/plain": [
       "array([0.02022912, 0.02358713, 0.02358713, 0.02022912, 0.01291097,\n",
       "       0.01312229, 0.01312229, 0.01291097, 0.01291097, 0.01312229,\n",
       "       0.01312229, 0.01291097, 0.02022912, 0.02358713, 0.02358713,\n",
       "       0.02022912])"
      ]
     },
     "execution_count": 6,
     "metadata": {},
     "output_type": "execute_result"
    }
   ],
   "source": [
    "sol_conjugated_gradient_decent"
   ]
  },
  {
   "cell_type": "code",
   "execution_count": 75,
   "metadata": {},
   "outputs": [
    {
     "data": {
      "text/plain": [
       "0.0006144199996924726"
      ]
     },
     "execution_count": 75,
     "metadata": {},
     "output_type": "execute_result"
    }
   ],
   "source": [
    "time_conjugated_gradient_decent"
   ]
  },
  {
   "cell_type": "code",
   "execution_count": 76,
   "metadata": {},
   "outputs": [],
   "source": [
    "tic = time.perf_counter()\n",
    "sol_linalg_solve = np.linalg.solve(A, b)\n",
    "toc = time.perf_counter()\n",
    "\n",
    "time_linalg_solve = abs(toc -tic)"
   ]
  },
  {
   "cell_type": "code",
   "execution_count": 77,
   "metadata": {},
   "outputs": [
    {
     "data": {
      "text/plain": [
       "array([0.02022912, 0.02358713, 0.02358713, 0.02022912, 0.01291097,\n",
       "       0.01312229, 0.01312229, 0.01291097, 0.01291097, 0.01312229,\n",
       "       0.01312229, 0.01291097, 0.02022912, 0.02358713, 0.02358713,\n",
       "       0.02022912])"
      ]
     },
     "execution_count": 77,
     "metadata": {},
     "output_type": "execute_result"
    }
   ],
   "source": [
    "sol_linalg_solve"
   ]
  },
  {
   "cell_type": "code",
   "execution_count": 78,
   "metadata": {},
   "outputs": [
    {
     "data": {
      "text/plain": [
       "0.00017073100025299937"
      ]
     },
     "execution_count": 78,
     "metadata": {},
     "output_type": "execute_result"
    }
   ],
   "source": [
    "time_linalg_solve"
   ]
  },
  {
   "cell_type": "markdown",
   "metadata": {},
   "source": [
    " "
   ]
  },
  {
   "cell_type": "code",
   "execution_count": 79,
   "metadata": {},
   "outputs": [
    {
     "data": {
      "text/plain": [
       "0.2778734421705886"
      ]
     },
     "execution_count": 79,
     "metadata": {},
     "output_type": "execute_result"
    }
   ],
   "source": [
    "time_linalg_solve/time_conjugated_gradient_decent"
   ]
  },
  {
   "cell_type": "markdown",
   "metadata": {},
   "source": [
    "#### Durschnittliche Zeitdifferenz der beiden Verfahren"
   ]
  },
  {
   "cell_type": "markdown",
   "metadata": {},
   "source": [
    " "
   ]
  },
  {
   "cell_type": "code",
   "execution_count": 82,
   "metadata": {},
   "outputs": [],
   "source": [
    "count = 0\n",
    "time_conjGrad = []\n",
    "time_linalgSol = []\n",
    "for i in range(1, 20):\n",
    "\n",
    "    n = i\n",
    "\n",
    "    lower = np.ones(n)*-4\n",
    "    mid = np.ones(n)*20\n",
    "    upper = np.ones(n)*-4\n",
    "\n",
    "    data = np.vstack((lower, (mid, upper)))\n",
    "    diags = np.array([-1, 0, 1])\n",
    "    first_tridiag = sparse.spdiags(data, diags, n, n).toarray()\n",
    "\n",
    "    lower = np.ones(n)*-1\n",
    "    mid = np.ones(n)*0\n",
    "    upper = np.ones(n)*-1\n",
    "\n",
    "    data = np.vstack((lower, (mid, upper)))\n",
    "    diags = np.array([-1, 0, 1])\n",
    "    second_tridiag = sparse.spdiags(data, diags, n, n).toarray()\n",
    "\n",
    "    lower = np.ones(n)*-1\n",
    "    mid = np.ones(n)*-4\n",
    "    upper = np.ones(n)*-1\n",
    "\n",
    "    data = np.vstack((lower, (mid, upper)))\n",
    "    diags = np.array([-1, 0, 1])\n",
    "    third_tridiag = sparse.spdiags(data, diags, n, n).toarray()\n",
    "\n",
    "\n",
    "    A = (math.pow(n, 2)/6)*((sparse.kron(sparse.eye(n), first_tridiag).toarray())+(sparse.kron(second_tridiag, third_tridiag).toarray()))\n",
    "    b = np.ones(len(A))\n",
    "\n",
    "    tic = time.perf_counter()\n",
    "    np.linalg.solve(A, b)\n",
    "    toc = time.perf_counter()\n",
    "    time_linalg = abs(toc-tic)\n",
    "\n",
    "    x = np.ones(len(A))\n",
    "    tic = time.perf_counter()\n",
    "    conjugated_gradient_decent(A, b, x, 1.0e-10)\n",
    "    toc = time.perf_counter()\n",
    "    time_conjgrad = abs(tic-toc)\n",
    "\n",
    "    count = count + 1\n",
    "\n",
    "    time_conjGrad = np.append(time_conjGrad, time_conjgrad)\n",
    "    time_linalgSol = np.append(time_linalgSol, time_linalg)\n"
   ]
  },
  {
   "cell_type": "code",
   "execution_count": 83,
   "metadata": {},
   "outputs": [
    {
     "data": {
      "text/plain": [
       "0.40286552708074747"
      ]
     },
     "execution_count": 83,
     "metadata": {},
     "output_type": "execute_result"
    }
   ],
   "source": [
    "(sum(time_linalgSol)/count)/(sum(time_conjGrad)/count)"
   ]
  },
  {
   "cell_type": "markdown",
   "metadata": {},
   "source": [
    " "
   ]
  },
  {
   "cell_type": "markdown",
   "metadata": {},
   "source": [
    "Das konjugierte Gradienten - Verfahren konvergiert unter der berückstichtigung einer geeigneten Wahl für x0 mit nur wenigen Iterationen gegen die Lösung des Systems. Dabei ist das Verfahren im Durschnitt nur 0.5 - 0.2 langsamer als der Solver der Numpy Bibliothek linalg.solve(). Die Konvergenz ist abhängig von der Definitheit des Systems und die der Größe des Bruchs zwischen größten und kleinsten Eigenwert."
   ]
  }
 ],
 "metadata": {
  "kernelspec": {
   "display_name": "Python 3",
   "language": "python",
   "name": "python3"
  },
  "language_info": {
   "codemirror_mode": {
    "name": "ipython",
    "version": 3
   },
   "file_extension": ".py",
   "mimetype": "text/x-python",
   "name": "python",
   "nbconvert_exporter": "python",
   "pygments_lexer": "ipython3",
   "version": "3.8.5"
  }
 },
 "nbformat": 4,
 "nbformat_minor": 4
}
