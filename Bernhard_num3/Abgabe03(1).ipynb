{
 "cells": [
  {
   "cell_type": "markdown",
   "metadata": {},
   "source": [
    "# 3. Projekt zur Veranstaltung “Numerische Mathematik II“"
   ]
  },
  {
   "cell_type": "markdown",
   "metadata": {},
   "source": [
    "## QR-Verfahren zur Eigenwertbestimmung"
   ]
  },
  {
   "cell_type": "markdown",
   "metadata": {},
   "source": [
    "### Florian Bernhard 28258717"
   ]
  },
  {
   "cell_type": "markdown",
   "metadata": {},
   "source": [
    "-------"
   ]
  },
  {
   "cell_type": "markdown",
   "metadata": {},
   "source": [
    "#### Bibliotheks import"
   ]
  },
  {
   "cell_type": "code",
   "execution_count": 2,
   "metadata": {},
   "outputs": [],
   "source": [
    "import numpy as np\n",
    "import matplotlib.pyplot as plt\n",
    "from numpy.linalg import cond\n",
    "from numpy.linalg import eig"
   ]
  },
  {
   "cell_type": "markdown",
   "metadata": {},
   "source": [
    "-----"
   ]
  },
  {
   "cell_type": "markdown",
   "metadata": {},
   "source": [
    "# Aufgabe 1.0"
   ]
  },
  {
   "cell_type": "code",
   "execution_count": 3,
   "metadata": {},
   "outputs": [],
   "source": [
    "def qr1(Matrix_A):\n",
    "    tol = 1.0e-10\n",
    "    err = 2*tol\n",
    "    count = 0\n",
    "    while err > tol and count < 100:\n",
    "        count = count + 1\n",
    "        Q, R = np.linalg.qr(Matrix_A)\n",
    "        Matrix_A = R.dot(Q)\n",
    "        eig = np.diag(Matrix_A)\n",
    "        err = np.abs(np.linalg.norm(Matrix_A[-1, :]) - np.diag(Matrix_A)[-1])\n",
    "        #print(count)\n",
    "    return eig"
   ]
  },
  {
   "cell_type": "code",
   "execution_count": 4,
   "metadata": {},
   "outputs": [],
   "source": [
    "def qr2(Matrix_A):\n",
    "    m, n = np.shape(Matrix_A)\n",
    "    tol = 1.0e-10\n",
    "    for i in range(n - 1):\n",
    "        count = 0\n",
    "        err = 2 * tol\n",
    "        while err > tol:\n",
    "            sigma = np.diag(Matrix_A)[-1]\n",
    "            Q, R = np.linalg.qr(Matrix_A[:n - i, :n - i] - sigma * np.eye(n - i))\n",
    "            Matrix_A[:n - i, :n - i] = R.dot(Q) + sigma * np.eye(n - i)\n",
    "            if count >= 10:\n",
    "                eig = np.roots(np.poly(Matrix_A))\n",
    "                return eig\n",
    "            err = np.abs(np.linalg.norm(Matrix_A[-1, :])-np.diag(Matrix_A)[-1])\n",
    "            count = count + 1\n",
    "            #print(count)\n",
    "    return np.diag(Matrix_A)"
   ]
  },
  {
   "cell_type": "code",
   "execution_count": 5,
   "metadata": {},
   "outputs": [],
   "source": [
    "def sign(x):\n",
    "    if x < 0:\n",
    "        return -1\n",
    "    else:\n",
    "        return 1\n",
    "\n",
    "\n",
    "def hessenberg_method(Matrix_A):\n",
    "    m, n = np.shape(Matrix_A)\n",
    "    H = np.copy(Matrix_A)\n",
    "    Q = np.eye(m, n)\n",
    "    for k in range(n-2):\n",
    "        vk = H[k+1:n, k].reshape(n-(k+1), 1).copy()\n",
    "        vk[0] = vk[0] + sign(np.sign(vk[0])) * np.linalg.norm(vk)\n",
    "        vk = vk / np.linalg.norm(vk)\n",
    "        H[k+1:m, k:n] = H[k+1:m, k:n] - 2*vk.dot((vk.T.dot(H[k+1:m, k:n])))\n",
    "        H[:, k+1:n] = H[:, k+1:n] - 2*(H[:, k+1:n].dot(vk)).dot(vk.T)\n",
    "        Q[k+1:] = Q[k+1:] - 2 * vk.dot(vk.T.dot(Q[k+1:]))\n",
    "    return H"
   ]
  },
  {
   "cell_type": "code",
   "execution_count": 6,
   "metadata": {},
   "outputs": [],
   "source": [
    "def qr3(Matrix_A):\n",
    "    return qr2(hessenberg_method(Matrix_A))"
   ]
  },
  {
   "cell_type": "markdown",
   "metadata": {},
   "source": [
    "----"
   ]
  },
  {
   "cell_type": "markdown",
   "metadata": {},
   "source": [
    "# Aufgabe 2.0"
   ]
  },
  {
   "cell_type": "code",
   "execution_count": 6,
   "metadata": {},
   "outputs": [],
   "source": [
    "A = np.array([[5.0, 4.0, 2.0], [0.0, 1.0, -1.0], [-1.0, -1.0, 3.0]])\n",
    "B = np.array([[-1.0, 1.0, 3.0], [3.0, 3.0, -2.0], [-5.0, 2.0, 7.0]])\n",
    "C = np.array([[-5.0, -10.0, -10.0, 5.0], [4.0, 16.0, 11.0, -8.0], [12.0, 13.0, 8.0, -4.0], [22.0, 48.0, 28.0, -19.0]])\n",
    "D = np.array([[0.0, 0.0, 0.0, 1.0], [0.0, 0.0, -1.0, 0.0], [0.0, 1.0, 0.0, 0.0], [-1.0, 0.0, 0.0, 0.0]])"
   ]
  },
  {
   "cell_type": "code",
   "execution_count": 7,
   "metadata": {},
   "outputs": [
    {
     "data": {
      "text/plain": [
       "9.88662789094481"
      ]
     },
     "execution_count": 7,
     "metadata": {},
     "output_type": "execute_result"
    }
   ],
   "source": [
    "cond(A)"
   ]
  },
  {
   "cell_type": "code",
   "execution_count": 8,
   "metadata": {},
   "outputs": [
    {
     "data": {
      "text/plain": [
       "13.60874693634"
      ]
     },
     "execution_count": 8,
     "metadata": {},
     "output_type": "execute_result"
    }
   ],
   "source": [
    "cond(B)"
   ]
  },
  {
   "cell_type": "code",
   "execution_count": 9,
   "metadata": {},
   "outputs": [
    {
     "data": {
      "text/plain": [
       "198.83376471744333"
      ]
     },
     "execution_count": 9,
     "metadata": {},
     "output_type": "execute_result"
    }
   ],
   "source": [
    "cond(C)"
   ]
  },
  {
   "cell_type": "code",
   "execution_count": 10,
   "metadata": {},
   "outputs": [
    {
     "data": {
      "text/plain": [
       "1.0"
      ]
     },
     "execution_count": 10,
     "metadata": {},
     "output_type": "execute_result"
    }
   ],
   "source": [
    "cond(D)"
   ]
  },
  {
   "cell_type": "markdown",
   "metadata": {},
   "source": [
    "---"
   ]
  },
  {
   "cell_type": "code",
   "execution_count": 11,
   "metadata": {},
   "outputs": [
    {
     "name": "stdout",
     "output_type": "stream",
     "text": [
      "[4.00000002 3.99999998 1.        ]\n"
     ]
    }
   ],
   "source": [
    "eig_A = np.linalg.eigvals(A)\n",
    "print(eig_A)"
   ]
  },
  {
   "cell_type": "code",
   "execution_count": 12,
   "metadata": {},
   "outputs": [
    {
     "name": "stdout",
     "output_type": "stream",
     "text": [
      "[3.00001088+1.88367701e-05j 3.00001088-1.88367701e-05j\n",
      " 2.99997825+0.00000000e+00j]\n"
     ]
    }
   ],
   "source": [
    "eig_B = np.linalg.eigvals(B)\n",
    "print(eig_B)"
   ]
  },
  {
   "cell_type": "code",
   "execution_count": 13,
   "metadata": {},
   "outputs": [
    {
     "name": "stdout",
     "output_type": "stream",
     "text": [
      "[ 1.03007880e-14+5.j  1.03007880e-14-5.j -1.49880108e-15+5.j\n",
      " -1.49880108e-15-5.j]\n"
     ]
    }
   ],
   "source": [
    "eig_C = np.linalg.eigvals(C)\n",
    "print(eig_C)"
   ]
  },
  {
   "cell_type": "code",
   "execution_count": 14,
   "metadata": {},
   "outputs": [
    {
     "name": "stdout",
     "output_type": "stream",
     "text": [
      "[0.+1.j 0.-1.j 0.+1.j 0.-1.j]\n"
     ]
    }
   ],
   "source": [
    "eig_D = np.linalg.eigvals(D)\n",
    "print(eig_D)"
   ]
  },
  {
   "cell_type": "markdown",
   "metadata": {},
   "source": [
    "---"
   ]
  },
  {
   "cell_type": "code",
   "execution_count": 17,
   "metadata": {},
   "outputs": [
    {
     "data": {
      "text/plain": [
       "array([4.10241803, 3.89756825, 1.00001372])"
      ]
     },
     "execution_count": 17,
     "metadata": {},
     "output_type": "execute_result"
    }
   ],
   "source": [
    "qr1(A)"
   ]
  },
  {
   "cell_type": "code",
   "execution_count": 31,
   "metadata": {},
   "outputs": [
    {
     "name": "stdout",
     "output_type": "stream",
     "text": [
      "[4.00000002 3.99999998 1.        ]\n"
     ]
    }
   ],
   "source": [
    "print(eig_A)"
   ]
  },
  {
   "cell_type": "code",
   "execution_count": 19,
   "metadata": {},
   "outputs": [
    {
     "data": {
      "text/plain": [
       "array([3.06241857, 2.99583712, 2.94174431])"
      ]
     },
     "execution_count": 19,
     "metadata": {},
     "output_type": "execute_result"
    }
   ],
   "source": [
    "qr1(B)"
   ]
  },
  {
   "cell_type": "code",
   "execution_count": 32,
   "metadata": {},
   "outputs": [
    {
     "name": "stdout",
     "output_type": "stream",
     "text": [
      "[3.00001088+1.88367701e-05j 3.00001088-1.88367701e-05j\n",
      " 2.99997825+0.00000000e+00j]\n"
     ]
    }
   ],
   "source": [
    "print(eig_B)"
   ]
  },
  {
   "cell_type": "code",
   "execution_count": 21,
   "metadata": {},
   "outputs": [
    {
     "data": {
      "text/plain": [
       "array([ -5.,  16.,   8., -19.])"
      ]
     },
     "execution_count": 21,
     "metadata": {},
     "output_type": "execute_result"
    }
   ],
   "source": [
    "qr1(C)"
   ]
  },
  {
   "cell_type": "code",
   "execution_count": 33,
   "metadata": {},
   "outputs": [
    {
     "name": "stdout",
     "output_type": "stream",
     "text": [
      "[ 1.03007880e-14+5.j  1.03007880e-14-5.j -1.49880108e-15+5.j\n",
      " -1.49880108e-15-5.j]\n"
     ]
    }
   ],
   "source": [
    "print(eig_C)"
   ]
  },
  {
   "cell_type": "code",
   "execution_count": 24,
   "metadata": {},
   "outputs": [
    {
     "data": {
      "text/plain": [
       "array([0., 0., 0., 0.])"
      ]
     },
     "execution_count": 24,
     "metadata": {},
     "output_type": "execute_result"
    }
   ],
   "source": [
    "qr1(D)"
   ]
  },
  {
   "cell_type": "code",
   "execution_count": 34,
   "metadata": {},
   "outputs": [
    {
     "name": "stdout",
     "output_type": "stream",
     "text": [
      "[0.+1.j 0.-1.j 0.+1.j 0.-1.j]\n"
     ]
    }
   ],
   "source": [
    "print(eig_D)"
   ]
  },
  {
   "cell_type": "markdown",
   "metadata": {},
   "source": [
    "### Zusammenfassung der Ergebnisse:\n",
    "Für die Matrix A konvergiert das Verfahren qr1() mit 37 Iterationen [ print(it) ist in der Funktion ausgeklammert ] gegen die eigentlichen Eigenwerte. Dabei ist jedoch immer noch ein relativ großer Fehler zu verzeichnen, es lassen sich die Eigenwerte schon grob deuten, jedoch fehlt immernoch die gewisse Genauigkeit, was an der Uneffizienz des einfachen QR Algorithmus liegt.\n",
    "\n",
    "Für die weiten Matrizen B-D konvergiert das Verfahren nicht, der Iterationscounter überschreitet das Maximal von Iterationen. Dies is damit zu begründen, das bei complexen Eigenwerten das Verfahren nicht konvergiert und zudem auch nicht ausgelegt ist diese zu bestimmen. So sehen wir, dass diese Methode für diese Matrizen nicht mal zur groben Einschätzung der Eigenwerte zu gebrauchen ist."
   ]
  },
  {
   "cell_type": "markdown",
   "metadata": {},
   "source": [
    "---"
   ]
  },
  {
   "cell_type": "code",
   "execution_count": 35,
   "metadata": {},
   "outputs": [
    {
     "data": {
      "text/plain": [
       "array([1.        , 4.00067689, 3.99932311])"
      ]
     },
     "execution_count": 35,
     "metadata": {},
     "output_type": "execute_result"
    }
   ],
   "source": [
    "qr2(A)"
   ]
  },
  {
   "cell_type": "code",
   "execution_count": 36,
   "metadata": {},
   "outputs": [
    {
     "name": "stdout",
     "output_type": "stream",
     "text": [
      "[4.00000002 3.99999998 1.        ]\n"
     ]
    }
   ],
   "source": [
    "print(eig_A)"
   ]
  },
  {
   "cell_type": "code",
   "execution_count": 37,
   "metadata": {},
   "outputs": [
    {
     "data": {
      "text/plain": [
       "array([3.00001204+2.0846281e-05j, 3.00001204-2.0846281e-05j,\n",
       "       2.99997593+0.0000000e+00j])"
      ]
     },
     "execution_count": 37,
     "metadata": {},
     "output_type": "execute_result"
    }
   ],
   "source": [
    "qr2(B)"
   ]
  },
  {
   "cell_type": "code",
   "execution_count": 38,
   "metadata": {},
   "outputs": [
    {
     "name": "stdout",
     "output_type": "stream",
     "text": [
      "[3.00001088+1.88367701e-05j 3.00001088-1.88367701e-05j\n",
      " 2.99997825+0.00000000e+00j]\n"
     ]
    }
   ],
   "source": [
    "print(eig_B)"
   ]
  },
  {
   "cell_type": "code",
   "execution_count": 39,
   "metadata": {},
   "outputs": [
    {
     "data": {
      "text/plain": [
       "array([-2.55244437e-09+5.00000001j, -2.55244437e-09-5.00000001j,\n",
       "        2.55244326e-09+4.99999999j,  2.55244326e-09-4.99999999j])"
      ]
     },
     "execution_count": 39,
     "metadata": {},
     "output_type": "execute_result"
    }
   ],
   "source": [
    "qr2(C)"
   ]
  },
  {
   "cell_type": "code",
   "execution_count": 40,
   "metadata": {},
   "outputs": [
    {
     "name": "stdout",
     "output_type": "stream",
     "text": [
      "[ 1.03007880e-14+5.j  1.03007880e-14-5.j -1.49880108e-15+5.j\n",
      " -1.49880108e-15-5.j]\n"
     ]
    }
   ],
   "source": [
    "print(eig_C)"
   ]
  },
  {
   "cell_type": "code",
   "execution_count": 41,
   "metadata": {},
   "outputs": [
    {
     "data": {
      "text/plain": [
       "array([ 4.89111182e-12+1.00000001j,  4.89111182e-12-1.00000001j,\n",
       "       -4.89091753e-12+0.99999999j, -4.89091753e-12-0.99999999j])"
      ]
     },
     "execution_count": 41,
     "metadata": {},
     "output_type": "execute_result"
    }
   ],
   "source": [
    "qr2(D)"
   ]
  },
  {
   "cell_type": "code",
   "execution_count": 42,
   "metadata": {},
   "outputs": [
    {
     "name": "stdout",
     "output_type": "stream",
     "text": [
      "[0.+1.j 0.-1.j 0.+1.j 0.-1.j]\n"
     ]
    }
   ],
   "source": [
    "print(eig_D)"
   ]
  },
  {
   "cell_type": "markdown",
   "metadata": {},
   "source": [
    "### Zusammenfassung der Ergebnisse:\n",
    "Das Verfahren qr2() konvergiert für die Matrix A mit nur 8 Iterationen gegen das gewünschte Ergebnis, unter berücksichtigung von Rundungsfehlern. \n",
    "\n",
    "Für die Matrix B konvergiert das Verfahren gegen den Realteil der eigentlichen Eigenwerte mit 13 Iterationen, jedoch wird hierbei nicht der Complexe Anteil berechnent, was an der Fehlerfunktion liegt. Diese verzeichnet weitehin eine Konvergenz, wenn diese Ausbleiben würde, wechselt der Algorithmus zum Charakteristischen Polynom.\n",
    "\n",
    "Für die Matrizen C & D wird der maximale Iterationscount von 50 überschritten und es wird das Charakteristische Polynom der Matrizen berechnet, was uns erlaubt auch den Fall von complexen Eigenwerten abzudecken. Die Ergebnisse sind unter berückstichtigung der Rundungsfehler Genau genug um die Eigenwerte mit diesem Verfahren numerisch anzunähern."
   ]
  },
  {
   "cell_type": "markdown",
   "metadata": {},
   "source": [
    "---"
   ]
  },
  {
   "cell_type": "code",
   "execution_count": 43,
   "metadata": {},
   "outputs": [
    {
     "data": {
      "text/plain": [
       "array([1.        , 4.00444925, 3.99555075])"
      ]
     },
     "execution_count": 43,
     "metadata": {},
     "output_type": "execute_result"
    }
   ],
   "source": [
    "qr3(A)"
   ]
  },
  {
   "cell_type": "code",
   "execution_count": 47,
   "metadata": {},
   "outputs": [
    {
     "name": "stdout",
     "output_type": "stream",
     "text": [
      "[4.00000002 3.99999998 1.        ]\n"
     ]
    }
   ],
   "source": [
    "print(eig_A)"
   ]
  },
  {
   "cell_type": "code",
   "execution_count": 44,
   "metadata": {},
   "outputs": [
    {
     "data": {
      "text/plain": [
       "array([2.99179573, 2.99996048, 3.00824379])"
      ]
     },
     "execution_count": 44,
     "metadata": {},
     "output_type": "execute_result"
    }
   ],
   "source": [
    "qr3(B)"
   ]
  },
  {
   "cell_type": "code",
   "execution_count": 48,
   "metadata": {},
   "outputs": [
    {
     "name": "stdout",
     "output_type": "stream",
     "text": [
      "[3.00001088+1.88367701e-05j 3.00001088-1.88367701e-05j\n",
      " 2.99997825+0.00000000e+00j]\n"
     ]
    }
   ],
   "source": [
    "print(eig_B)"
   ]
  },
  {
   "cell_type": "code",
   "execution_count": 45,
   "metadata": {},
   "outputs": [
    {
     "data": {
      "text/plain": [
       "array([-3.25470206e-11+5.00000004j, -3.25470206e-11-5.00000004j,\n",
       "        3.25496297e-11+4.99999996j,  3.25496297e-11-4.99999996j])"
      ]
     },
     "execution_count": 45,
     "metadata": {},
     "output_type": "execute_result"
    }
   ],
   "source": [
    "qr3(C)"
   ]
  },
  {
   "cell_type": "code",
   "execution_count": 49,
   "metadata": {},
   "outputs": [
    {
     "name": "stdout",
     "output_type": "stream",
     "text": [
      "[ 1.03007880e-14+5.j  1.03007880e-14-5.j -1.49880108e-15+5.j\n",
      " -1.49880108e-15-5.j]\n"
     ]
    }
   ],
   "source": [
    "print(eig_C)"
   ]
  },
  {
   "cell_type": "code",
   "execution_count": 46,
   "metadata": {},
   "outputs": [
    {
     "data": {
      "text/plain": [
       "array([ 7.11120340e-09+1.j,  7.11120340e-09-1.j, -7.11120321e-09+1.j,\n",
       "       -7.11120321e-09-1.j])"
      ]
     },
     "execution_count": 46,
     "metadata": {},
     "output_type": "execute_result"
    }
   ],
   "source": [
    "qr3(D)"
   ]
  },
  {
   "cell_type": "code",
   "execution_count": 50,
   "metadata": {},
   "outputs": [
    {
     "name": "stdout",
     "output_type": "stream",
     "text": [
      "[0.+1.j 0.-1.j 0.+1.j 0.-1.j]\n"
     ]
    }
   ],
   "source": [
    "print(eig_D)"
   ]
  },
  {
   "cell_type": "markdown",
   "metadata": {},
   "source": [
    "### Zusammenfassung der Ergebnisse:\n",
    "Das Verfahren qr3() konvergiert für die Matrix A mit nur 1 Iteration gegen das gewünschte Ergebnis, unter berücksichtigung von Rundungsfehlern. Durch die übergebene Hessenbergform ersparen wir uns hierbei 7 Iterationen\n",
    "\n",
    "Für die Matrix B konvergiert das Verfahren gegen den Realteil der eigentlichen Eigenwerte mit 1 Iteration, jedoch wird hierbei nicht der Complexe Anteil berechnent, was an der Fehlerfunktion liegt. Diese verzeichnet weitehin eine Konvergenz, wenn diese Ausbleiben würde, wechselt der Algorithmus zum Charakteristischen Polynom.\n",
    "\n",
    "Für die Matrizen C & D wird der maximale Iterationscount von 50 überschritten und es wird das Charakteristische Polynom der Matrizen berechnet, was uns erlaubt auch den Fall von complexen Eigenwerten abzudecken. Die Ergebnisse sind unter berückstichtigung der Rundungsfehler Genau genug um die Eigenwerte mit diesem Verfahren numerisch anzunähern."
   ]
  },
  {
   "cell_type": "markdown",
   "metadata": {},
   "source": [
    "----"
   ]
  },
  {
   "cell_type": "markdown",
   "metadata": {},
   "source": [
    "# Aufgabe 3.0"
   ]
  },
  {
   "cell_type": "code",
   "execution_count": 7,
   "metadata": {},
   "outputs": [],
   "source": [
    "def potenz_method(Matrix_A,x):\n",
    "    n = 0\n",
    "    tol = 1.0e-5\n",
    "    err = 2*tol\n",
    "    x = x/np.linalg.norm(x)\n",
    "    while err > tol:\n",
    "        n = n+1\n",
    "        a = Matrix_A.dot(x)\n",
    "        eig = np.transpose(x).dot(a)\n",
    "        x_prev = x\n",
    "        x = a/np.linalg.norm(a)\n",
    "        err = np.linalg.norm(abs(x) - abs(x_prev))\n",
    "    return eig, x"
   ]
  },
  {
   "cell_type": "code",
   "execution_count": 8,
   "metadata": {},
   "outputs": [],
   "source": [
    "def gershgorin_disk(Matrix_A):\n",
    "    m, n = np.shape(Matrix_A)\n",
    "    R = np.zeros(n) \n",
    "    estimated_eig = np.zeros((m,2))\n",
    "    for i in range(n):\n",
    "        R[i] = sum(abs(Matrix_A[i, :])) - abs(Matrix_A[i, i])\n",
    "\n",
    "    eigenvalues = np.linalg.eigvals(Matrix_A)\n",
    "\n",
    "    fig, ax = plt.subplots()\n",
    "    for k in range(n):\n",
    "        x, y = Matrix_A[k,k].real, Matrix_A[k,k].imag\n",
    "        ax.add_artist( plt.Circle((x, y), R[k], alpha=0.5) )\n",
    "        plt.plot(eigenvalues[k].real, eigenvalues[k].imag, 'k+')\n",
    "        estimated_eig[k, 0] = np.diag(Matrix_A)[k]-R[k]\n",
    "        estimated_eig[k, 1] = np.diag(Matrix_A)[k]+R[k]\n",
    "    ax.axis([-2.5, 2.5, -2.5, 2.5])\n",
    "    ax.set_aspect(1)\n",
    "    plt.xlabel(\"$x$\")\n",
    "    plt.ylabel(\"$y$\")\n",
    "    plt.title(\"Gershgorin disks and eigenvalues $x + iy$\")\n",
    "    plt.show()\n",
    "    return estimated_eig"
   ]
  },
  {
   "cell_type": "code",
   "execution_count": 9,
   "metadata": {},
   "outputs": [],
   "source": [
    "def inv_shift_pot_method(Matrix_A, x, lamda):\n",
    "    n = 0\n",
    "    tol = 1.0e-5\n",
    "    err = 2 * tol\n",
    "    x = x / np.linalg.norm(x)\n",
    "    while err > tol:\n",
    "        n = n + 1\n",
    "        a = np.linalg.solve(Matrix_A-lamda*np.eye(len(Matrix_A)), x)\n",
    "        eig = np.transpose(x).dot(a)\n",
    "        x_prev = x\n",
    "        x = a / np.linalg.norm(a)\n",
    "        err = np.linalg.norm(abs(x) - abs(x_prev))\n",
    "    eig = (1/eig) + lamda\n",
    "    return eig, x"
   ]
  },
  {
   "cell_type": "code",
   "execution_count": 10,
   "metadata": {},
   "outputs": [],
   "source": [
    "def rayley_method(Matrix_A, x, lamda):\n",
    "    n = 0\n",
    "    tol = 1.0e-5\n",
    "    err = 2 * tol\n",
    "    x = x / np.linalg.norm(x)\n",
    "    while err > tol:\n",
    "        n = n + 1\n",
    "        a = np.linalg.solve(Matrix_A-lamda*np.eye(len(Matrix_A)), x)\n",
    "        eig = np.transpose(x).dot(a)\n",
    "        x_prev = x\n",
    "        x = a / np.linalg.norm(a)\n",
    "        lamda = np.transpose(x).dot(Matrix_A.dot(x))\n",
    "        err = np.linalg.norm(abs(x) - abs(x_prev))\n",
    "    eig = (1/eig) + lamda\n",
    "    return eig, x"
   ]
  },
  {
   "cell_type": "code",
   "execution_count": 11,
   "metadata": {},
   "outputs": [
    {
     "name": "stdout",
     "output_type": "stream",
     "text": [
      "[[0.01       0.435      0.01       0.01       0.01       0.01\n",
      "  0.01       0.01       0.435      0.01       0.01       0.01\n",
      "  0.01       0.01       0.01      ]\n",
      " [0.01       0.01       0.29333333 0.01       0.29333333 0.01\n",
      "  0.29333333 0.01       0.01       0.01       0.01       0.01\n",
      "  0.01       0.01       0.01      ]\n",
      " [0.01       0.29333333 0.01       0.01       0.01       0.29333333\n",
      "  0.01       0.29333333 0.01       0.01       0.01       0.01\n",
      "  0.01       0.01       0.01      ]\n",
      " [0.01       0.01       0.435      0.01       0.01       0.01\n",
      "  0.01       0.01       0.01       0.01       0.01       0.435\n",
      "  0.01       0.01       0.01      ]\n",
      " [0.435      0.01       0.01       0.01       0.01       0.01\n",
      "  0.01       0.01       0.01       0.435      0.01       0.01\n",
      "  0.01       0.01       0.01      ]\n",
      " [0.01       0.01       0.01       0.01       0.01       0.01\n",
      "  0.01       0.01       0.01       0.435      0.435      0.01\n",
      "  0.01       0.01       0.01      ]\n",
      " [0.01       0.01       0.01       0.01       0.01       0.01\n",
      "  0.01       0.01       0.01       0.435      0.435      0.01\n",
      "  0.01       0.01       0.01      ]\n",
      " [0.01       0.01       0.01       0.435      0.01       0.01\n",
      "  0.01       0.01       0.01       0.01       0.435      0.01\n",
      "  0.01       0.01       0.01      ]\n",
      " [0.01       0.01       0.01       0.01       0.29333333 0.29333333\n",
      "  0.01       0.01       0.01       0.29333333 0.01       0.01\n",
      "  0.01       0.01       0.01      ]\n",
      " [0.01       0.01       0.01       0.01       0.01       0.01\n",
      "  0.01       0.01       0.01       0.01       0.01       0.01\n",
      "  0.29333333 0.01       0.01      ]\n",
      " [0.01       0.01       0.01       0.01       0.01       0.01\n",
      "  0.01       0.01       0.01       0.01       0.01       0.01\n",
      "  0.01       0.01       0.29333333]\n",
      " [0.01       0.01       0.01       0.01       0.01       0.01\n",
      "  0.29333333 0.29333333 0.01       0.01       0.29333333 0.01\n",
      "  0.01       0.01       0.01      ]\n",
      " [0.01       0.01       0.01       0.01       0.01       0.01\n",
      "  0.01       0.01       0.435      0.01       0.01       0.01\n",
      "  0.01       0.435      0.01      ]\n",
      " [0.01       0.01       0.01       0.01       0.01       0.01\n",
      "  0.01       0.01       0.01       0.29333333 0.29333333 0.01\n",
      "  0.01       0.01       0.29333333]\n",
      " [0.01       0.01       0.01       0.01       0.01       0.01\n",
      "  0.01       0.01       0.01       0.01       0.01       0.29333333\n",
      "  0.01       0.29333333 0.01      ]]\n"
     ]
    }
   ],
   "source": [
    "\"\"\"M = np.array([[0,1,0,0,0,0,0,0,1,0,0,0,0,0,0],\n",
    "              [0,0,1,0,1,0,1,0,0,0,0,0,0,0,0],\n",
    "              [0,1,0,0,0,1,0,1,0,0,0,0,0,0,0],\n",
    "              [0,0,1,0,0,0,0,0,0,0,0,1,0,0,0],\n",
    "              [1,0,0,0,0,0,0,0,0,1,0,0,0,0,0],\n",
    "              [0,0,0,0,0,0,0,0,0,1,1,0,0,0,0],\n",
    "              [0,0,0,0,0,0,0,0,0,1,1,0,0,0,0],\n",
    "              [0,0,0,1,0,0,0,0,0,0,1,0,0,0,0],\n",
    "              [0,0,0,0,1,1,0,0,0,1,0,0,0,0,0],\n",
    "              [0,0,0,0,0,0,0,0,0,0,0,0,1,0,0],\n",
    "              [0,0,0,0,0,0,0,0,0,0,0,0,0,0,1],\n",
    "              [0,0,0,0,0,0,1,1,0,0,1,0,0,0,0],\n",
    "              [0,0,0,0,0,0,0,0,1,0,0,0,0,1,0],\n",
    "              [0,0,0,0,0,0,0,0,0,1,1,0,0,0,1],\n",
    "              [0,0,0,0,0,0,0,0,0,0,0,1,0,1,0]\n",
    "              ])\n",
    "              \"\"\"\n",
    "M = np.array([[0,1/2,0,0,0,0,0,0,1/2,0,0,0,0,0,0],\n",
    "              [0,0,1/3,0,1/3,0,1/3,0,0,0,0,0,0,0,0],\n",
    "              [0,1/3,0,0,0,1/3,0,1/3,0,0,0,0,0,0,0],\n",
    "              [0,0,1/2,0,0,0,0,0,0,0,0,1/2,0,0,0],\n",
    "              [1/2,0,0,0,0,0,0,0,0,1/2,0,0,0,0,0],\n",
    "              [0,0,0,0,0,0,0,0,0,1/2,1/2,0,0,0,0],\n",
    "              [0,0,0,0,0,0,0,0,0,1/2,1/2,0,0,0,0],\n",
    "              [0,0,0,1/2,0,0,0,0,0,0,1/2,0,0,0,0],\n",
    "              [0,0,0,0,1/3,1/3,0,0,0,1/3,0,0,0,0,0],\n",
    "              [0,0,0,0,0,0,0,0,0,0,0,0,1/3,0,0],\n",
    "              [0,0,0,0,0,0,0,0,0,0,0,0,0,0,1/3],\n",
    "              [0,0,0,0,0,0,1/3,1/3,0,0,1/3,0,0,0,0],\n",
    "              [0,0,0,0,0,0,0,0,1/2,0,0,0,0,1/2,0],\n",
    "              [0,0,0,0,0,0,0,0,0,1/3,1/3,0,0,0,1/3],\n",
    "              [0,0,0,0,0,0,0,0,0,0,0,1/3,0,1/3,0]\n",
    "              ])\n",
    "\n",
    "\n",
    "q = 0.15\n",
    "m, n = np.shape(M)\n",
    "E = (1-q) * M + q * (1/n) * np.ones((n, n))\n",
    "print(E)"
   ]
  },
  {
   "cell_type": "code",
   "execution_count": 79,
   "metadata": {},
   "outputs": [
    {
     "data": {
      "text/plain": [
       "(0.8190399118240539,\n",
       " array([0.34846988, 0.32148693, 0.31582955, 0.33617627, 0.30159927,\n",
       "        0.18044185, 0.18044185, 0.27958834, 0.26242981, 0.14510897,\n",
       "        0.11498462, 0.24439426, 0.28800465, 0.20496046, 0.20092367]))"
      ]
     },
     "execution_count": 79,
     "metadata": {},
     "output_type": "execute_result"
    }
   ],
   "source": [
    "potenz_method(E,np.ones((n)))"
   ]
  },
  {
   "cell_type": "code",
   "execution_count": 81,
   "metadata": {},
   "outputs": [
    {
     "data": {
      "text/plain": [
       "(array([ 8.19040293e-01+0.j        , -1.66516491e-01+0.49565682j,\n",
       "        -1.66516491e-01-0.49565682j, -2.36823192e-01+0.39607532j,\n",
       "        -2.36823192e-01-0.39607532j, -2.65870530e-01+0.20898397j,\n",
       "        -2.65870530e-01-0.20898397j, -2.37865289e-01+0.18865998j,\n",
       "        -2.37865289e-01-0.18865998j,  5.00661271e-01+0.j        ,\n",
       "         3.99966898e-01+0.j        ,  1.36491670e-01+0.j        ,\n",
       "         1.07990873e-01+0.j        , -6.27163514e-18+0.j        ,\n",
       "        -3.06024214e-16+0.j        ]),\n",
       " array([[ 3.48472219e-01+0.j        ,  3.96952320e-01+0.j        ,\n",
       "          3.96952320e-01-0.j        , -2.30484943e-01-0.26356207j,\n",
       "         -2.30484943e-01+0.26356207j,  4.51723353e-01+0.j        ,\n",
       "          4.51723353e-01-0.j        , -1.95100920e-01+0.34707817j,\n",
       "         -1.95100920e-01-0.34707817j, -4.67669146e-01+0.j        ,\n",
       "         -4.53957720e-01+0.j        , -2.99817733e-01+0.j        ,\n",
       "          1.35454548e-01+0.j        , -5.47921763e-02+0.j        ,\n",
       "         -3.03037596e-01+0.j        ],\n",
       "        [ 3.21487144e-01+0.j        ,  9.63364233e-03+0.20344781j,\n",
       "          9.63364233e-03-0.20344781j,  2.36856755e-01+0.02109611j,\n",
       "          2.36856755e-01-0.02109611j, -2.08618780e-01+0.10097187j,\n",
       "         -2.08618780e-01-0.10097187j, -5.78227400e-03-0.22583528j,\n",
       "         -5.78227400e-03+0.22583528j, -2.25573153e-01+0.j        ,\n",
       "         -3.54341750e-01+0.j        , -4.20745236e-01+0.j        ,\n",
       "         -2.43523500e-01+0.j        ,  0.00000000e+00+0.j        ,\n",
       "         -1.46091188e-16+0.j        ],\n",
       "        [ 3.15829849e-01+0.j        ,  3.50249973e-02+0.20177422j,\n",
       "          3.50249973e-02-0.20177422j, -1.55288844e-01+0.14935656j,\n",
       "         -1.55288844e-01-0.14935656j, -3.80413458e-02+0.05863058j,\n",
       "         -3.80413458e-02-0.05863058j,  5.46965646e-02-0.02438221j,\n",
       "          5.46965646e-02+0.02438221j,  7.19783924e-02+0.j        ,\n",
       "         -3.06651455e-01+0.j        , -9.23875024e-02+0.j        ,\n",
       "         -2.25366401e-01+0.j        ,  6.77179393e-17+0.j        ,\n",
       "         -7.87033246e-16+0.j        ],\n",
       "        [ 3.36178081e-01+0.j        ,  3.67095648e-01-0.05765044j,\n",
       "          3.67095648e-01+0.05765044j,  5.13346754e-01+0.j        ,\n",
       "          5.13346754e-01-0.j        ,  2.70042169e-01+0.05271715j,\n",
       "          2.70042169e-01-0.05271715j, -3.01558007e-01+0.14996175j,\n",
       "         -3.01558007e-01-0.14996175j,  2.84868600e-01+0.j        ,\n",
       "         -3.29168397e-01+0.j        ,  3.93840740e-01+0.j        ,\n",
       "          1.70436776e-01+0.j        ,  5.47921763e-02+0.j        ,\n",
       "          3.03037596e-01+0.j        ],\n",
       "        [ 3.01597357e-01+0.j        , -2.16818606e-01-0.31049949j,\n",
       "         -2.16818606e-01+0.31049949j, -5.65467492e-02+0.19925522j,\n",
       "         -5.65467492e-02-0.19925522j, -1.96693334e-01-0.34708047j,\n",
       "         -1.96693334e-01+0.34708047j,  4.08662816e-01+0.j        ,\n",
       "          4.08662816e-01-0.j        , -4.81761949e-01+0.j        ,\n",
       "         -3.77344775e-01+0.j        , -1.00326323e-01+0.j        ,\n",
       "          4.41481728e-01+0.j        , -5.23629170e-01+0.j        ,\n",
       "         -5.19228288e-01+0.j        ],\n",
       "        [ 1.80440587e-01+0.j        , -1.81523091e-01-0.00133669j,\n",
       "         -1.81523091e-01+0.00133669j, -1.35976162e-02-0.03174304j,\n",
       "         -1.35976162e-02+0.03174304j,  3.36856928e-01+0.04693036j,\n",
       "          3.36856928e-01-0.04693036j, -2.99954976e-01+0.19327758j,\n",
       "         -2.99954976e-01-0.19327758j,  1.99443499e-02+0.j        ,\n",
       "          2.13530923e-01+0.j        , -1.28528260e-02+0.j        ,\n",
       "         -3.17021458e-01+0.j        ,  4.68836994e-01+0.j        ,\n",
       "          2.16190692e-01+0.j        ],\n",
       "        [ 1.80440587e-01+0.j        , -1.81523091e-01-0.00133669j,\n",
       "         -1.81523091e-01+0.00133669j, -1.35976162e-02-0.03174304j,\n",
       "         -1.35976162e-02+0.03174304j,  3.36856928e-01+0.04693036j,\n",
       "          3.36856928e-01-0.04693036j, -2.99954976e-01+0.19327758j,\n",
       "         -2.99954976e-01-0.19327758j,  1.99443499e-02+0.j        ,\n",
       "          2.13530923e-01+0.j        , -1.28528260e-02+0.j        ,\n",
       "         -3.17021458e-01+0.j        ,  5.23629170e-01+0.j        ,\n",
       "          5.19228288e-01+0.j        ],\n",
       "        [ 2.79586348e-01+0.j        , -2.03422141e-01-0.26677045j,\n",
       "         -2.03422141e-01+0.26677045j, -3.00215730e-01-0.32787577j,\n",
       "         -3.00215730e-01+0.32787577j, -1.54949529e-01-0.22387382j,\n",
       "         -1.54949529e-01+0.22387382j,  2.84228891e-01+0.07259864j,\n",
       "          2.84228891e-01-0.07259864j,  3.41575015e-01+0.j        ,\n",
       "         -2.62332577e-01+0.j        ,  3.86212923e-01+0.j        ,\n",
       "          4.66559301e-01+0.j        , -4.68836994e-01+0.j        ,\n",
       "         -2.16190692e-01+0.j        ],\n",
       "        [ 2.62429102e-01+0.j        , -1.66326316e-01+0.25460004j,\n",
       "         -1.66326316e-01-0.25460004j,  1.38556636e-01-0.08676523j,\n",
       "          1.38556636e-01+0.08676523j, -8.67444512e-02+0.12588891j,\n",
       "         -8.67444512e-02-0.12588891j, -3.36426533e-02-0.0662574j ,\n",
       "         -3.36426533e-02+0.0662574j , -3.19515150e-01+0.j        ,\n",
       "         -5.30502372e-02+0.j        ,  3.22537500e-01+0.j        ,\n",
       "          2.72549618e-01+0.j        ,  3.11502521e-16+0.j        ,\n",
       "          6.83551988e-16+0.j        ],\n",
       "        [ 1.45108968e-01+0.j        ,  4.89530503e-02-0.13610853j,\n",
       "          4.89530503e-02+0.13610853j,  7.76557331e-02+0.10209709j,\n",
       "          7.76557331e-02-0.10209709j, -1.70782716e-01+0.12514261j,\n",
       "         -1.70782716e-01-0.12514261j, -2.81702965e-02-0.17690284j,\n",
       "         -2.81702965e-02+0.17690284j, -9.40208532e-02+0.j        ,\n",
       "          1.18666068e-01+0.j        ,  2.65678033e-01+0.j        ,\n",
       "         -2.86680954e-02+0.j        ,  5.47921763e-02+0.j        ,\n",
       "          3.03037596e-01+0.j        ],\n",
       "        [ 1.14984508e-01+0.j        ,  2.25618901e-02-0.07996763j,\n",
       "          2.25618901e-02+0.07996763j, -3.91405699e-02-0.09481658j,\n",
       "         -3.91405699e-02+0.09481658j, -7.57995647e-02+0.01587667j,\n",
       "         -7.57995647e-02-0.01587667j,  1.15703387e-01-0.07565558j,\n",
       "          1.15703387e-01+0.07565558j,  1.23354179e-01+0.j        ,\n",
       "          1.02114561e-01+0.j        , -2.71725018e-01+0.j        ,\n",
       "         -5.72782084e-02+0.j        , -5.47921763e-02+0.j        ,\n",
       "         -3.03037596e-01+0.j        ],\n",
       "        [ 2.44393706e-01+0.j        , -1.12784814e-01+0.24404089j,\n",
       "         -1.12784814e-01-0.24404089j, -1.29408423e-01+0.3313173j ,\n",
       "         -1.29408423e-01-0.3313173j , -1.69588633e-01+0.04591399j,\n",
       "         -1.69588633e-01-0.04591399j,  5.29618666e-02-0.20464467j,\n",
       "          5.29618666e-02+0.20464467j,  2.69442726e-01+0.j        ,\n",
       "          1.66985240e-02+0.j        ,  2.16952951e-01+0.j        ,\n",
       "          2.63281369e-01+0.j        , -1.08348703e-16+0.j        ,\n",
       "         -9.43269656e-17+0.j        ],\n",
       "        [ 2.88006030e-01+0.j        ,  2.07587117e-01+0.15828155j,\n",
       "          2.07587117e-01-0.15828155j, -2.05597889e-01+0.02661519j,\n",
       "         -2.05597889e-01-0.02661519j,  4.87900464e-02-0.23629302j,\n",
       "          4.87900464e-02+0.23629302j,  1.49617603e-01+0.11290812j,\n",
       "          1.49617603e-01-0.11290812j, -1.57381059e-01+0.j        ,\n",
       "          1.97255174e-01+0.j        ,  1.25107672e-01+0.j        ,\n",
       "         -1.90152272e-02+0.j        , -6.50092217e-16+0.j        ,\n",
       "         -9.12503682e-16+0.j        ],\n",
       "        [ 2.04959510e-01+0.j        , -1.00768473e-01-0.07941488j,\n",
       "         -1.00768473e-01+0.07941488j, -4.74394421e-02-0.11740638j,\n",
       "         -4.74394421e-02+0.11740638j,  1.59638974e-01+0.05065833j,\n",
       "          1.59638974e-01-0.05065833j, -9.47659286e-02+0.05824829j,\n",
       "         -9.47659286e-02-0.05824829j,  1.39954442e-01+0.j        ,\n",
       "          2.58513783e-01+0.j        , -2.84277523e-01+0.j        ,\n",
       "         -2.82773679e-01+0.j        ,  1.08348703e-16+0.j        ,\n",
       "         -2.17438048e-16+0.j        ],\n",
       "        [ 2.00924337e-01+0.j        ,  1.24885744e-01+0.07911916j,\n",
       "          1.24885744e-01-0.07911916j,  1.67294043e-01+0.02793374j,\n",
       "          1.67294043e-01-0.02793374j,  4.02545474e-02-0.06370285j,\n",
       "          4.02545474e-02+0.06370285j, -3.85842587e-02+0.12370812j,\n",
       "         -3.85842587e-02-0.12370812j,  2.26729270e-01+0.j        ,\n",
       "          1.73890274e-01+0.j        , -1.33778352e-01+0.j        ,\n",
       "         -2.99198075e-02+0.j        ,  2.97958933e-16+0.j        ,\n",
       "          4.62386161e-16+0.j        ]]))"
      ]
     },
     "execution_count": 81,
     "metadata": {},
     "output_type": "execute_result"
    }
   ],
   "source": [
    "np.linalg.eig(E)"
   ]
  },
  {
   "cell_type": "code",
   "execution_count": 12,
   "metadata": {},
   "outputs": [
    {
     "name": "stdout",
     "output_type": "stream",
     "text": [
      "[[0.         0.5        0.         0.         0.         0.\n",
      "  0.         0.         0.5        0.         0.         0.\n",
      "  0.         0.         0.        ]\n",
      " [0.         0.         0.33333333 0.         0.33333333 0.\n",
      "  0.33333333 0.         0.         0.         0.         0.\n",
      "  0.         0.         0.        ]\n",
      " [0.         0.33333333 0.         0.         0.         0.33333333\n",
      "  0.         0.33333333 0.         0.         0.         0.\n",
      "  0.         0.         0.        ]\n",
      " [0.         0.         0.5        0.         0.         0.\n",
      "  0.         0.         0.         0.         0.         0.5\n",
      "  0.         0.         0.        ]\n",
      " [0.5        0.         0.         0.         0.         0.\n",
      "  0.         0.         0.         0.5        0.         0.\n",
      "  0.         0.         0.        ]\n",
      " [0.         0.         0.         0.         0.         0.\n",
      "  0.         0.         0.         0.5        0.5        0.\n",
      "  0.         0.         0.        ]\n",
      " [0.         0.         0.         0.         0.         0.\n",
      "  0.         0.         0.         0.5        0.5        0.\n",
      "  0.         0.         0.        ]\n",
      " [0.         0.         0.         0.5        0.         0.\n",
      "  0.         0.         0.         0.         0.5        0.\n",
      "  0.         0.         0.        ]\n",
      " [0.         0.         0.         0.         0.33333333 0.33333333\n",
      "  0.         0.         0.         0.33333333 0.         0.\n",
      "  0.         0.         0.        ]\n",
      " [0.         0.         0.         0.         0.         0.\n",
      "  0.         0.         0.         0.         0.         0.\n",
      "  0.33333333 0.         0.        ]\n",
      " [0.         0.         0.         0.         0.         0.\n",
      "  0.         0.         0.         0.         0.         0.\n",
      "  0.         0.         0.33333333]\n",
      " [0.         0.         0.         0.         0.         0.\n",
      "  0.33333333 0.33333333 0.         0.         0.33333333 0.\n",
      "  0.         0.         0.        ]\n",
      " [0.         0.         0.         0.         0.         0.\n",
      "  0.         0.         0.5        0.         0.         0.\n",
      "  0.         0.5        0.        ]\n",
      " [0.         0.         0.         0.         0.         0.\n",
      "  0.         0.         0.         0.33333333 0.33333333 0.\n",
      "  0.         0.         0.33333333]\n",
      " [0.         0.         0.         0.         0.         0.\n",
      "  0.         0.         0.         0.         0.         0.33333333\n",
      "  0.         0.33333333 0.        ]]\n"
     ]
    }
   ],
   "source": [
    "q = 0\n",
    "m, n = np.shape(M)\n",
    "F = (1-q) * M + q * (1/n) * np.ones((n, n))\n",
    "print(F)"
   ]
  },
  {
   "cell_type": "code",
   "execution_count": 84,
   "metadata": {},
   "outputs": [
    {
     "data": {
      "text/plain": [
       "(0.7585927831651307,\n",
       " array([0.40117909, 0.35130179, 0.33252419, 0.3568096 , 0.3426918 ,\n",
       "        0.12426878, 0.12426878, 0.28118108, 0.25736655, 0.11874488,\n",
       "        0.06979134, 0.20882695, 0.27023794, 0.15263719, 0.15882997]))"
      ]
     },
     "execution_count": 84,
     "metadata": {},
     "output_type": "execute_result"
    }
   ],
   "source": [
    "potenz_method(F,np.ones((n)))"
   ]
  },
  {
   "cell_type": "code",
   "execution_count": 83,
   "metadata": {},
   "outputs": [
    {
     "data": {
      "text/plain": [
       "(array([ 7.58592433e-01+0.j        , -1.94057187e-01+0.58241957j,\n",
       "        -1.94057187e-01-0.58241957j, -2.78544005e-01+0.4660399j ,\n",
       "        -2.78544005e-01-0.4660399j , -3.06998512e-01+0.25274129j,\n",
       "        -3.06998512e-01-0.25274129j, -2.80222502e-01+0.21417584j,\n",
       "        -2.80222502e-01-0.21417584j,  5.90427783e-01+0.j        ,\n",
       "         4.84960006e-01+0.j        ,  1.24614180e-01+0.j        ,\n",
       "         1.61050009e-01+0.j        , -1.87853692e-16+0.j        ,\n",
       "         2.72609709e-17+0.j        ]),\n",
       " array([[-4.01181078e-01+0.j        , -3.96891492e-01+0.j        ,\n",
       "         -3.96891492e-01-0.j        , -2.30371727e-01-0.26990501j,\n",
       "         -2.30371727e-01+0.26990501j,  4.70467033e-01+0.j        ,\n",
       "          4.70467033e-01-0.j        , -2.00075513e-01+0.33042258j,\n",
       "         -2.00075513e-01-0.33042258j, -5.04643764e-01+0.j        ,\n",
       "          4.59441418e-01+0.j        , -1.51388090e-01+0.j        ,\n",
       "          3.04486808e-01+0.j        ,  1.96783865e-01+0.j        ,\n",
       "         -4.31548714e-01+0.j        ],\n",
       "        [-3.51301057e-01+0.j        , -1.08777513e-02-0.20455858j,\n",
       "         -1.08777513e-02+0.20455858j,  2.38187087e-01+0.02165925j,\n",
       "          2.38187087e-01-0.02165925j, -2.11150249e-01+0.09797432j,\n",
       "         -2.11150249e-01-0.09797432j, -8.38458177e-03-0.20549686j,\n",
       "         -8.38458177e-03+0.20549686j, -2.63658909e-01+0.j        ,\n",
       "          3.70366277e-01+0.j        ,  2.22429251e-01+0.j        ,\n",
       "          4.18375568e-01+0.j        ,  1.08448036e-16+0.j        ,\n",
       "          1.07668186e-16+0.j        ],\n",
       "        [-3.32523533e-01+0.j        , -3.64172937e-02-0.2028552j ,\n",
       "         -3.64172937e-02+0.2028552j , -1.54533365e-01+0.14634903j,\n",
       "         -1.54533365e-01-0.14634903j, -1.61094951e-02+0.06306672j,\n",
       "         -1.61094951e-02-0.06306672j,  5.85370082e-02-0.03565508j,\n",
       "          5.85370082e-02+0.03565508j,  2.46313682e-02+0.j        ,\n",
       "          3.38542193e-01+0.j        ,  2.16848102e-01+0.j        ,\n",
       "          8.68537294e-02+0.j        ,  1.26522709e-16+0.j        ,\n",
       "          1.87254007e-16+0.j        ],\n",
       "        [-3.56811445e-01+0.j        , -3.66582045e-01+0.05841207j,\n",
       "         -3.66582045e-01-0.05841207j,  5.10347479e-01+0.j        ,\n",
       "          5.10347479e-01-0.j        ,  2.54891789e-01+0.0477921j ,\n",
       "          2.54891789e-01-0.0477921j , -3.05456846e-01+0.17400761j,\n",
       "         -3.05456846e-01-0.17400761j,  2.24099221e-01+0.j        ,\n",
       "          3.76409844e-01+0.j        , -1.62058942e-01+0.j        ,\n",
       "         -3.96647696e-01+0.j        , -1.96783865e-01+0.j        ,\n",
       "          4.31548714e-01+0.j        ],\n",
       "        [-3.42691671e-01+0.j        ,  2.18504081e-01+0.30725016j,\n",
       "          2.18504081e-01-0.30725016j, -6.05126451e-02+0.20111441j,\n",
       "         -6.05126451e-02-0.20111441j, -1.90508317e-01-0.36153641j,\n",
       "         -1.90508317e-01+0.36153641j,  3.94219177e-01+0.j        ,\n",
       "          3.94219177e-01-0.j        , -5.09385802e-01+0.j        ,\n",
       "          3.80064669e-01+0.j        , -4.61232323e-01+0.j        ,\n",
       "          1.06952000e-01+0.j        ,  5.47385405e-01+0.j        ,\n",
       "         -3.46950323e-01+0.j        ],\n",
       "        [-1.24267766e-01+0.j        ,  1.81662699e-01-0.00431302j,\n",
       "          1.81662699e-01+0.00431302j, -1.42729744e-02-0.03254854j,\n",
       "         -1.42729744e-02+0.03254854j,  3.26799781e-01+0.04813662j,\n",
       "          3.26799781e-01-0.04813662j, -3.13670153e-01+0.20302229j,\n",
       "         -3.13670153e-01-0.20302229j,  1.77397979e-02+0.j        ,\n",
       "         -1.79768366e-01+0.j        ,  3.27537736e-01+0.j        ,\n",
       "          8.33243818e-03+0.j        , -3.50601539e-01+0.j        ,\n",
       "         -8.45983915e-02+0.j        ],\n",
       "        [-1.24267766e-01+0.j        ,  1.81662699e-01-0.00431302j,\n",
       "          1.81662699e-01+0.00431302j, -1.42729744e-02-0.03254854j,\n",
       "         -1.42729744e-02+0.03254854j,  3.26799781e-01+0.04813662j,\n",
       "          3.26799781e-01-0.04813662j, -3.13670153e-01+0.20302229j,\n",
       "         -3.13670153e-01-0.20302229j,  1.77397979e-02+0.j        ,\n",
       "         -1.79768366e-01+0.j        ,  3.27537736e-01+0.j        ,\n",
       "          8.33243818e-03+0.j        , -5.47385405e-01+0.j        ,\n",
       "          3.46950323e-01+0.j        ],\n",
       "        [-2.81180685e-01+0.j        ,  2.04856680e-01+0.2633377j ,\n",
       "          2.04856680e-01-0.2633377j , -2.99394541e-01-0.32746079j,\n",
       "         -2.99394541e-01+0.32746079j, -1.48631455e-01-0.21640971j,\n",
       "         -1.48631455e-01+0.21640971j,  2.95753947e-01+0.07006028j,\n",
       "          2.95753947e-01-0.07006028j,  2.89548244e-01+0.j        ,\n",
       "          3.01940361e-01+0.j        , -4.68899942e-01+0.j        ,\n",
       "         -3.84744624e-01+0.j        ,  3.50601539e-01+0.j        ,\n",
       "          8.45983915e-02+0.j        ],\n",
       "        [-2.57364803e-01+0.j        ,  1.64917044e-01-0.25775616j,\n",
       "          1.64917044e-01+0.25775616j,  1.41723251e-01-0.08602324j,\n",
       "          1.41723251e-01+0.08602324j, -7.77151090e-02+0.13983857j,\n",
       "         -7.77151090e-02-0.13983857j, -2.10211636e-02-0.06538951j,\n",
       "         -2.10211636e-02+0.06538951j, -3.32252488e-01+0.j        ,\n",
       "          7.52551492e-02+0.j        , -2.60159456e-01+0.j        ,\n",
       "         -3.20300361e-01+0.j        , -1.80746726e-17+0.j        ,\n",
       "         -2.38379447e-16+0.j        ],\n",
       "        [-1.18745539e-01+0.j        , -4.58100983e-02+0.1352739j ,\n",
       "         -4.58100983e-02-0.1352739j ,  7.66279199e-02+0.10146397j,\n",
       "          7.66279199e-02-0.10146397j, -1.70745136e-01+0.12568365j,\n",
       "         -1.70745136e-01-0.12568365j, -2.08626551e-02-0.16155813j,\n",
       "         -2.08626551e-02+0.16155813j, -9.68672953e-02+0.j        ,\n",
       "         -9.08090902e-02+0.j        ,  3.64359145e-02+0.j        ,\n",
       "         -2.70037567e-01+0.j        , -1.96783865e-01+0.j        ,\n",
       "          4.31548714e-01+0.j        ],\n",
       "        [-6.97916344e-02+0.j        , -1.96718341e-02+0.07800786j,\n",
       "         -1.96718341e-02-0.07800786j, -3.83387826e-02-0.09663513j,\n",
       "         -3.83387826e-02+0.09663513j, -5.42411782e-02+0.00995221j,\n",
       "         -5.42411782e-02-0.00995221j,  1.09692586e-01-0.08658584j,\n",
       "          1.09692586e-01+0.08658584j,  1.17815434e-01+0.j        ,\n",
       "         -8.35518453e-02+0.j        ,  4.51957783e-02+0.j        ,\n",
       "          2.72721445e-01+0.j        ,  1.96783865e-01+0.j        ,\n",
       "         -4.31548714e-01+0.j        ],\n",
       "        [-2.08825391e-01+0.j        ,  1.10652390e-01-0.24682448j,\n",
       "          1.10652390e-01+0.24682448j, -1.29775097e-01+0.32933555j,\n",
       "         -1.29775097e-01-0.32933555j, -1.64551377e-01+0.03643243j,\n",
       "         -1.64551377e-01-0.03643243j,  3.81183042e-02-0.19270956j,\n",
       "          3.81183042e-02+0.19270956j,  2.39997444e-01+0.j        ,\n",
       "          2.65452476e-02+0.j        , -2.57237786e-01+0.j        ,\n",
       "         -2.14613960e-01+0.j        , -5.96464197e-16+0.j        ,\n",
       "          3.39261558e-16+0.j        ],\n",
       "        [-2.70238403e-01+0.j        , -2.09689168e-01-0.15879471j,\n",
       "         -2.09689168e-01+0.15879471j, -2.05891525e-01+0.02234846j,\n",
       "         -2.05891525e-01-0.02234846j,  6.19591686e-02-0.24521711j,\n",
       "          6.19591686e-02+0.24521711j,  1.21344101e-01+0.12241184j,\n",
       "          1.21344101e-01-0.12241184j, -1.71579427e-01+0.j        ,\n",
       "         -1.32116331e-01+0.j        ,  1.36212948e-02+0.j        ,\n",
       "         -1.30468658e-01+0.j        ,  1.08448036e-16+0.j        ,\n",
       "          4.08991342e-16+0.j        ],\n",
       "        [-1.52636812e-01+0.j        ,  1.01436632e-01+0.07513252j,\n",
       "          1.01436632e-01-0.07513252j, -4.78540988e-02-0.11833415j,\n",
       "         -4.78540988e-02+0.11833415j,  1.63625343e-01+0.04204329j,\n",
       "          1.63625343e-01-0.04204329j, -9.94208491e-02+0.04876236j,\n",
       "         -9.94208491e-02-0.04876236j,  1.29641966e-01+0.j        ,\n",
       "         -2.03397422e-01+0.j        ,  2.63554269e-01+0.j        ,\n",
       "          2.78276404e-01+0.j        ,  7.22986906e-17+0.j        ,\n",
       "         -1.77989801e-16+0.j        ],\n",
       "        [-1.58830217e-01+0.j        , -1.24847539e-01-0.07978574j,\n",
       "         -1.24847539e-01+0.07978574j,  1.67144587e-01+0.0271492j ,\n",
       "          1.67144587e-01-0.0271492j ,  4.24098796e-02-0.0502929j ,\n",
       "          4.24098796e-02+0.0502929j , -3.65812096e-02+0.14327041j,\n",
       "         -3.65812096e-02-0.14327041j,  2.08684517e-01+0.j        ,\n",
       "         -1.21557910e-01+0.j        ,  1.68961045e-02+0.j        ,\n",
       "          1.31765374e-01+0.j        ,  2.34970744e-16+0.j        ,\n",
       "         -7.26962339e-16+0.j        ]]))"
      ]
     },
     "execution_count": 83,
     "metadata": {},
     "output_type": "execute_result"
    }
   ],
   "source": [
    "np.linalg.eig(F)"
   ]
  },
  {
   "cell_type": "code",
   "execution_count": 13,
   "metadata": {},
   "outputs": [
    {
     "name": "stdout",
     "output_type": "stream",
     "text": [
      "[[0.03       0.305      0.03       0.03       0.03       0.03\n",
      "  0.03       0.03       0.305      0.03       0.03       0.03\n",
      "  0.03       0.03       0.03      ]\n",
      " [0.03       0.03       0.21333333 0.03       0.21333333 0.03\n",
      "  0.21333333 0.03       0.03       0.03       0.03       0.03\n",
      "  0.03       0.03       0.03      ]\n",
      " [0.03       0.21333333 0.03       0.03       0.03       0.21333333\n",
      "  0.03       0.21333333 0.03       0.03       0.03       0.03\n",
      "  0.03       0.03       0.03      ]\n",
      " [0.03       0.03       0.305      0.03       0.03       0.03\n",
      "  0.03       0.03       0.03       0.03       0.03       0.305\n",
      "  0.03       0.03       0.03      ]\n",
      " [0.305      0.03       0.03       0.03       0.03       0.03\n",
      "  0.03       0.03       0.03       0.305      0.03       0.03\n",
      "  0.03       0.03       0.03      ]\n",
      " [0.03       0.03       0.03       0.03       0.03       0.03\n",
      "  0.03       0.03       0.03       0.305      0.305      0.03\n",
      "  0.03       0.03       0.03      ]\n",
      " [0.03       0.03       0.03       0.03       0.03       0.03\n",
      "  0.03       0.03       0.03       0.305      0.305      0.03\n",
      "  0.03       0.03       0.03      ]\n",
      " [0.03       0.03       0.03       0.305      0.03       0.03\n",
      "  0.03       0.03       0.03       0.03       0.305      0.03\n",
      "  0.03       0.03       0.03      ]\n",
      " [0.03       0.03       0.03       0.03       0.21333333 0.21333333\n",
      "  0.03       0.03       0.03       0.21333333 0.03       0.03\n",
      "  0.03       0.03       0.03      ]\n",
      " [0.03       0.03       0.03       0.03       0.03       0.03\n",
      "  0.03       0.03       0.03       0.03       0.03       0.03\n",
      "  0.21333333 0.03       0.03      ]\n",
      " [0.03       0.03       0.03       0.03       0.03       0.03\n",
      "  0.03       0.03       0.03       0.03       0.03       0.03\n",
      "  0.03       0.03       0.21333333]\n",
      " [0.03       0.03       0.03       0.03       0.03       0.03\n",
      "  0.21333333 0.21333333 0.03       0.03       0.21333333 0.03\n",
      "  0.03       0.03       0.03      ]\n",
      " [0.03       0.03       0.03       0.03       0.03       0.03\n",
      "  0.03       0.03       0.305      0.03       0.03       0.03\n",
      "  0.03       0.305      0.03      ]\n",
      " [0.03       0.03       0.03       0.03       0.03       0.03\n",
      "  0.03       0.03       0.03       0.21333333 0.21333333 0.03\n",
      "  0.03       0.03       0.21333333]\n",
      " [0.03       0.03       0.03       0.03       0.03       0.03\n",
      "  0.03       0.03       0.03       0.03       0.03       0.21333333\n",
      "  0.03       0.21333333 0.03      ]]\n"
     ]
    }
   ],
   "source": [
    "q = 0.45\n",
    "m, n = np.shape(M)\n",
    "G = (1-q) * M + q * (1/n) * np.ones((n, n))\n",
    "print(G)"
   ]
  },
  {
   "cell_type": "code",
   "execution_count": 86,
   "metadata": {},
   "outputs": [
    {
     "data": {
      "text/plain": [
       "(0.9049015402660792,\n",
       " array([0.29615489, 0.28862098, 0.28802051, 0.29509624, 0.27318152,\n",
       "        0.23600989, 0.23600989, 0.26961742, 0.26765064, 0.18451001,\n",
       "        0.17384087, 0.26476683, 0.28333815, 0.24644365, 0.23067652]))"
      ]
     },
     "execution_count": 86,
     "metadata": {},
     "output_type": "execute_result"
    }
   ],
   "source": [
    "potenz_method(G,np.ones((n)))"
   ]
  },
  {
   "cell_type": "code",
   "execution_count": 87,
   "metadata": {},
   "outputs": [
    {
     "data": {
      "text/plain": [
       "(array([ 9.04900969e-01+0.j        , -1.09720945e-01+0.32187028j,\n",
       "        -1.09720945e-01-0.32187028j, -1.53330603e-01+0.25621497j,\n",
       "        -1.53330603e-01-0.25621497j, -1.82088427e-01+0.13127352j,\n",
       "        -1.82088427e-01-0.13127352j, -1.49980560e-01+0.1273046j ,\n",
       "        -1.49980560e-01-0.1273046j ,  3.23609704e-01+0.j        ,\n",
       "         2.51888720e-01+0.j        ,  8.78505140e-02+0.j        ,\n",
       "         7.19911627e-02+0.j        ,  2.28844502e-17+0.j        ,\n",
       "        -1.15918324e-16+0.j        ]),\n",
       " array([[ 2.96156772e-01+0.j        ,  3.95924154e-01+0.j        ,\n",
       "          3.95924154e-01-0.j        , -2.28553585e-01-0.25096546j,\n",
       "         -2.28553585e-01+0.25096546j, -4.20478447e-01+0.j        ,\n",
       "         -4.20478447e-01-0.j        , -1.75219177e-01+0.36105672j,\n",
       "         -1.75219177e-01-0.36105672j, -4.48028161e-01+0.j        ,\n",
       "          4.39690027e-01+0.j        , -2.90972596e-01+0.j        ,\n",
       "         -1.04206892e-01+0.j        , -1.36867469e-01+0.j        ,\n",
       "         -2.90513272e-01+0.j        ],\n",
       "        [ 2.88620909e-01+0.j        ,  6.74787415e-03+0.20086372j,\n",
       "          6.74787415e-03-0.20086372j,  2.34104071e-01+0.02076479j,\n",
       "          2.34104071e-01-0.02076479j,  2.06578853e-01-0.10522404j,\n",
       "          2.06578853e-01+0.10522404j, -5.89277868e-03-0.25959355j,\n",
       "         -5.89277868e-03+0.25959355j, -2.06581222e-01+0.j        ,\n",
       "          3.32587024e-01+0.j        , -4.24666853e-01+0.j        ,\n",
       "          2.78944992e-01+0.j        ,  0.00000000e+00+0.j        ,\n",
       "         -2.54140568e-17+0.j        ],\n",
       "        [ 2.88020453e-01+0.j        ,  3.17526375e-02+0.19932959j,\n",
       "          3.17526375e-02-0.19932959j, -1.56368769e-01+0.15572803j,\n",
       "         -1.56368769e-01-0.15572803j,  7.52924815e-02-0.07190515j,\n",
       "          7.52924815e-02+0.07190515j,  6.31587981e-02+0.00629168j,\n",
       "          6.31587981e-02-0.00629168j,  9.39016156e-02+0.j        ,\n",
       "          2.71413158e-01+0.j        , -1.02308128e-01+0.j        ,\n",
       "          2.36779360e-01+0.j        , -2.65088772e-16+0.j        ,\n",
       "         -4.76831241e-16+0.j        ],\n",
       "        [ 2.95097928e-01+0.j        ,  3.67393568e-01-0.0560781j ,\n",
       "          3.67393568e-01+0.0560781j ,  5.20099919e-01+0.j        ,\n",
       "          5.20099919e-01-0.j        , -2.87482965e-01-0.03380844j,\n",
       "         -2.87482965e-01+0.03380844j, -3.13210946e-01+0.08547748j,\n",
       "         -3.13210946e-01-0.08547748j,  3.12096041e-01+0.j        ,\n",
       "          2.79276021e-01+0.j        ,  3.88619583e-01+0.j        ,\n",
       "         -1.86410228e-01+0.j        ,  1.36867469e-01+0.j        ,\n",
       "          2.90513272e-01+0.j        ],\n",
       "        [ 2.73180818e-01+0.j        , -2.13526075e-01-0.31688171j,\n",
       "         -2.13526075e-01+0.31688171j, -4.92494102e-02+0.19427258j,\n",
       "         -4.92494102e-02-0.19427258j,  2.04771105e-01+0.31278181j,\n",
       "          2.04771105e-01-0.31278181j,  4.28210886e-01+0.j        ,\n",
       "          4.28210886e-01-0.j        , -4.66457861e-01+0.j        ,\n",
       "          3.66501133e-01+0.j        , -8.79125688e-02+0.j        ,\n",
       "         -4.03656501e-01+0.j        , -5.44442264e-01+0.j        ,\n",
       "         -5.25391544e-01+0.j        ],\n",
       "        [ 2.36008979e-01+0.j        , -1.82338715e-01-0.013164j  ,\n",
       "         -1.82338715e-01+0.013164j  , -1.18927462e-02-0.03031725j,\n",
       "         -1.18927462e-02+0.03031725j, -3.49075230e-01-0.01829507j,\n",
       "         -3.49075230e-01+0.01829507j, -2.85010381e-01+0.15261433j,\n",
       "         -2.85010381e-01-0.15261433j,  2.07499779e-02+0.j        ,\n",
       "         -2.40457553e-01+0.j        , -2.11948903e-02+0.j        ,\n",
       "          2.97308391e-01+0.j        ,  4.07574795e-01+0.j        ,\n",
       "          2.34878272e-01+0.j        ],\n",
       "        [ 2.36008979e-01+0.j        , -1.82338715e-01-0.013164j  ,\n",
       "         -1.82338715e-01+0.013164j  , -1.18927462e-02-0.03031725j,\n",
       "         -1.18927462e-02+0.03031725j, -3.49075230e-01-0.01829507j,\n",
       "         -3.49075230e-01+0.01829507j, -2.85010381e-01+0.15261433j,\n",
       "         -2.85010381e-01-0.15261433j,  2.07499779e-02+0.j        ,\n",
       "         -2.40457553e-01+0.j        , -2.11948903e-02+0.j        ,\n",
       "          2.97308391e-01+0.j        ,  5.44442264e-01+0.j        ,\n",
       "          5.25391544e-01+0.j        ],\n",
       "        [ 2.69616616e-01+0.j        , -2.00792714e-01-0.27359793j,\n",
       "         -2.00792714e-01+0.27359793j, -3.01766783e-01-0.32934044j,\n",
       "         -3.01766783e-01+0.32934044j,  1.80022048e-01+0.21900211j,\n",
       "          1.80022048e-01-0.21900211j,  2.56145330e-01+0.0963196j ,\n",
       "          2.56145330e-01-0.0963196j ,  3.64420405e-01+0.j        ,\n",
       "          2.21278140e-01+0.j        ,  3.88915501e-01+0.j        ,\n",
       "         -4.62379694e-01+0.j        , -4.07574795e-01+0.j        ,\n",
       "         -2.34878272e-01+0.j        ],\n",
       "        [ 2.67649717e-01+0.j        , -1.69666501e-01+0.24764034j,\n",
       "         -1.69666501e-01-0.24764034j,  1.32019324e-01-0.08718893j,\n",
       "          1.32019324e-01+0.08718893j,  1.12383376e-01-0.11539222j,\n",
       "          1.12383376e-01+0.11539222j, -5.15015121e-02-0.05134731j,\n",
       "         -5.15015121e-02+0.05134731j, -3.12082009e-01+0.j        ,\n",
       "          3.04860922e-02+0.j        ,  3.26432617e-01+0.j        ,\n",
       "         -2.92294642e-01+0.j        , -1.15255988e-16+0.j        ,\n",
       "          3.51031660e-16+0.j        ],\n",
       "        [ 1.84510353e-01+0.j        ,  5.52090779e-02-0.13838815j,\n",
       "          5.52090779e-02+0.13838815j,  7.98789120e-02+0.10334786j,\n",
       "          7.98789120e-02-0.10334786j,  1.76129130e-01-0.1292535j ,\n",
       "          1.76129130e-01+0.1292535j , -4.41336435e-02-0.19573971j,\n",
       "         -4.41336435e-02+0.19573971j, -9.23224497e-02+0.j        ,\n",
       "         -1.43654935e-01+0.j        ,  2.57607188e-01+0.j        ,\n",
       "          1.24655119e-02+0.j        ,  1.36867469e-01+0.j        ,\n",
       "          2.90513272e-01+0.j        ],\n",
       "        [ 1.73841016e-01+0.j        ,  2.79982863e-02-0.08467604j,\n",
       "          2.79982863e-02+0.08467604j, -4.01341024e-02-0.09093699j,\n",
       "         -4.01341024e-02+0.09093699j,  1.04287494e-01-0.04516396j,\n",
       "          1.04287494e-01+0.04516396j,  1.43111071e-01-0.05234522j,\n",
       "          1.43111071e-01+0.05234522j,  1.25299782e-01+0.j        ,\n",
       "         -1.16259235e-01+0.j        , -2.69659206e-01+0.j        ,\n",
       "          7.92959356e-02+0.j        , -1.36867469e-01+0.j        ,\n",
       "         -2.90513272e-01+0.j        ],\n",
       "        [ 2.64765996e-01+0.j        , -1.17652071e-01+0.23815553j,\n",
       "         -1.17652071e-01-0.23815553j, -1.28753659e-01+0.33543165j,\n",
       "         -1.28753659e-01-0.33543165j,  1.71746893e-01-0.06283871j,\n",
       "          1.71746893e-01+0.06283871j,  8.22781437e-02-0.23081603j,\n",
       "          8.22781437e-02+0.23081603j,  2.81920856e-01+0.j        ,\n",
       "         -5.52726917e-02+0.j        ,  2.21173972e-01+0.j        ,\n",
       "         -2.71648697e-01+0.j        ,  2.01697978e-16+0.j        ,\n",
       "          1.75356992e-16+0.j        ],\n",
       "        [ 2.83338927e-01+0.j        ,  2.02494500e-01+0.15739983j,\n",
       "          2.02494500e-01-0.15739983j, -2.03937728e-01+0.03507988j,\n",
       "         -2.03937728e-01-0.03507988j, -2.15626974e-02+0.22464474j,\n",
       "         -2.15626974e-02-0.22464474j,  1.93303844e-01+0.08011471j,\n",
       "          1.93303844e-01-0.08011471j, -1.50123100e-01+0.j        ,\n",
       "         -2.56870413e-01+0.j        ,  1.15519642e-01+0.j        ,\n",
       "          2.57903348e-02+0.j        , -8.39928010e-16+0.j        ,\n",
       "         -1.46607340e-15+0.j        ],\n",
       "        [ 2.46443161e-01+0.j        , -1.00303195e-01-0.0883338j ,\n",
       "         -1.00303195e-01+0.0883338j , -4.61266969e-02-0.11578995j,\n",
       "         -4.61266969e-02+0.11578995j, -1.64795133e-01-0.06354453j,\n",
       "         -1.64795133e-01+0.06354453j, -7.68239681e-02+0.06422652j,\n",
       "         -7.68239681e-02-0.06422652j,  1.43982301e-01+0.j        ,\n",
       "         -3.05433768e-01+0.j        , -2.94810301e-01+0.j        ,\n",
       "          3.12976452e-01+0.j        ,  4.61023951e-17+0.j        ,\n",
       "         -9.14906045e-17+0.j        ],\n",
       "        [ 2.30676962e-01+0.j        ,  1.24479555e-01+0.07748153j,\n",
       "          1.24479555e-01-0.07748153j,  1.67955107e-01+0.02984723j,\n",
       "          1.67955107e-01-0.02984723j, -1.04201471e-02+0.08968491j,\n",
       "         -1.04201471e-02-0.08968491j, -5.94480466e-02+0.09282777j,\n",
       "         -5.94480466e-02-0.09282777j,  2.34011441e-01+0.j        ,\n",
       "         -2.19230406e-01+0.j        , -1.37138306e-01+0.j        ,\n",
       "          5.20332434e-02+0.j        , -1.61358383e-16+0.j        ,\n",
       "         -5.36871950e-17+0.j        ]]))"
      ]
     },
     "execution_count": 87,
     "metadata": {},
     "output_type": "execute_result"
    }
   ],
   "source": [
    "np.linalg.eig(G)"
   ]
  },
  {
   "cell_type": "code",
   "execution_count": 14,
   "metadata": {},
   "outputs": [
    {
     "name": "stdout",
     "output_type": "stream",
     "text": [
      "[[0.05       0.175      0.05       0.05       0.05       0.05\n",
      "  0.05       0.05       0.175      0.05       0.05       0.05\n",
      "  0.05       0.05       0.05      ]\n",
      " [0.05       0.05       0.13333333 0.05       0.13333333 0.05\n",
      "  0.13333333 0.05       0.05       0.05       0.05       0.05\n",
      "  0.05       0.05       0.05      ]\n",
      " [0.05       0.13333333 0.05       0.05       0.05       0.13333333\n",
      "  0.05       0.13333333 0.05       0.05       0.05       0.05\n",
      "  0.05       0.05       0.05      ]\n",
      " [0.05       0.05       0.175      0.05       0.05       0.05\n",
      "  0.05       0.05       0.05       0.05       0.05       0.175\n",
      "  0.05       0.05       0.05      ]\n",
      " [0.175      0.05       0.05       0.05       0.05       0.05\n",
      "  0.05       0.05       0.05       0.175      0.05       0.05\n",
      "  0.05       0.05       0.05      ]\n",
      " [0.05       0.05       0.05       0.05       0.05       0.05\n",
      "  0.05       0.05       0.05       0.175      0.175      0.05\n",
      "  0.05       0.05       0.05      ]\n",
      " [0.05       0.05       0.05       0.05       0.05       0.05\n",
      "  0.05       0.05       0.05       0.175      0.175      0.05\n",
      "  0.05       0.05       0.05      ]\n",
      " [0.05       0.05       0.05       0.175      0.05       0.05\n",
      "  0.05       0.05       0.05       0.05       0.175      0.05\n",
      "  0.05       0.05       0.05      ]\n",
      " [0.05       0.05       0.05       0.05       0.13333333 0.13333333\n",
      "  0.05       0.05       0.05       0.13333333 0.05       0.05\n",
      "  0.05       0.05       0.05      ]\n",
      " [0.05       0.05       0.05       0.05       0.05       0.05\n",
      "  0.05       0.05       0.05       0.05       0.05       0.05\n",
      "  0.13333333 0.05       0.05      ]\n",
      " [0.05       0.05       0.05       0.05       0.05       0.05\n",
      "  0.05       0.05       0.05       0.05       0.05       0.05\n",
      "  0.05       0.05       0.13333333]\n",
      " [0.05       0.05       0.05       0.05       0.05       0.05\n",
      "  0.13333333 0.13333333 0.05       0.05       0.13333333 0.05\n",
      "  0.05       0.05       0.05      ]\n",
      " [0.05       0.05       0.05       0.05       0.05       0.05\n",
      "  0.05       0.05       0.175      0.05       0.05       0.05\n",
      "  0.05       0.175      0.05      ]\n",
      " [0.05       0.05       0.05       0.05       0.05       0.05\n",
      "  0.05       0.05       0.05       0.13333333 0.13333333 0.05\n",
      "  0.05       0.05       0.13333333]\n",
      " [0.05       0.05       0.05       0.05       0.05       0.05\n",
      "  0.05       0.05       0.05       0.05       0.05       0.13333333\n",
      "  0.05       0.13333333 0.05      ]]\n"
     ]
    }
   ],
   "source": [
    "q = 0.75\n",
    "m, n = np.shape(M)\n",
    "H = (1-q) * M + q * (1/n) * np.ones((n, n))\n",
    "print(H)"
   ]
  },
  {
   "cell_type": "code",
   "execution_count": 89,
   "metadata": {},
   "outputs": [
    {
     "data": {
      "text/plain": [
       "(0.9653681235535863,\n",
       " array([0.26927721, 0.26847851, 0.26845817, 0.26924989, 0.26404607,\n",
       "        0.25785294, 0.25785294, 0.26378938, 0.26458872, 0.22340091,\n",
       "        0.2214455 , 0.26439789, 0.26815906, 0.25984572, 0.24550711]))"
      ]
     },
     "execution_count": 89,
     "metadata": {},
     "output_type": "execute_result"
    }
   ],
   "source": [
    "potenz_method(H,np.ones((n)))"
   ]
  },
  {
   "cell_type": "code",
   "execution_count": 90,
   "metadata": {},
   "outputs": [
    {
     "data": {
      "text/plain": [
       "(array([ 9.65368203e-01+0.j        ,  1.47044983e-01+0.j        ,\n",
       "        -5.06766065e-02+0.14705769j, -5.06766065e-02-0.14705769j,\n",
       "         1.12990627e-01+0.j        , -6.97452303e-02+0.11643611j,\n",
       "        -6.97452303e-02-0.11643611j, -8.71161588e-02+0.05955029j,\n",
       "        -8.71161588e-02-0.05955029j, -6.67625520e-02+0.05878468j,\n",
       "        -6.67625520e-02-0.05878468j,  3.97424715e-02+0.j        ,\n",
       "         3.34548110e-02+0.j        , -4.72994915e-17+0.j        ,\n",
       "         3.33309204e-17+0.j        ]),\n",
       " array([[-2.69276486e-01+0.j        ,  4.41372199e-01+0.j        ,\n",
       "          3.93184530e-01+0.j        ,  3.93184530e-01-0.j        ,\n",
       "          4.29625709e-01+0.j        ,  2.23489029e-01+0.23914861j,\n",
       "          2.23489029e-01-0.23914861j, -3.97911549e-01+0.j        ,\n",
       "         -3.97911549e-01-0.j        ,  1.54680960e-01-0.35492406j,\n",
       "          1.54680960e-01+0.35492406j, -2.82627743e-01+0.j        ,\n",
       "         -7.50230956e-02+0.j        , -3.52032376e-01+0.j        ,\n",
       "         -1.01616588e-01+0.j        ],\n",
       "        [-2.68478559e-01+0.j        ,  2.00294931e-01+0.j        ,\n",
       "          3.37148811e-03+0.19782168j,  3.37148811e-03-0.19782168j,\n",
       "          3.19613200e-01+0.j        , -2.31359068e-01-0.02164405j,\n",
       "         -2.31359068e-01+0.02164405j,  2.12025730e-01-0.1148991j ,\n",
       "          2.12025730e-01+0.1148991j ,  6.36313150e-03+0.28028891j,\n",
       "          6.36313150e-03-0.28028891j, -4.27764504e-01+0.j        ,\n",
       "          3.07028288e-01+0.j        ,  3.16454278e-16+0.j        ,\n",
       "         -1.12201637e-16+0.j        ],\n",
       "        [-2.68458158e-01+0.j        , -1.00940951e-01+0.j        ,\n",
       "          2.78983904e-02+0.19654913j,  2.78983904e-02-0.19654913j,\n",
       "          2.52215158e-01+0.j        ,  1.56751229e-01-0.16231676j,\n",
       "          1.56751229e-01+0.16231676j,  9.93398941e-02-0.0928967j ,\n",
       "          9.93398941e-02+0.0928967j , -7.87442207e-02-0.02794319j,\n",
       "         -7.87442207e-02+0.02794319j, -1.11072120e-01+0.j        ,\n",
       "          2.42941273e-01+0.j        , -4.44114810e-16+0.j        ,\n",
       "         -3.90139025e-16+0.j        ],\n",
       "        [-2.69249119e-01+0.j        , -3.20712151e-01+0.j        ,\n",
       "          3.66505264e-01-0.05457198j,  3.66505264e-01+0.05457198j,\n",
       "          2.52734119e-01+0.j        , -5.27658276e-01+0.j        ,\n",
       "         -5.27658276e-01-0.j        , -2.86946457e-01-0.01639665j,\n",
       "         -2.86946457e-01+0.01639665j,  3.29165797e-01-0.03001419j,\n",
       "          3.29165797e-01+0.03001419j,  3.83792352e-01+0.j        ,\n",
       "         -2.01062240e-01+0.j        ,  3.52032376e-01+0.j        ,\n",
       "          1.01616588e-01+0.j        ],\n",
       "        [-2.64046574e-01+0.j        ,  4.61195396e-01+0.j        ,\n",
       "         -2.10567533e-01-0.32279243j, -2.10567533e-01+0.32279243j,\n",
       "          3.58408088e-01+0.j        ,  4.32727316e-02-0.18765152j,\n",
       "          4.32727316e-02+0.18765152j,  2.10360363e-01+0.28455729j,\n",
       "          2.10360363e-01-0.28455729j, -4.32032496e-01+0.j        ,\n",
       "         -4.32032496e-01-0.j        , -7.63460885e-02+0.j        ,\n",
       "         -3.68815514e-01+0.j        , -4.84385297e-01+0.j        ,\n",
       "         -5.37729834e-01+0.j        ],\n",
       "        [-2.57853209e-01+0.j        , -2.09795421e-02+0.j        ,\n",
       "         -1.84819627e-01-0.02514714j, -1.84819627e-01+0.02514714j,\n",
       "         -2.51890671e-01+0.j        ,  9.73935730e-03+0.02924856j,\n",
       "          9.73935730e-03-0.02924856j, -3.46138149e-01+0.01206498j,\n",
       "         -3.46138149e-01-0.01206498j,  2.75659772e-01-0.11336786j,\n",
       "          2.75659772e-01+0.11336786j, -2.88336285e-02+0.j        ,\n",
       "          2.79328348e-01+0.j        ,  1.32352921e-01+0.j        ,\n",
       "          4.36113246e-01+0.j        ],\n",
       "        [-2.57853209e-01+0.j        , -2.09795421e-02+0.j        ,\n",
       "         -1.84819627e-01-0.02514714j, -1.84819627e-01+0.02514714j,\n",
       "         -2.51890671e-01+0.j        ,  9.73935730e-03+0.02924856j,\n",
       "          9.73935730e-03-0.02924856j, -3.46138149e-01+0.01206498j,\n",
       "         -3.46138149e-01-0.01206498j,  2.75659772e-01-0.11336786j,\n",
       "          2.75659772e-01+0.11336786j, -2.88336285e-02+0.j        ,\n",
       "          2.79328348e-01+0.j        ,  4.84385297e-01+0.j        ,\n",
       "          5.37729834e-01+0.j        ],\n",
       "        [-2.63789841e-01+0.j        , -3.71583188e-01+0.j        ,\n",
       "         -1.98710258e-01-0.28000869j, -1.98710258e-01+0.28000869j,\n",
       "          1.99625884e-01+0.j        ,  3.03109514e-01+0.33169141j,\n",
       "          3.03109514e-01-0.33169141j,  1.99752624e-01+0.20303283j,\n",
       "          1.99752624e-01-0.20303283j, -2.31524120e-01-0.12132787j,\n",
       "         -2.31524120e-01+0.12132787j,  3.91379951e-01+0.j        ,\n",
       "         -4.58630758e-01+0.j        , -1.32352921e-01+0.j        ,\n",
       "         -4.36113246e-01+0.j        ],\n",
       "        [-2.64589082e-01+0.j        ,  3.09481959e-01+0.j        ,\n",
       "         -1.73669634e-01+0.24005084j, -1.73669634e-01-0.24005084j,\n",
       "          1.89849095e-02+0.j        , -1.25512064e-01+0.08600449j,\n",
       "         -1.25512064e-01-0.08600449j,  1.34027290e-01-0.11993593j,\n",
       "          1.34027290e-01+0.11993593j,  5.64019745e-02+0.03452177j,\n",
       "          5.64019745e-02-0.03452177j,  3.29741361e-01+0.j        ,\n",
       "         -3.06977206e-01+0.j        ,  6.47292841e-17+0.j        ,\n",
       "          6.23342427e-17+0.j        ],\n",
       "        [-2.23400832e-01+0.j        ,  9.17239048e-02+0.j        ,\n",
       "          6.10390342e-02-0.14155433j,  6.10390342e-02+0.14155433j,\n",
       "         -1.55402988e-01+0.j        , -8.22467752e-02-0.10451946j,\n",
       "         -8.22467752e-02+0.10451946j,  1.84478322e-01-0.14336919j,\n",
       "          1.84478322e-01+0.14336919j,  5.45352582e-02+0.20425153j,\n",
       "          5.45352582e-02-0.20425153j,  2.50189742e-01+0.j        ,\n",
       "         -3.55598034e-03+0.j        ,  3.52032376e-01+0.j        ,\n",
       "          1.01616588e-01+0.j        ],\n",
       "        [-2.21445460e-01+0.j        , -1.25839045e-01+0.j        ,\n",
       "          3.25777775e-02-0.09037781j,  3.25777775e-02+0.09037781j,\n",
       "         -1.22038605e-01+0.j        ,  4.01593686e-02+0.08689068j,\n",
       "          4.01593686e-02-0.08689068j,  1.19744516e-01-0.07520931j,\n",
       "          1.19744516e-01+0.07520931j, -1.69983422e-01+0.0384375j ,\n",
       "         -1.69983422e-01-0.0384375j , -2.67521642e-01+0.j        ,\n",
       "          9.84451476e-02+0.j        , -3.52032376e-01+0.j        ,\n",
       "         -1.01616588e-01+0.j        ],\n",
       "        [-2.64398127e-01+0.j        , -2.85767600e-01+0.j        ,\n",
       "         -1.23178589e-01+0.23206044j, -1.23178589e-01-0.23206044j,\n",
       "         -7.35137816e-02+0.j        ,  1.28253444e-01-0.33957235j,\n",
       "          1.28253444e-01+0.33957235j,  1.77189707e-01-0.07764699j,\n",
       "          1.77189707e-01+0.07764699j, -1.04480887e-01+0.25127566j,\n",
       "         -1.04480887e-01-0.25127566j,  2.24930430e-01+0.j        ,\n",
       "         -2.76623116e-01+0.j        ,  6.04139985e-16+0.j        ,\n",
       "          4.65673460e-16+0.j        ],\n",
       "        [-2.68158687e-01+0.j        ,  1.47697007e-01+0.j        ,\n",
       "          1.96336687e-01+0.15675612j,  1.96336687e-01-0.15675612j,\n",
       "         -2.85335945e-01+0.j        ,  2.00761150e-01-0.04301308j,\n",
       "          2.00761150e-01+0.04301308j,  1.27048252e-02+0.21380255j,\n",
       "          1.27048252e-02-0.21380255j, -2.20072070e-01-0.04641225j,\n",
       "         -2.20072070e-01+0.04641225j,  1.07071090e-01+0.j        ,\n",
       "          2.87676501e-02+0.j        , -7.19214268e-16+0.j        ,\n",
       "         -4.35606355e-16+0.j        ],\n",
       "        [-2.59845859e-01+0.j        , -1.45172778e-01+0.j        ,\n",
       "         -1.01241403e-01-0.09731317j, -1.01241403e-01+0.09731317j,\n",
       "         -3.26658523e-01+0.j        ,  4.41526950e-02+0.11462064j,\n",
       "          4.41526950e-02-0.11462064j, -1.76000868e-01-0.06828577j,\n",
       "         -1.76000868e-01+0.06828577j,  6.14327287e-02-0.06072528j,\n",
       "          6.14327287e-02+0.06072528j, -3.03863746e-01+0.j        ,\n",
       "          3.34806687e-01+0.j        , -5.60987129e-16+0.j        ,\n",
       "         -3.28538126e-16+0.j        ],\n",
       "        [-2.45506844e-01+0.j        , -2.36201476e-01+0.j        ,\n",
       "          1.23333711e-01+0.07540933j,  1.23333711e-01-0.07540933j,\n",
       "         -2.40097594e-01+0.j        , -1.69130416e-01-0.03218248j,\n",
       "         -1.69130416e-01+0.03218248j,  3.16698650e-02+0.09628962j,\n",
       "          3.16698650e-02-0.09628962j,  7.67691152e-02-0.07194936j,\n",
       "          7.67691152e-02+0.07194936j, -1.39830469e-01+0.j        ,\n",
       "          6.97167916e-02+0.j        ,  2.30148566e-16+0.j        ,\n",
       "          2.03869641e-16+0.j        ]]))"
      ]
     },
     "execution_count": 90,
     "metadata": {},
     "output_type": "execute_result"
    }
   ],
   "source": [
    "np.linalg.eig(H)"
   ]
  },
  {
   "cell_type": "markdown",
   "metadata": {},
   "source": [
    "### Zusammenfassung der Ergebnisse:\n",
    "Für q = 0.75 - 6 Iterationen. \n",
    "    q = 0.45 - 11 Iterationen.\n",
    "    q = 0.15 - 24 Iterationen.\n",
    "    q = 0    - 51 Iterationen."
   ]
  },
  {
   "cell_type": "markdown",
   "metadata": {},
   "source": [
    "---"
   ]
  },
  {
   "cell_type": "markdown",
   "metadata": {},
   "source": [
    "# Aufgabe 4.0"
   ]
  },
  {
   "cell_type": "code",
   "execution_count": 91,
   "metadata": {},
   "outputs": [
    {
     "data": {
      "image/png": "[encoded data removed]",
      "text/plain": [
       "<Figure size 432x288 with 1 Axes>"
      ]
     },
     "metadata": {
      "needs_background": "light"
     },
     "output_type": "display_data"
    },
    {
     "data": {
      "text/plain": [
       "array([[-0.98      ,  1.        ],\n",
       "       [-0.98      ,  1.        ],\n",
       "       [-0.98      ,  1.        ],\n",
       "       [-0.98      ,  1.        ],\n",
       "       [-0.98      ,  1.        ],\n",
       "       [-0.98      ,  1.        ],\n",
       "       [-0.98      ,  1.        ],\n",
       "       [-0.98      ,  1.        ],\n",
       "       [-0.98      ,  1.        ],\n",
       "       [-0.41333333,  0.43333333],\n",
       "       [-0.41333333,  0.43333333],\n",
       "       [-0.98      ,  1.        ],\n",
       "       [-0.98      ,  1.        ],\n",
       "       [-0.98      ,  1.        ],\n",
       "       [-0.69666667,  0.71666667]])"
      ]
     },
     "execution_count": 91,
     "metadata": {},
     "output_type": "execute_result"
    }
   ],
   "source": [
    "gershgorin_disk(E)"
   ]
  },
  {
   "cell_type": "code",
   "execution_count": 60,
   "metadata": {},
   "outputs": [
    {
     "data": {
      "text/plain": [
       "(0.5006612705798495,\n",
       " array([-0.46766915, -0.22557316,  0.07197839,  0.2848686 , -0.48176195,\n",
       "         0.01994435,  0.01994435,  0.34157501, -0.31951515, -0.09402085,\n",
       "         0.12335418,  0.26944273, -0.15738106,  0.13995444,  0.22672927]))"
      ]
     },
     "execution_count": 60,
     "metadata": {},
     "output_type": "execute_result"
    }
   ],
   "source": [
    "inv_shift_pot_method(E, np.ones((n)), 0.5)"
   ]
  },
  {
   "cell_type": "code",
   "execution_count": 62,
   "metadata": {},
   "outputs": [
    {
     "data": {
      "text/plain": [
       "(0.3999669477199781,\n",
       " array([-0.45395673, -0.35434036, -0.30665121, -0.32916982, -0.37734444,\n",
       "         0.21353096,  0.21353096, -0.26233392, -0.05305135,  0.11866515,\n",
       "         0.10211553,  0.0166978 ,  0.19725476,  0.2585148 ,  0.17389078]))"
      ]
     },
     "execution_count": 62,
     "metadata": {},
     "output_type": "execute_result"
    }
   ],
   "source": [
    "inv_shift_pot_method(E, np.ones((n)), 0.3)"
   ]
  },
  {
   "cell_type": "markdown",
   "metadata": {},
   "source": [
    "Für lambda = 0.5 - 4 Iterationen. Für lambda = 0.3 - 24 Iterationen. Das liegt daran dass die Konvergenzgeschwindigkeit von den Quotienten zwischen (Eigenwert(i)/den größten Eigenwert) z.B 0.5/0.8 = 0.625\n",
    "0.3/0.8 = 0.375"
   ]
  },
  {
   "cell_type": "code",
   "execution_count": 61,
   "metadata": {},
   "outputs": [
    {
     "data": {
      "text/plain": [
       "(0.5006612700920627,\n",
       " array([ 0.46766915,  0.22557315, -0.07197839, -0.2848686 ,  0.48176195,\n",
       "        -0.01994435, -0.01994435, -0.34157502,  0.31951515,  0.09402085,\n",
       "        -0.12335418, -0.26944273,  0.15738106, -0.13995444, -0.22672927]))"
      ]
     },
     "execution_count": 61,
     "metadata": {},
     "output_type": "execute_result"
    }
   ],
   "source": [
    "rayley_method(E, np.ones((n)), 0.5)"
   ]
  },
  {
   "cell_type": "code",
   "execution_count": 63,
   "metadata": {},
   "outputs": [
    {
     "data": {
      "text/plain": [
       "(0.3999668986836183,\n",
       " array([ 0.45395772,  0.35434175,  0.30665145,  0.3291684 ,  0.37734477,\n",
       "        -0.21353092, -0.21353092,  0.26233258,  0.05305024, -0.11866607,\n",
       "        -0.10211456, -0.01669852, -0.19725517, -0.25851378, -0.17389027]))"
      ]
     },
     "execution_count": 63,
     "metadata": {},
     "output_type": "execute_result"
    }
   ],
   "source": [
    "rayley_method(E, np.ones((n)), 0.3)"
   ]
  },
  {
   "cell_type": "markdown",
   "metadata": {},
   "source": [
    "Für lambda = 0.5 - 4 Iterationen. Für lambda = 0.3 - 8 Iterationen. Das liegt daran dass das Verfahren sein lamda in der Schleife updated und somit ein schnelleres Konvergenzverfahren erziehlen kann."
   ]
  },
  {
   "cell_type": "code",
   "execution_count": 94,
   "metadata": {},
   "outputs": [
    {
     "data": {
      "image/png": "[encoded data removed]",
      "text/plain": [
       "<Figure size 432x288 with 1 Axes>"
      ]
     },
     "metadata": {
      "needs_background": "light"
     },
     "output_type": "display_data"
    },
    {
     "data": {
      "text/plain": [
       "array([[-1.        ,  1.        ],\n",
       "       [-1.        ,  1.        ],\n",
       "       [-1.        ,  1.        ],\n",
       "       [-1.        ,  1.        ],\n",
       "       [-1.        ,  1.        ],\n",
       "       [-1.        ,  1.        ],\n",
       "       [-1.        ,  1.        ],\n",
       "       [-1.        ,  1.        ],\n",
       "       [-1.        ,  1.        ],\n",
       "       [-0.33333333,  0.33333333],\n",
       "       [-0.33333333,  0.33333333],\n",
       "       [-1.        ,  1.        ],\n",
       "       [-1.        ,  1.        ],\n",
       "       [-1.        ,  1.        ],\n",
       "       [-0.66666667,  0.66666667]])"
      ]
     },
     "execution_count": 94,
     "metadata": {},
     "output_type": "execute_result"
    }
   ],
   "source": [
    "gershgorin_disk(F)"
   ]
  },
  {
   "cell_type": "code",
   "execution_count": 70,
   "metadata": {},
   "outputs": [
    {
     "data": {
      "text/plain": [
       "(0.5904277808116448,\n",
       " array([ 0.50464379,  0.26365894, -0.02463133, -0.22409917,  0.50938582,\n",
       "        -0.01773981, -0.01773981, -0.2895482 ,  0.33225249,  0.09686729,\n",
       "        -0.11781543, -0.23999742,  0.17157942, -0.12964197, -0.20868451]))"
      ]
     },
     "execution_count": 70,
     "metadata": {},
     "output_type": "execute_result"
    }
   ],
   "source": [
    "inv_shift_pot_method(F, np.ones((n)), 0.6)"
   ]
  },
  {
   "cell_type": "code",
   "execution_count": 73,
   "metadata": {},
   "outputs": [
    {
     "data": {
      "text/plain": [
       "(0.4849603444155255,\n",
       " array([-0.45944435, -0.37036742, -0.33854078, -0.37640639, -0.38006788,\n",
       "         0.17976793,  0.17976793, -0.30193664, -0.07525768,  0.09080805,\n",
       "         0.08355247, -0.02654299,  0.13211443,  0.20339775,  0.12155925]))"
      ]
     },
     "execution_count": 73,
     "metadata": {},
     "output_type": "execute_result"
    }
   ],
   "source": [
    "inv_shift_pot_method(F, np.ones((n)), 0.4)"
   ]
  },
  {
   "cell_type": "markdown",
   "metadata": {},
   "source": [
    "Für lambda = 0.6 - 7 Iterationen. Für lambda = 0.4 - 13 Iterationen."
   ]
  },
  {
   "cell_type": "code",
   "execution_count": 71,
   "metadata": {},
   "outputs": [
    {
     "data": {
      "text/plain": [
       "(0.5904287980831231,\n",
       " array([-0.50464376, -0.26365891,  0.02463137,  0.22409922, -0.5093858 ,\n",
       "         0.0177398 ,  0.0177398 ,  0.28954824, -0.33225249, -0.0968673 ,\n",
       "         0.11781543,  0.23999744, -0.17157943,  0.12964197,  0.20868452]))"
      ]
     },
     "execution_count": 71,
     "metadata": {},
     "output_type": "execute_result"
    }
   ],
   "source": [
    "rayley_method(F, np.ones((n)), 0.6)"
   ]
  },
  {
   "cell_type": "code",
   "execution_count": 74,
   "metadata": {},
   "outputs": [
    {
     "data": {
      "text/plain": [
       "(0.4849600063389832,\n",
       " array([ 0.45944142,  0.37036628,  0.33854219,  0.37640984,  0.38006467,\n",
       "        -0.17976837, -0.17976837,  0.30194036,  0.07525515, -0.09080909,\n",
       "        -0.08355185,  0.02654525, -0.13211633, -0.20339742, -0.12155791]))"
      ]
     },
     "execution_count": 74,
     "metadata": {},
     "output_type": "execute_result"
    }
   ],
   "source": [
    "rayley_method(F, np.ones((n)), 0.4)"
   ]
  },
  {
   "cell_type": "markdown",
   "metadata": {},
   "source": [
    "Für lambda = 0.6 - 5 Iterationen. Für lambda = 0.4 - 5 Iterationen."
   ]
  },
  {
   "cell_type": "code",
   "execution_count": 97,
   "metadata": {},
   "outputs": [
    {
     "data": {
      "image/png": "[encoded data removed]",
      "text/plain": [
       "<Figure size 432x288 with 1 Axes>"
      ]
     },
     "metadata": {
      "needs_background": "light"
     },
     "output_type": "display_data"
    },
    {
     "data": {
      "text/plain": [
       "array([[-0.94      ,  1.        ],\n",
       "       [-0.94      ,  1.        ],\n",
       "       [-0.94      ,  1.        ],\n",
       "       [-0.94      ,  1.        ],\n",
       "       [-0.94      ,  1.        ],\n",
       "       [-0.94      ,  1.        ],\n",
       "       [-0.94      ,  1.        ],\n",
       "       [-0.94      ,  1.        ],\n",
       "       [-0.94      ,  1.        ],\n",
       "       [-0.57333333,  0.63333333],\n",
       "       [-0.57333333,  0.63333333],\n",
       "       [-0.94      ,  1.        ],\n",
       "       [-0.94      ,  1.        ],\n",
       "       [-0.94      ,  1.        ],\n",
       "       [-0.75666667,  0.81666667]])"
      ]
     },
     "execution_count": 97,
     "metadata": {},
     "output_type": "execute_result"
    }
   ],
   "source": [
    "gershgorin_disk(G)"
   ]
  },
  {
   "cell_type": "code",
   "execution_count": 78,
   "metadata": {},
   "outputs": [
    {
     "data": {
      "text/plain": [
       "(0.323609748188863,\n",
       " array([-0.44802763, -0.20658074,  0.09390217,  0.31209675, -0.46645748,\n",
       "         0.02074955,  0.02074955,  0.36442104, -0.31208215, -0.09232277,\n",
       "         0.12529965,  0.28192093, -0.15012367,  0.14398183,  0.23401118]))"
      ]
     },
     "execution_count": 78,
     "metadata": {},
     "output_type": "execute_result"
    }
   ],
   "source": [
    "inv_shift_pot_method(G, np.ones((n)), 0.3)"
   ]
  },
  {
   "cell_type": "code",
   "execution_count": 79,
   "metadata": {},
   "outputs": [
    {
     "data": {
      "text/plain": [
       "(0.25188879712832163,\n",
       " array([-0.43968924, -0.33258596, -0.27141305, -0.27927723, -0.3665008 ,\n",
       "         0.24045753,  0.24045753, -0.22127915, -0.03048704,  0.14365412,\n",
       "         0.11626013,  0.0552722 ,  0.25687009,  0.30543467,  0.21923094]))"
      ]
     },
     "execution_count": 79,
     "metadata": {},
     "output_type": "execute_result"
    }
   ],
   "source": [
    "inv_shift_pot_method(G, np.ones((n)), 0.2)"
   ]
  },
  {
   "cell_type": "markdown",
   "metadata": {},
   "source": [
    "Für lambda = 0.3 - 21 Iterationen. Für lambda = 0.2 - 16 Iterationen."
   ]
  },
  {
   "cell_type": "code",
   "execution_count": 81,
   "metadata": {},
   "outputs": [
    {
     "data": {
      "text/plain": [
       "(0.3236095393916936,\n",
       " array([ 0.44802816,  0.20658122, -0.09390162, -0.31209604,  0.46645786,\n",
       "        -0.02074998, -0.02074998, -0.3644204 ,  0.31208201,  0.09232245,\n",
       "        -0.12529978, -0.28192086,  0.1501231 , -0.1439823 , -0.23401144]))"
      ]
     },
     "execution_count": 81,
     "metadata": {},
     "output_type": "execute_result"
    }
   ],
   "source": [
    "rayley_method(G, np.ones((n)), 0.3)"
   ]
  },
  {
   "cell_type": "code",
   "execution_count": 80,
   "metadata": {},
   "outputs": [
    {
     "data": {
      "text/plain": [
       "(0.2518887203827088,\n",
       " array([ 0.43969003,  0.33258702,  0.27141316,  0.27927602,  0.36650113,\n",
       "        -0.24045755, -0.24045755,  0.22127814,  0.03048609, -0.14365494,\n",
       "        -0.11625923, -0.05527269, -0.25687041, -0.30543377, -0.21923041]))"
      ]
     },
     "execution_count": 80,
     "metadata": {},
     "output_type": "execute_result"
    }
   ],
   "source": [
    "rayley_method(G, np.ones((n)), 0.2)"
   ]
  },
  {
   "cell_type": "markdown",
   "metadata": {},
   "source": [
    "Für lambda = 0.3 - 8 Iterationen. Für lambda = 0.2 - 7 Iterationen."
   ]
  },
  {
   "cell_type": "code",
   "execution_count": 110,
   "metadata": {},
   "outputs": [
    {
     "data": {
      "image/png": "[encoded data removed]",
      "text/plain": [
       "<Figure size 432x288 with 1 Axes>"
      ]
     },
     "metadata": {
      "needs_background": "light"
     },
     "output_type": "display_data"
    },
    {
     "data": {
      "text/plain": [
       "array([[-0.9       ,  1.        ],\n",
       "       [-0.9       ,  1.        ],\n",
       "       [-0.9       ,  1.        ],\n",
       "       [-0.9       ,  1.        ],\n",
       "       [-0.9       ,  1.        ],\n",
       "       [-0.9       ,  1.        ],\n",
       "       [-0.9       ,  1.        ],\n",
       "       [-0.9       ,  1.        ],\n",
       "       [-0.9       ,  1.        ],\n",
       "       [-0.73333333,  0.83333333],\n",
       "       [-0.73333333,  0.83333333],\n",
       "       [-0.9       ,  1.        ],\n",
       "       [-0.9       ,  1.        ],\n",
       "       [-0.9       ,  1.        ],\n",
       "       [-0.81666667,  0.91666667]])"
      ]
     },
     "execution_count": 110,
     "metadata": {},
     "output_type": "execute_result"
    }
   ],
   "source": [
    "gershgorin_disk(H)"
   ]
  },
  {
   "cell_type": "code",
   "execution_count": 92,
   "metadata": {},
   "outputs": [
    {
     "data": {
      "text/plain": [
       "(0.14704445954644374,\n",
       " array([ 0.4413849 ,  0.20030635, -0.10092796, -0.32069576,  0.46120456,\n",
       "        -0.02099064, -0.02099064, -0.37156843,  0.30947807,  0.09171545,\n",
       "        -0.12584265, -0.28576654,  0.1476818 , -0.14518536, -0.23620873]))"
      ]
     },
     "execution_count": 92,
     "metadata": {},
     "output_type": "execute_result"
    }
   ],
   "source": [
    "inv_shift_pot_method(H, np.ones((n)), 0.3)"
   ]
  },
  {
   "cell_type": "code",
   "execution_count": 85,
   "metadata": {},
   "outputs": [
    {
     "data": {
      "text/plain": [
       "(0.11299062302952206,\n",
       " array([-0.42962635, -0.31961349, -0.25221479, -0.2527332 , -0.35840876,\n",
       "         0.25189063,  0.25189063, -0.19962506, -0.0189852 ,  0.15540298,\n",
       "         0.12203849,  0.0735142 ,  0.28533564,  0.32665838,  0.24009766]))"
      ]
     },
     "execution_count": 85,
     "metadata": {},
     "output_type": "execute_result"
    }
   ],
   "source": [
    "inv_shift_pot_method(H, np.ones((n)), 0.1)"
   ]
  },
  {
   "cell_type": "markdown",
   "metadata": {},
   "source": [
    "Für lambda = 0.2 - 26 Iterationen. Für lambda = 0.1 - 9 Iterationen."
   ]
  },
  {
   "cell_type": "code",
   "execution_count": 94,
   "metadata": {},
   "outputs": [
    {
     "data": {
      "text/plain": [
       "(0.9653682030036259,\n",
       " array([-0.26927649, -0.26847856, -0.26845816, -0.26924912, -0.26404657,\n",
       "        -0.25785321, -0.25785321, -0.26378984, -0.26458908, -0.22340083,\n",
       "        -0.22144546, -0.26439813, -0.26815869, -0.25984586, -0.24550684]))"
      ]
     },
     "execution_count": 94,
     "metadata": {},
     "output_type": "execute_result"
    }
   ],
   "source": [
    "rayley_method(H, np.ones((n)), 0.2)"
   ]
  },
  {
   "cell_type": "code",
   "execution_count": 89,
   "metadata": {},
   "outputs": [
    {
     "data": {
      "text/plain": [
       "(0.11299062928124357,\n",
       " array([-0.42962571, -0.3196132 , -0.25221516, -0.25273412, -0.35840809,\n",
       "         0.25189067,  0.25189067, -0.19962588, -0.01898491,  0.15540299,\n",
       "         0.1220386 ,  0.07351378,  0.28533595,  0.32665852,  0.24009759]))"
      ]
     },
     "execution_count": 89,
     "metadata": {},
     "output_type": "execute_result"
    }
   ],
   "source": [
    "rayley_method(H, np.ones((n)), 0.1)"
   ]
  },
  {
   "cell_type": "markdown",
   "metadata": {},
   "source": [
    "Für lambda = 0.2 - 5 Iterationen. Für lambda = 0.1 - 6 Iterationen."
   ]
  },
  {
   "cell_type": "markdown",
   "metadata": {},
   "source": [
    "### Zusammenfassung der Ergebnisse:\n",
    "Die Konvergenz hängt von dem Quotienten zwischen (Eigenwert(i)/größter Eigenwert) ab."
   ]
  },
  {
   "cell_type": "markdown",
   "metadata": {},
   "source": [
    "---"
   ]
  },
  {
   "cell_type": "markdown",
   "metadata": {},
   "source": [
    "# Aufgabe 5.0"
   ]
  },
  {
   "cell_type": "code",
   "execution_count": 131,
   "metadata": {},
   "outputs": [
    {
     "name": "stdout",
     "output_type": "stream",
     "text": [
      "[[0.24926077 0.08854744 0.0078614  0.11955219 0.02434651 0.0658773\n",
      "  0.09748795 0.00239225 0.07422242 0.07496745 0.01001911 0.05641409\n",
      "  0.10059187 0.00412921 0.02433005]\n",
      " [0.04920965 0.25368264 0.07511665 0.05218617 0.07406066 0.08188502\n",
      "  0.03894643 0.05308701 0.05861114 0.06206472 0.01347871 0.07665255\n",
      "  0.02337191 0.03270904 0.0549377 ]\n",
      " [0.01280686 0.10098934 0.20471272 0.00661622 0.07492854 0.08853831\n",
      "  0.04243286 0.02545272 0.04080253 0.00997518 0.10718833 0.09571122\n",
      "  0.03991502 0.10654613 0.04338402]\n",
      " [0.07278149 0.01070595 0.09416324 0.29688934 0.02694694 0.0038951\n",
      "  0.03187696 0.00079491 0.05257026 0.03491296 0.05993568 0.05094421\n",
      "  0.09415998 0.05667621 0.11274677]\n",
      " [0.05481074 0.0753315  0.013587   0.06577922 0.2627232  0.03589081\n",
      "  0.05469341 0.07817841 0.01592657 0.09578055 0.0684942  0.03844349\n",
      "  0.09743361 0.02613011 0.01679717]\n",
      " [0.07135363 0.07508018 0.10694373 0.05918486 0.02112889 0.23225703\n",
      "  0.00283478 0.03555981 0.04203025 0.05766336 0.0415686  0.02538754\n",
      "  0.01953212 0.10873571 0.10073952]\n",
      " [0.05529629 0.0479823  0.03234396 0.03270684 0.09663128 0.00891737\n",
      "  0.20223519 0.06040974 0.09690229 0.08621623 0.06242941 0.0579064\n",
      "  0.04546783 0.04741825 0.06713663]\n",
      " [0.07754719 0.0324404  0.0081697  0.06575686 0.07986852 0.03031479\n",
      "  0.08618763 0.19831186 0.05917524 0.01118672 0.07737079 0.08641052\n",
      "  0.06380283 0.03214875 0.09130819]\n",
      " [0.02487621 0.0162069  0.03228887 0.00320419 0.02455453 0.10688032\n",
      "  0.1064663  0.01028343 0.25315427 0.00710047 0.12120669 0.06950426\n",
      "  0.0869376  0.12153622 0.01579973]\n",
      " [0.09156327 0.02560414 0.05942487 0.07250661 0.09906512 0.01625481\n",
      "  0.05230949 0.04656597 0.02817686 0.2754142  0.07836155 0.02933146\n",
      "  0.02525494 0.00852744 0.09163927]\n",
      " [0.03887608 0.00885354 0.08911409 0.05408252 0.0124347  0.03123786\n",
      "  0.05723038 0.09508149 0.07092995 0.07829039 0.25333699 0.09039956\n",
      "  0.02793259 0.08370634 0.0084935 ]\n",
      " [0.111441   0.10965942 0.08243315 0.00225436 0.00355455 0.09318188\n",
      "  0.02286923 0.09260414 0.08987498 0.03035467 0.10760617 0.19820837\n",
      "  0.00751547 0.01151911 0.0369235 ]\n",
      " [0.07993701 0.00860968 0.05718753 0.05898966 0.09439866 0.04404397\n",
      "  0.01159642 0.04654294 0.02302033 0.07338294 0.05210588 0.09077649\n",
      "  0.18893984 0.09732543 0.07314322]\n",
      " [0.03854206 0.04688854 0.04196098 0.08777966 0.0430066  0.01467837\n",
      "  0.01990313 0.03297642 0.09270026 0.06195069 0.09230097 0.04303536\n",
      "  0.09140633 0.24110955 0.05176107]\n",
      " [0.04818966 0.09613025 0.05918574 0.04441507 0.03163234 0.05955122\n",
      "  0.0955668  0.07084405 0.0940668  0.00390623 0.02530983 0.047887\n",
      "  0.0768233  0.01919949 0.22729221]]\n"
     ]
    }
   ],
   "source": [
    "n = 15\n",
    "q = 0.15\n",
    "M = np.identity(n) + np.random.uniform(low=0., high=.60, size=(n, n))\n",
    "M /= M.sum(axis=1, keepdims=1)\n",
    "print(M)"
   ]
  },
  {
   "cell_type": "code",
   "execution_count": 132,
   "metadata": {},
   "outputs": [
    {
     "name": "stdout",
     "output_type": "stream",
     "text": [
      "[[0.22187165 0.08526532 0.01668219 0.11161936 0.03069453 0.06599571\n",
      "  0.09286475 0.01203341 0.07308906 0.07372233 0.01851624 0.05795197\n",
      "  0.09550309 0.01350983 0.03068054]\n",
      " [0.0518282  0.22563024 0.07384915 0.05435824 0.07295156 0.07960227\n",
      "  0.04310447 0.05512395 0.05981947 0.06275501 0.0214569  0.07515467\n",
      "  0.02986612 0.03780269 0.05669704]\n",
      " [0.02088583 0.09584094 0.18400582 0.01562379 0.07368926 0.08525756\n",
      "  0.04606793 0.03163481 0.04468215 0.0184789  0.10111008 0.09135454\n",
      "  0.04392777 0.10056421 0.04687641]\n",
      " [0.07186427 0.01910006 0.09003875 0.26235594 0.0329049  0.01331084\n",
      "  0.03709542 0.01067567 0.05468472 0.03967602 0.06094533 0.05330258\n",
      "  0.09003598 0.05817477 0.10583475]\n",
      " [0.05658913 0.07403178 0.02154895 0.06591233 0.23331472 0.04050719\n",
      "  0.0564894  0.07645165 0.02353759 0.09141347 0.06822007 0.04267697\n",
      "  0.09281857 0.03221059 0.02427759]\n",
      " [0.07065059 0.07381816 0.10090217 0.06030713 0.02795956 0.20741848\n",
      "  0.01240956 0.04022584 0.04572571 0.05901385 0.04533331 0.0315794\n",
      "  0.0266023  0.10242536 0.09562859]\n",
      " [0.05700185 0.05078495 0.03749237 0.03780081 0.09213659 0.01757977\n",
      "  0.18189991 0.06134828 0.09236695 0.08328379 0.063065   0.05922044\n",
      "  0.04864765 0.05030551 0.06706613]\n",
      " [0.07591511 0.03757434 0.01694424 0.06589333 0.07788824 0.03576757\n",
      "  0.08325948 0.17856508 0.06029895 0.01950871 0.07576517 0.08344895\n",
      "  0.0642324  0.03732644 0.08761197]\n",
      " [0.03114478 0.02377586 0.03744554 0.01272356 0.03087135 0.10084828\n",
      "  0.10049635 0.01874092 0.22518113 0.0160354  0.11302569 0.06907863\n",
      "  0.08389696 0.11330579 0.02342977]\n",
      " [0.08782878 0.03176352 0.06051114 0.07163062 0.09420535 0.02381659\n",
      "  0.05446306 0.04958107 0.03395033 0.24410207 0.07660732 0.03493174\n",
      "  0.0314667  0.01724833 0.08789338]\n",
      " [0.04304467 0.01752551 0.08574698 0.05597015 0.0205695  0.03655218\n",
      "  0.05864583 0.09081927 0.07029045 0.07654683 0.22533644 0.08683963\n",
      "  0.0337427  0.08115039 0.01721948]\n",
      " [0.10472485 0.10321051 0.08006818 0.0119162  0.01302136 0.08920459\n",
      "  0.02943884 0.08871352 0.08639373 0.03580147 0.10146524 0.17847711\n",
      "  0.01638815 0.01979124 0.04138498]\n",
      " [0.07794645 0.01731823 0.0586094  0.06014121 0.09023886 0.04743738\n",
      "  0.01985696 0.0495615  0.02956728 0.0723755  0.05429    0.08716002\n",
      "  0.17059887 0.09272661 0.07217174]\n",
      " [0.04276075 0.04985525 0.04566683 0.08461271 0.04655561 0.02247662\n",
      "  0.02691766 0.03802996 0.08879522 0.06265809 0.08845583 0.04658006\n",
      "  0.08769538 0.21494312 0.05399691]\n",
      " [0.05096121 0.09171071 0.06030788 0.04775281 0.03688749 0.06061854\n",
      "  0.09123178 0.07021745 0.08995678 0.0133203  0.03151335 0.05070395\n",
      "  0.07529981 0.02631956 0.20319838]]\n"
     ]
    }
   ],
   "source": [
    "I = (1-q) * M + q * (1/n) * np.ones((n, n))\n",
    "print(I)"
   ]
  },
  {
   "cell_type": "code",
   "execution_count": 133,
   "metadata": {},
   "outputs": [
    {
     "data": {
      "text/plain": [
       "(0.9999999999999998,\n",
       " array([0.25819889, 0.25819889, 0.25819889, 0.25819889, 0.25819889,\n",
       "        0.25819889, 0.25819889, 0.25819889, 0.25819889, 0.25819889,\n",
       "        0.25819889, 0.25819889, 0.25819889, 0.25819889, 0.25819889]))"
      ]
     },
     "execution_count": 133,
     "metadata": {},
     "output_type": "execute_result"
    }
   ],
   "source": [
    "potenz_method(I,np.ones((n)))"
   ]
  },
  {
   "cell_type": "code",
   "execution_count": 134,
   "metadata": {},
   "outputs": [
    {
     "data": {
      "text/plain": [
       "(array([0.17969154, 0.21960108, 1.        , 0.27467927, 0.25035777,\n",
       "        0.20084708, 0.20084708, 0.16941582, 0.16941582, 0.13317498,\n",
       "        0.11462444, 0.11462444, 0.04459913, 0.04459913, 0.04042138]),\n",
       " array([ 0.        ,  0.        ,  0.        ,  0.        ,  0.        ,\n",
       "         0.04474782, -0.04474782,  0.05251604, -0.05251604,  0.        ,\n",
       "         0.03519319, -0.03519319,  0.03664629, -0.03664629,  0.        ]))"
      ]
     },
     "execution_count": 134,
     "metadata": {},
     "output_type": "execute_result"
    }
   ],
   "source": [
    "qr2(I)"
   ]
  },
  {
   "cell_type": "code",
   "execution_count": null,
   "metadata": {},
   "outputs": [],
   "source": [
    "qr3(I)"
   ]
  },
  {
   "cell_type": "code",
   "execution_count": 135,
   "metadata": {},
   "outputs": [
    {
     "data": {
      "text/plain": [
       "(array([1.        +0.j        , 0.04459913+0.03664629j,\n",
       "        0.04459913-0.03664629j, 0.04042138+0.j        ,\n",
       "        0.27467927+0.j        , 0.25035777+0.j        ,\n",
       "        0.219601  +0.j        , 0.20084709+0.04474783j,\n",
       "        0.20084709-0.04474783j, 0.16941582+0.05251604j,\n",
       "        0.16941582-0.05251604j, 0.11462444+0.03519319j,\n",
       "        0.11462444-0.03519319j, 0.17969159+0.j        ,\n",
       "        0.13317498+0.j        ]),\n",
       " array([[ 0.25819889+0.j        , -0.27218688-0.26138655j,\n",
       "         -0.27218688+0.26138655j,  0.12446257+0.j        ,\n",
       "         -0.1467984 +0.j        , -0.09134475+0.j        ,\n",
       "          0.33192526+0.j        ,  0.06237518+0.27108096j,\n",
       "          0.06237518-0.27108096j, -0.25251818-0.02778306j,\n",
       "         -0.25251818+0.02778306j,  0.27534229-0.21667646j,\n",
       "          0.27534229+0.21667646j,  0.1708649 +0.j        ,\n",
       "         -0.24664742+0.j        ],\n",
       "        [ 0.25819889+0.j        ,  0.13460949-0.15278726j,\n",
       "          0.13460949+0.15278726j, -0.11135687+0.j        ,\n",
       "         -0.0906693 +0.j        , -0.16396364+0.j        ,\n",
       "         -0.20041051+0.j        ,  0.04121174-0.02160534j,\n",
       "          0.04121174+0.02160534j, -0.04356835+0.05322321j,\n",
       "         -0.04356835-0.05322321j,  0.28727274+0.08474392j,\n",
       "          0.28727274-0.08474392j,  0.24117754+0.j        ,\n",
       "         -0.06956597+0.j        ],\n",
       "        [ 0.25819889+0.j        , -0.01305748+0.04419663j,\n",
       "         -0.01305748-0.04419663j,  0.550396  +0.j        ,\n",
       "          0.15329491+0.j        , -0.15792723+0.j        ,\n",
       "         -0.24774044+0.j        , -0.11151136-0.16241769j,\n",
       "         -0.11151136+0.16241769j, -0.11003451+0.23055124j,\n",
       "         -0.11003451-0.23055124j, -0.01023235-0.19437303j,\n",
       "         -0.01023235+0.19437303j,  0.44301144+0.j        ,\n",
       "         -0.20075428+0.j        ],\n",
       "        [ 0.25819889+0.j        ,  0.04762109+0.08989897j,\n",
       "          0.04762109-0.08989897j, -0.06071918+0.j        ,\n",
       "          0.25473612+0.j        , -0.3154575 +0.j        ,\n",
       "          0.53060773+0.j        , -0.00096824-0.13309057j,\n",
       "         -0.00096824+0.13309057j,  0.1889358 -0.22373643j,\n",
       "          0.1889358 +0.22373643j, -0.04021512+0.09367386j,\n",
       "         -0.04021512-0.09367386j, -0.1830502 +0.j        ,\n",
       "         -0.26075311+0.j        ],\n",
       "        [ 0.25819889+0.j        , -0.28767687-0.13200064j,\n",
       "         -0.28767687+0.13200064j,  0.00375875+0.j        ,\n",
       "         -0.55221457+0.j        ,  0.42211949+0.j        ,\n",
       "         -0.15998425+0.j        , -0.36557994-0.17553584j,\n",
       "         -0.36557994+0.17553584j, -0.30226431+0.19359405j,\n",
       "         -0.30226431-0.19359405j, -0.00059436-0.00981752j,\n",
       "         -0.00059436+0.00981752j,  0.19039736+0.j        ,\n",
       "         -0.39503095+0.j        ],\n",
       "        [ 0.25819889+0.j        ,  0.13926877+0.10688945j,\n",
       "          0.13926877-0.10688945j, -0.16798028+0.j        ,\n",
       "          0.19842909+0.j        , -0.37083146+0.j        ,\n",
       "          0.2352578 +0.j        , -0.03071524+0.04869646j,\n",
       "         -0.03071524-0.04869646j,  0.01340987-0.34645089j,\n",
       "          0.01340987+0.34645089j, -0.45850376+0.j        ,\n",
       "         -0.45850376-0.j        , -0.22994327+0.j        ,\n",
       "          0.19793004+0.j        ],\n",
       "        [ 0.25819889+0.j        ,  0.18719112+0.143516j  ,\n",
       "          0.18719112-0.143516j  , -0.12571199+0.j        ,\n",
       "         -0.27388524+0.j        ,  0.44335177+0.j        ,\n",
       "         -0.36186768+0.j        , -0.09397854+0.13443607j,\n",
       "         -0.09397854-0.13443607j,  0.20847874+0.21051963j,\n",
       "          0.20847874-0.21051963j,  0.27334898-0.23407509j,\n",
       "          0.27334898+0.23407509j, -0.02426069+0.j        ,\n",
       "         -0.19503801+0.j        ],\n",
       "        [ 0.25819889+0.j        ,  0.11767072+0.15859598j,\n",
       "          0.11767072-0.15859598j,  0.41214406+0.j        ,\n",
       "         -0.05554187+0.j        ,  0.07249971+0.j        ,\n",
       "          0.07435586+0.j        ,  0.30793754-0.05033543j,\n",
       "          0.30793754+0.05033543j,  0.21502961-0.04181511j,\n",
       "          0.21502961+0.04181511j, -0.05176061-0.10116362j,\n",
       "         -0.05176061+0.10116362j, -0.49460769+0.j        ,\n",
       "          0.0690902 +0.j        ],\n",
       "        [ 0.25819889+0.j        , -0.20015214-0.10477081j,\n",
       "         -0.20015214+0.10477081j,  0.34570668+0.j        ,\n",
       "          0.32132277+0.j        ,  0.07760314+0.j        ,\n",
       "          0.04767001+0.j        , -0.17273283+0.29436215j,\n",
       "         -0.17273283-0.29436215j, -0.01840992+0.20126635j,\n",
       "         -0.01840992-0.20126635j, -0.1354525 +0.25578059j,\n",
       "         -0.1354525 -0.25578059j, -0.08677014+0.j        ,\n",
       "         -0.12005141+0.j        ],\n",
       "        [ 0.25819889+0.j        ,  0.14002315+0.21086782j,\n",
       "          0.14002315-0.21086782j,  0.0008354 +0.j        ,\n",
       "         -0.46833919+0.j        ,  0.43506617+0.j        ,\n",
       "         -0.38408644+0.j        , -0.16144094-0.05059624j,\n",
       "         -0.16144094+0.05059624j,  0.03282332-0.19542849j,\n",
       "          0.03282332+0.19542849j, -0.10734849+0.1447124j ,\n",
       "         -0.10734849-0.1447124j ,  0.13597589+0.j        ,\n",
       "          0.3638519 +0.j        ],\n",
       "        [ 0.25819889+0.j        ,  0.04801934-0.34223779j,\n",
       "          0.04801934+0.34223779j, -0.3176848 +0.j        ,\n",
       "          0.20476078+0.j        ,  0.0828407 +0.j        ,\n",
       "         -0.14259528+0.j        ,  0.06124132-0.18217564j,\n",
       "          0.06124132+0.18217564j,  0.02644432-0.10915619j,\n",
       "          0.02644432+0.10915619j, -0.08323499+0.02365438j,\n",
       "         -0.08323499-0.02365438j,  0.11886374+0.j        ,\n",
       "          0.03382771+0.j        ],\n",
       "        [ 0.25819889+0.j        , -0.09283249+0.3539913j ,\n",
       "         -0.09283249-0.3539913j , -0.36176309+0.j        ,\n",
       "          0.24042209+0.j        , -0.32817429+0.j        ,\n",
       "         -0.10501083+0.j        ,  0.46752304+0.j        ,\n",
       "          0.46752304-0.j        , -0.13372467-0.02801042j,\n",
       "         -0.13372467+0.02801042j, -0.05884785+0.2357014j ,\n",
       "         -0.05884785-0.2357014j ,  0.21524459+0.j        ,\n",
       "          0.3202206 +0.j        ],\n",
       "        [ 0.25819889+0.j        ,  0.39301645+0.j        ,\n",
       "          0.39301645-0.j        ,  0.13728586+0.j        ,\n",
       "         -0.11990747+0.j        ,  0.011025  +0.j        ,\n",
       "          0.16752065+0.j        , -0.06225333-0.11490941j,\n",
       "         -0.06225333+0.11490941j, -0.23592795+0.05957505j,\n",
       "         -0.23592795-0.05957505j, -0.15376788-0.00133014j,\n",
       "         -0.15376788+0.00133014j,  0.0131228 +0.j        ,\n",
       "          0.30289109+0.j        ],\n",
       "        [ 0.25819889+0.j        , -0.09902101+0.08345473j,\n",
       "         -0.09902101-0.08345473j, -0.06466783+0.j        ,\n",
       "          0.13822024+0.j        ,  0.0435141 +0.j        ,\n",
       "          0.26862667+0.j        , -0.24539832+0.01333416j,\n",
       "         -0.24539832-0.01333416j, -0.01316016+0.02312881j,\n",
       "         -0.01316016-0.02312881j,  0.37263325-0.15976432j,\n",
       "          0.37263325+0.15976432j, -0.1077909 +0.j        ,\n",
       "         -0.22731243+0.j        ],\n",
       "        [ 0.25819889+0.j        , -0.17291888-0.09171711j,\n",
       "         -0.17291888+0.09171711j, -0.27793721+0.j        ,\n",
       "          0.06020062+0.j        , -0.10449394+0.j        ,\n",
       "         -0.08913016+0.j        ,  0.28820709+0.10355773j,\n",
       "          0.28820709-0.10355773j,  0.47284217+0.j        ,\n",
       "          0.47284217-0.j        , -0.12406763+0.01857663j,\n",
       "         -0.12406763-0.01857663j, -0.50025319+0.j        ,\n",
       "          0.44055883+0.j        ]]))"
      ]
     },
     "execution_count": 135,
     "metadata": {},
     "output_type": "execute_result"
    }
   ],
   "source": [
    "np.linalg.eig(I)"
   ]
  },
  {
   "cell_type": "markdown",
   "metadata": {},
   "source": [
    "---"
   ]
  },
  {
   "cell_type": "markdown",
   "metadata": {},
   "source": [
    "# Aufgabe 6.0"
   ]
  },
  {
   "cell_type": "code",
   "execution_count": 15,
   "metadata": {},
   "outputs": [
    {
     "data": {
      "text/plain": [
       "array([ 0.8190294 , -0.2017464 , -0.21735154, -0.26737323, -0.10876988,\n",
       "       -0.16079832,  0.27531406,  0.04158028, -0.24509192, -0.16339631,\n",
       "        0.00673982,  0.07259599,  0.0547855 ,  0.13649212,  0.10799042])"
      ]
     },
     "execution_count": 15,
     "metadata": {},
     "output_type": "execute_result"
    }
   ],
   "source": [
    "qr2(E)"
   ]
  },
  {
   "cell_type": "code",
   "execution_count": 17,
   "metadata": {},
   "outputs": [
    {
     "data": {
      "text/plain": [
       "array([ 0.81845855, -0.1259195 , -0.22433477, -0.2482671 , -0.21537661,\n",
       "       -0.22569868, -0.24812872,  0.3068361 ,  0.03503699,  0.02453302,\n",
       "       -0.14231252,  0.03718664,  0.11348623,  0.1365095 ,  0.10799087])"
      ]
     },
     "execution_count": 17,
     "metadata": {},
     "output_type": "execute_result"
    }
   ],
   "source": [
    "qr3(E)"
   ]
  },
  {
   "cell_type": "code",
   "execution_count": 16,
   "metadata": {},
   "outputs": [
    {
     "data": {
      "text/plain": [
       "(array([ 0.81847279+0.j        , -0.17462502+0.51572036j,\n",
       "        -0.17462502-0.51572036j,  0.45911425+0.j        ,\n",
       "        -0.22532044+0.36900172j, -0.22532044-0.36900172j,\n",
       "        -0.3194382 +0.17914147j, -0.3194382 -0.17914147j,\n",
       "         0.28354835+0.j        , -0.18333422+0.01855783j,\n",
       "        -0.18333422-0.01855783j,  0.03630415+0.j        ,\n",
       "         0.11351409+0.j        ,  0.13649125+0.j        ,\n",
       "         0.10799087+0.j        ]),\n",
       " array([[ 9.99931157e-01+0.00000000e+00j,  4.26084478e-02+1.56970235e-02j,\n",
       "          4.26084478e-02-1.56970235e-02j, -4.22945103e-01+0.00000000e+00j,\n",
       "          3.87486753e-02+9.59340554e-02j,  3.87486753e-02-9.59340554e-02j,\n",
       "         -1.53324042e-02+5.16148543e-02j, -1.53324042e-02-5.16148543e-02j,\n",
       "         -8.87868652e-02+0.00000000e+00j, -2.03038474e-02-1.40171124e-02j,\n",
       "         -2.03038474e-02+1.40171124e-02j, -1.80593540e-01+0.00000000e+00j,\n",
       "         -8.34306884e-02+0.00000000e+00j,  7.16348047e-02+0.00000000e+00j,\n",
       "         -8.61129537e-02+0.00000000e+00j],\n",
       "        [ 7.78374920e-03+0.00000000e+00j, -1.02152360e-01-6.43178694e-01j,\n",
       "         -1.02152360e-01+6.43178694e-01j, -1.00531067e-01+0.00000000e+00j,\n",
       "          4.18650845e-02-4.61231193e-01j,  4.18650845e-02+4.61231193e-01j,\n",
       "         -2.23218417e-01+1.37849225e-01j, -2.23218417e-01-1.37849225e-01j,\n",
       "         -1.53939851e-01+0.00000000e+00j, -1.86707033e-01+1.06879261e-02j,\n",
       "         -1.86707033e-01-1.06879261e-02j, -1.60661396e-01+0.00000000e+00j,\n",
       "          4.56625873e-02+0.00000000e+00j, -5.46276042e-02+0.00000000e+00j,\n",
       "          4.23355891e-02+0.00000000e+00j],\n",
       "        [ 6.56611095e-03+0.00000000e+00j,  6.66710132e-01+0.00000000e+00j,\n",
       "          6.66710132e-01-0.00000000e+00j,  1.26635149e-01+0.00000000e+00j,\n",
       "          6.75716021e-01+0.00000000e+00j,  6.75716021e-01-0.00000000e+00j,\n",
       "         -3.78977704e-01-1.68604358e-01j, -3.78977704e-01+1.68604358e-01j,\n",
       "          6.12824367e-02+0.00000000e+00j,  3.25177457e-03-4.58336921e-02j,\n",
       "          3.25177457e-03+4.58336921e-02j,  2.27507903e-01+0.00000000e+00j,\n",
       "         -4.71497899e-02+0.00000000e+00j,  3.09135697e-02+0.00000000e+00j,\n",
       "         -5.04763348e-02+0.00000000e+00j],\n",
       "        [-2.66078810e-04+0.00000000e+00j,  1.00800809e-01+8.33231410e-02j,\n",
       "          1.00800809e-01-8.33231410e-02j,  7.61270729e-02+0.00000000e+00j,\n",
       "          1.83843067e-02-5.31522060e-01j,  1.83843067e-02+5.31522060e-01j,\n",
       "          3.56215040e-01+1.77574527e-01j,  3.56215040e-01-1.77574527e-01j,\n",
       "         -3.09040489e-02+0.00000000e+00j, -4.57823296e-01+1.09226405e-02j,\n",
       "         -4.57823296e-01-1.09226405e-02j, -1.84144281e-01+0.00000000e+00j,\n",
       "         -2.25529264e-02+0.00000000e+00j, -5.44935544e-03+0.00000000e+00j,\n",
       "         -2.73163206e-02+0.00000000e+00j],\n",
       "        [-5.82093134e-03+0.00000000e+00j, -2.80195152e-01+1.83380999e-01j,\n",
       "         -2.80195152e-01-1.83380999e-01j, -7.28204080e-02+0.00000000e+00j,\n",
       "          1.87211240e-01+4.07219006e-03j,  1.87211240e-01-4.07219006e-03j,\n",
       "          7.51552821e-02+2.92018885e-01j,  7.51552821e-02-2.92018885e-01j,\n",
       "          6.25309068e-02+0.00000000e+00j, -1.96227174e-01-1.31510604e-02j,\n",
       "         -1.96227174e-01+1.31510604e-02j, -3.82726757e-01+0.00000000e+00j,\n",
       "         -1.84877687e-01+0.00000000e+00j,  1.63945935e-01+0.00000000e+00j,\n",
       "         -1.87834177e-01+0.00000000e+00j],\n",
       "        [ 3.86986359e-06+0.00000000e+00j,  2.04389952e-03-3.78986318e-03j,\n",
       "          2.04389952e-03+3.78986318e-03j, -3.65787342e-01+0.00000000e+00j,\n",
       "         -1.80567313e-03-5.12487195e-03j, -1.80567313e-03+5.12487195e-03j,\n",
       "          4.24705406e-01+0.00000000e+00j,  4.24705406e-01-0.00000000e+00j,\n",
       "         -2.85422990e-02+0.00000000e+00j, -7.20520060e-01+0.00000000e+00j,\n",
       "         -7.20520060e-01-0.00000000e+00j, -5.33704934e-01+0.00000000e+00j,\n",
       "         -3.52714486e-01+0.00000000e+00j,  3.02355666e-01+0.00000000e+00j,\n",
       "         -3.64037144e-01+0.00000000e+00j],\n",
       "        [-1.50774355e-04+0.00000000e+00j,  3.29081161e-03+5.87768660e-03j,\n",
       "          3.29081161e-03-5.87768660e-03j, -7.79836389e-01+0.00000000e+00j,\n",
       "          7.55471657e-03-1.10439140e-02j,  7.55471657e-03+1.10439140e-02j,\n",
       "         -2.35912547e-01+7.48562617e-03j, -2.35912547e-01-7.48562617e-03j,\n",
       "         -7.45587542e-01+0.00000000e+00j,  3.22302712e-01+1.67592146e-02j,\n",
       "          3.22302712e-01-1.67592146e-02j,  3.74238534e-01+0.00000000e+00j,\n",
       "          6.02150215e-01+0.00000000e+00j, -6.22915638e-01+0.00000000e+00j,\n",
       "          5.97401023e-01+0.00000000e+00j],\n",
       "        [-7.32720763e-06+0.00000000e+00j, -1.94946319e-03-3.26069973e-04j,\n",
       "         -1.94946319e-03+3.26069973e-04j, -7.81799510e-03+0.00000000e+00j,\n",
       "          9.86936673e-04+4.48911728e-03j,  9.86936673e-04-4.48911728e-03j,\n",
       "         -1.97904752e-01-2.23001414e-01j, -1.97904752e-01+2.23001414e-01j,\n",
       "         -1.68870683e-01+0.00000000e+00j,  9.99094393e-02+6.97744141e-03j,\n",
       "          9.99094393e-02-6.97744141e-03j,  5.28336340e-01+0.00000000e+00j,\n",
       "          2.16785311e-01+0.00000000e+00j, -2.42213572e-01+0.00000000e+00j,\n",
       "          2.12754131e-01+0.00000000e+00j],\n",
       "        [-2.83588156e-05+0.00000000e+00j,  1.61991829e-03-2.95840487e-03j,\n",
       "          1.61991829e-03+2.95840487e-03j, -1.45359510e-01+0.00000000e+00j,\n",
       "         -6.82872042e-03-3.27899079e-03j, -6.82872042e-03+3.27899079e-03j,\n",
       "          3.69481026e-01-1.62026173e-02j,  3.69481026e-01+1.62026173e-02j,\n",
       "         -3.63586614e-01+0.00000000e+00j,  2.02825136e-01+2.10260021e-02j,\n",
       "          2.02825136e-01-2.10260021e-02j,  9.36379706e-03+0.00000000e+00j,\n",
       "          4.42310260e-01+0.00000000e+00j, -4.26072148e-01+0.00000000e+00j,\n",
       "          4.45469240e-01+0.00000000e+00j],\n",
       "        [ 3.75463437e-06+0.00000000e+00j,  5.63225422e-04-5.61201642e-04j,\n",
       "          5.63225422e-04+5.61201642e-04j, -1.01863198e-01+0.00000000e+00j,\n",
       "         -2.64685812e-03-4.86191738e-04j, -2.64685812e-03+4.86191738e-04j,\n",
       "          6.79936557e-02-8.14827210e-02j,  6.79936557e-02+8.14827210e-02j,\n",
       "          7.79820172e-02+0.00000000e+00j,  1.88452187e-02-3.51370265e-02j,\n",
       "          1.88452187e-02+3.51370265e-02j,  6.98809020e-02+0.00000000e+00j,\n",
       "         -1.45554671e-01+0.00000000e+00j,  1.22430210e-01+0.00000000e+00j,\n",
       "         -1.49211218e-01+0.00000000e+00j],\n",
       "        [-9.58011588e-06+0.00000000e+00j, -3.38856715e-05-1.11860441e-04j,\n",
       "         -3.38856715e-05+1.11860441e-04j,  2.72911138e-02+0.00000000e+00j,\n",
       "         -1.92773009e-04+2.39110753e-04j, -1.92773009e-04-2.39110753e-04j,\n",
       "         -9.24574357e-03-1.01388572e-02j, -9.24574357e-03+1.01388572e-02j,\n",
       "         -2.37300654e-01+0.00000000e+00j, -2.36018878e-02-6.74551621e-03j,\n",
       "         -2.36018878e-02+6.74551621e-03j, -1.25594153e-02+0.00000000e+00j,\n",
       "          3.43459306e-01+0.00000000e+00j, -3.71970559e-01+0.00000000e+00j,\n",
       "          3.36333474e-01+0.00000000e+00j],\n",
       "        [-2.58845615e-05+0.00000000e+00j, -1.74952850e-05-3.45127005e-04j,\n",
       "         -1.74952850e-05+3.45127005e-04j,  5.74498157e-02+0.00000000e+00j,\n",
       "         -9.78734150e-04+3.77601219e-04j, -9.78734150e-04-3.77601219e-04j,\n",
       "          1.16422761e-02-1.05024028e-01j,  1.16422761e-02+1.05024028e-01j,\n",
       "         -3.53196642e-01+0.00000000e+00j,  1.45289035e-01+6.87931054e-03j,\n",
       "          1.45289035e-01-6.87931054e-03j, -1.53025004e-02+0.00000000e+00j,\n",
       "          2.90075861e-01+0.00000000e+00j, -2.87650611e-01+0.00000000e+00j,\n",
       "          2.88091017e-01+0.00000000e+00j],\n",
       "        [-5.41670411e-05+0.00000000e+00j,  5.61744706e-04+2.05008517e-04j,\n",
       "          5.61744706e-04-2.05008517e-04j,  7.94937803e-02+0.00000000e+00j,\n",
       "          4.52744502e-04-1.45810142e-03j,  4.52744502e-04+1.45810142e-03j,\n",
       "          4.81005702e-02+1.42073871e-01j,  4.81005702e-02-1.42073871e-01j,\n",
       "         -2.35010767e-01+0.00000000e+00j, -1.25019266e-01+2.92765060e-03j,\n",
       "         -1.25019266e-01-2.92765060e-03j, -5.24464934e-03+0.00000000e+00j,\n",
       "          3.34912372e-02+0.00000000e+00j, -6.32289592e-02+0.00000000e+00j,\n",
       "          2.50781662e-02+0.00000000e+00j],\n",
       "        [-2.63288710e-11+0.00000000e+00j, -2.60566707e-11+9.33512692e-11j,\n",
       "         -2.60566707e-11-9.33512692e-11j,  1.32956773e-09+0.00000000e+00j,\n",
       "          3.85343514e-10-4.00694285e-11j,  3.85343514e-10+4.00694285e-11j,\n",
       "         -1.07865660e-08+4.49492734e-08j, -1.07865660e-08-4.49492734e-08j,\n",
       "         -1.34493402e-07+0.00000000e+00j, -8.00752148e-08-6.93142300e-09j,\n",
       "         -8.00752148e-08+6.93142300e-09j,  1.70108417e-08+0.00000000e+00j,\n",
       "         -1.30520744e-06+0.00000000e+00j,  6.54286378e-02+0.00000000e+00j,\n",
       "          8.43984502e-03+0.00000000e+00j],\n",
       "        [ 5.78427760e-15+0.00000000e+00j,  6.20432588e-15+1.63617935e-15j,\n",
       "          6.20432588e-15-1.63617935e-15j, -3.51257201e-12+0.00000000e+00j,\n",
       "          3.84141820e-15-2.29001373e-14j,  3.84141820e-15+2.29001373e-14j,\n",
       "          9.39447423e-13+9.56089245e-13j,  9.39447423e-13-9.56089245e-13j,\n",
       "          3.09789534e-11+0.00000000e+00j,  9.67595277e-13+3.46191620e-13j,\n",
       "          9.67595277e-13-3.46191620e-13j, -2.48274809e-12+0.00000000e+00j,\n",
       "         -6.00189144e-10+0.00000000e+00j,  5.16707754e-07+0.00000000e+00j,\n",
       "          4.19235269e-03+0.00000000e+00j]]))"
      ]
     },
     "execution_count": 16,
     "metadata": {},
     "output_type": "execute_result"
    }
   ],
   "source": [
    "eig(E)"
   ]
  },
  {
   "cell_type": "code",
   "execution_count": 18,
   "metadata": {},
   "outputs": [
    {
     "data": {
      "text/plain": [
       "array([ 7.33484270e-01, -1.19937305e-01, -1.86688658e-01, -1.09430307e-03,\n",
       "        1.37422306e-01, -1.76161671e-01,  1.62046039e-02, -4.37276556e-01,\n",
       "        1.89709060e-01, -1.26507990e-01, -3.04646160e-01,  1.53003036e-01,\n",
       "        1.22489369e-01,  1.33008783e-16, -2.70900235e-17])"
      ]
     },
     "execution_count": 18,
     "metadata": {},
     "output_type": "execute_result"
    }
   ],
   "source": [
    "qr2(F)"
   ]
  },
  {
   "cell_type": "code",
   "execution_count": 19,
   "metadata": {},
   "outputs": [
    {
     "data": {
      "text/plain": [
       "array([ 7.72182163e-01,  6.40798373e-02,  1.86651005e-01, -1.05035402e-01,\n",
       "       -3.76590743e-01,  9.49329365e-02,  3.10283277e-02, -4.76120901e-01,\n",
       "       -1.38886224e-02, -1.67999223e-01, -3.05231173e-02, -1.21032878e-01,\n",
       "        1.42316617e-01, -9.90154235e-18,  1.32413862e-16])"
      ]
     },
     "execution_count": 19,
     "metadata": {},
     "output_type": "execute_result"
    }
   ],
   "source": [
    "qr3(F)"
   ]
  },
  {
   "cell_type": "code",
   "execution_count": 20,
   "metadata": {},
   "outputs": [
    {
     "data": {
      "text/plain": [
       "(array([ 7.72236531e-01+0.j        ,  1.39002465e-01+0.47388775j,\n",
       "         1.39002465e-01-0.47388775j, -2.56725481e-01+0.37405736j,\n",
       "        -2.56725481e-01-0.37405736j,  3.30193809e-01+0.j        ,\n",
       "        -3.38998186e-01+0.10375574j, -3.38998186e-01-0.10375574j,\n",
       "        -2.06351927e-01+0.17556788j, -2.06351927e-01-0.17556788j,\n",
       "        -1.07470396e-01+0.j        ,  1.65593157e-01+0.0177516j ,\n",
       "         1.65593157e-01-0.0177516j , -9.89862006e-18+0.j        ,\n",
       "         1.32410939e-16+0.j        ]),\n",
       " array([[-9.78483399e-01+0.00000000e+00j, -2.23002540e-02+2.01267598e-01j,\n",
       "         -2.23002540e-02-2.01267598e-01j,  6.28114016e-03+6.90239158e-02j,\n",
       "          6.28114016e-03-6.90239158e-02j,  1.31429989e-01+0.00000000e+00j,\n",
       "         -1.51037609e-01+3.36618018e-02j, -1.51037609e-01-3.36618018e-02j,\n",
       "          4.08210668e-02+4.34565461e-02j,  4.08210668e-02-4.34565461e-02j,\n",
       "         -4.63207079e-02+0.00000000e+00j, -2.10154079e-01-1.33095970e-02j,\n",
       "         -2.10154079e-01+1.33095970e-02j, -7.32101419e-02+0.00000000e+00j,\n",
       "          3.46112182e-01+0.00000000e+00j],\n",
       "        [ 1.10001457e-01+0.00000000e+00j,  6.33608783e-01+0.00000000e+00j,\n",
       "          6.33608783e-01-0.00000000e+00j,  7.42915245e-01+0.00000000e+00j,\n",
       "          7.42915245e-01-0.00000000e+00j, -2.16157642e-01+0.00000000e+00j,\n",
       "          5.38314208e-01+0.00000000e+00j,  5.38314208e-01-0.00000000e+00j,\n",
       "         -4.47935812e-01+0.00000000e+00j, -4.47935812e-01-0.00000000e+00j,\n",
       "          1.84361002e-01+0.00000000e+00j,  1.70448317e-01+8.79934254e-03j,\n",
       "          1.70448317e-01-8.79934254e-03j,  4.92993106e-01+0.00000000e+00j,\n",
       "         -3.64277122e-02+0.00000000e+00j],\n",
       "        [ 1.35783576e-01+0.00000000e+00j,  2.03969752e-01+5.44032037e-01j,\n",
       "          2.03969752e-01-5.44032037e-01j, -1.10130936e-01+4.21385459e-01j,\n",
       "         -1.10130936e-01-4.21385459e-01j,  1.14645786e-02+0.00000000e+00j,\n",
       "         -5.05021633e-02+5.61149125e-02j, -5.05021633e-02-5.61149125e-02j,\n",
       "         -2.29792399e-01+7.70746165e-02j, -2.29792399e-01-7.70746165e-02j,\n",
       "          3.03989560e-01+0.00000000e+00j, -5.72745249e-02+2.09436127e-02j,\n",
       "         -5.72745249e-02-2.09436127e-02j,  3.36223122e-01+0.00000000e+00j,\n",
       "          1.01779499e-01+0.00000000e+00j],\n",
       "        [ 2.58414163e-02+0.00000000e+00j,  2.05501116e-01+1.39084244e-02j,\n",
       "          2.05501116e-01-1.39084244e-02j, -1.16146241e-01-1.23107686e-01j,\n",
       "         -1.16146241e-01+1.23107686e-01j,  7.84700412e-02+0.00000000e+00j,\n",
       "         -1.34187257e-01+2.10755260e-02j, -1.34187257e-01-2.10755260e-02j,\n",
       "          2.57101842e-01-7.52378884e-02j,  2.57101842e-01+7.52378884e-02j,\n",
       "         -2.74825452e-01+0.00000000e+00j,  1.33187057e-01+1.48056696e-03j,\n",
       "          1.33187057e-01-1.48056696e-03j, -2.77727623e-01+0.00000000e+00j,\n",
       "         -5.11708358e-02+0.00000000e+00j],\n",
       "        [-1.06178124e-01+0.00000000e+00j, -1.31886090e-01-3.65438784e-01j,\n",
       "         -1.31886090e-01+3.65438784e-01j, -2.24161275e-01-2.20119081e-01j,\n",
       "         -2.24161275e-01+2.20119081e-01j,  1.36115861e-02+0.00000000e+00j,\n",
       "         -3.44367685e-01-1.81405205e-01j, -3.44367685e-01+1.81405205e-01j,\n",
       "          1.41822980e-01+3.66538342e-01j,  1.41822980e-01-3.66538342e-01j,\n",
       "          5.15719644e-01+0.00000000e+00j,  9.42366374e-03-1.82800160e-02j,\n",
       "          9.42366374e-03+1.82800160e-02j,  1.78004480e-01+0.00000000e+00j,\n",
       "         -1.55336986e-01+0.00000000e+00j],\n",
       "        [-5.90677944e-03+0.00000000e+00j, -2.99796259e-03-1.60954951e-01j,\n",
       "         -2.99796259e-03+1.60954951e-01j, -1.72992999e-01+3.05315570e-01j,\n",
       "         -1.72992999e-01-3.05315570e-01j,  2.32084730e-01+0.00000000e+00j,\n",
       "          1.97084448e-01+1.79773856e-01j,  1.97084448e-01-1.79773856e-01j,\n",
       "          1.27335423e-01-3.92677314e-01j,  1.27335423e-01+3.92677314e-01j,\n",
       "         -6.81575369e-01+0.00000000e+00j,  3.16428779e-02+4.57409569e-03j,\n",
       "          3.16428779e-02-4.57409569e-03j, -5.39713898e-01+0.00000000e+00j,\n",
       "         -2.57988238e-01+0.00000000e+00j],\n",
       "        [-2.01513579e-03+0.00000000e+00j, -8.11561492e-03+7.82435977e-03j,\n",
       "         -8.11561492e-03-7.82435977e-03j,  1.14276275e-02+2.46325084e-02j,\n",
       "          1.14276275e-02-2.46325084e-02j,  1.67557414e-01+0.00000000e+00j,\n",
       "          4.04249550e-01-5.30586496e-02j,  4.04249550e-01+5.30586496e-02j,\n",
       "         -1.74726292e-01-8.96214728e-02j, -1.74726292e-01+8.96214728e-02j,\n",
       "          1.22777136e-01+0.00000000e+00j,  1.64316141e-01+1.42573008e-02j,\n",
       "          1.64316141e-01-1.42573008e-02j,  2.08808470e-01+0.00000000e+00j,\n",
       "         -5.73315369e-01+0.00000000e+00j],\n",
       "        [-5.74072820e-04+0.00000000e+00j,  9.71288934e-03+1.68529403e-02j,\n",
       "          9.71288934e-03-1.68529403e-02j,  3.58511451e-02-1.18166788e-02j,\n",
       "          3.58511451e-02+1.18166788e-02j,  3.80973856e-01+0.00000000e+00j,\n",
       "         -1.38779267e-01-6.80801354e-02j, -1.38779267e-01+6.80801354e-02j,\n",
       "          2.07566589e-01-7.82680886e-02j,  2.07566589e-01+7.82680886e-02j,\n",
       "         -9.31385637e-02+0.00000000e+00j, -2.84995512e-01+9.12850054e-04j,\n",
       "         -2.84995512e-01-9.12850054e-04j, -9.43844924e-02+0.00000000e+00j,\n",
       "          1.42505615e-01+0.00000000e+00j],\n",
       "        [-7.19381324e-03+0.00000000e+00j, -6.13511410e-03+1.14479814e-02j,\n",
       "         -6.13511410e-03-1.14479814e-02j, -1.20421654e-02+3.16659355e-03j,\n",
       "         -1.20421654e-02-3.16659355e-03j,  8.32722411e-01+0.00000000e+00j,\n",
       "         -2.55508900e-01+4.68175493e-02j, -2.55508900e-01-4.68175493e-02j,\n",
       "          1.26751969e-01+2.84616397e-02j,  1.26751969e-01-2.84616397e-02j,\n",
       "         -1.69443986e-01+0.00000000e+00j, -6.69305293e-01+0.00000000e+00j,\n",
       "         -6.69305293e-01-0.00000000e+00j, -2.28813098e-01+0.00000000e+00j,\n",
       "          5.23855111e-01+0.00000000e+00j],\n",
       "        [ 6.98958808e-05+0.00000000e+00j,  1.55247334e-03+1.35180997e-04j,\n",
       "          1.55247334e-03-1.35180997e-04j, -1.47399829e-02-6.36974584e-03j,\n",
       "         -1.47399829e-02+6.36974584e-03j,  1.07089854e-03+0.00000000e+00j,\n",
       "          2.84935108e-01+7.94184435e-02j,  2.84935108e-01-7.94184435e-02j,\n",
       "         -3.27035652e-01-2.11640145e-01j, -3.27035652e-01+2.11640145e-01j,\n",
       "          1.05887191e-01+0.00000000e+00j, -5.55948478e-02+6.08477432e-02j,\n",
       "         -5.55948478e-02-6.08477432e-02j,  3.30714684e-01+0.00000000e+00j,\n",
       "         -1.16097693e-01+0.00000000e+00j],\n",
       "        [ 1.77391483e-04+0.00000000e+00j,  1.15689525e-03+1.52676121e-03j,\n",
       "          1.15689525e-03-1.52676121e-03j,  1.18023682e-02-1.89197243e-02j,\n",
       "          1.18023682e-02+1.89197243e-02j, -6.70923618e-03+0.00000000e+00j,\n",
       "         -2.78809971e-01+6.20713510e-02j, -2.78809971e-01-6.20713510e-02j,\n",
       "          2.29778453e-01-1.49140986e-01j,  2.29778453e-01+1.49140986e-01j,\n",
       "          4.19179243e-03+0.00000000e+00j, -2.91354913e-02-2.82350257e-03j,\n",
       "         -2.91354913e-02+2.82350257e-03j,  7.40831378e-02+0.00000000e+00j,\n",
       "         -3.06306032e-02+0.00000000e+00j],\n",
       "        [ 3.06906057e-04+0.00000000e+00j,  8.61704964e-05-3.14934767e-04j,\n",
       "          8.61704964e-05+3.14934767e-04j,  2.47216912e-03-3.09446075e-03j,\n",
       "          2.47216912e-03+3.09446075e-03j, -9.09563039e-02+0.00000000e+00j,\n",
       "         -1.12859056e-01-3.92743559e-03j, -1.12859056e-01+3.92743559e-03j,\n",
       "          8.92841612e-02+3.12633013e-02j,  8.92841612e-02-3.12633013e-02j,\n",
       "         -4.15269935e-02+0.00000000e+00j,  5.15443437e-01+3.48071375e-02j,\n",
       "          5.15443437e-01-3.48071375e-02j, -9.68255082e-02+0.00000000e+00j,\n",
       "         -2.71576497e-01+0.00000000e+00j],\n",
       "        [ 6.05119056e-05+0.00000000e+00j, -9.63805992e-05-8.61283310e-05j,\n",
       "         -9.63805992e-05+8.61283310e-05j, -4.77008111e-04+7.47914628e-05j,\n",
       "         -4.77008111e-04-7.47914628e-05j, -2.64964250e-02+0.00000000e+00j,\n",
       "          4.94578826e-03+5.65340443e-04j,  4.94578826e-03-5.65340443e-04j,\n",
       "         -5.99907153e-03-6.01289449e-04j, -5.99907153e-03+6.01289449e-04j,\n",
       "         -7.45325278e-04+0.00000000e+00j,  2.54954316e-01-8.76455160e-02j,\n",
       "          2.54954316e-01+8.76455160e-02j,  2.90300636e-03+0.00000000e+00j,\n",
       "         -1.17907912e-01+0.00000000e+00j],\n",
       "        [ 2.68632635e-35+0.00000000e+00j, -2.40067993e-35-3.29634642e-35j,\n",
       "         -2.40067993e-35+3.29634642e-35j, -5.45364136e-34+2.18237227e-34j,\n",
       "         -5.45364136e-34-2.18237227e-34j, -1.91607765e-32+0.00000000e+00j,\n",
       "          1.39676476e-32+2.86754250e-33j,  1.39676476e-32-2.86754250e-33j,\n",
       "         -9.37948924e-33-7.74013601e-33j, -9.37948924e-33+7.74013601e-33j,\n",
       "          1.54856695e-32+0.00000000e+00j,  2.42649676e-31-4.11423466e-32j,\n",
       "          2.42649676e-31+4.11423466e-32j, -2.61231144e-03+0.00000000e+00j,\n",
       "         -2.20357321e-01+0.00000000e+00j],\n",
       "        [ 6.83402568e-21+0.00000000e+00j, -9.74547908e-21-5.84047797e-21j,\n",
       "         -9.74547908e-21+5.84047797e-21j, -1.48244016e-19-1.03421164e-20j,\n",
       "         -1.48244016e-19+1.03421164e-20j, -4.75251399e-18+0.00000000e+00j,\n",
       "          5.13493456e-18+1.76845357e-18j,  5.13493456e-18-1.76845357e-18j,\n",
       "         -2.99976471e-18-5.13763114e-18j, -2.99976471e-18+5.13763114e-18j,\n",
       "          6.60255885e-18+0.00000000e+00j,  5.38183001e-17-2.50059017e-18j,\n",
       "          5.38183001e-17+2.50059017e-18j, -9.65762825e-02+0.00000000e+00j,\n",
       "         -3.40805086e-02+0.00000000e+00j]]))"
      ]
     },
     "execution_count": 20,
     "metadata": {},
     "output_type": "execute_result"
    }
   ],
   "source": [
    "eig(F)"
   ]
  },
  {
   "cell_type": "code",
   "execution_count": 21,
   "metadata": {},
   "outputs": [
    {
     "data": {
      "text/plain": [
       "array([ 0.90490096, -0.1553927 , -0.12898958, -0.06984196, -0.16840319,\n",
       "       -0.16090237,  0.2336537 , -0.01032151, -0.15287502, -0.09275365,\n",
       "        0.01307209, -0.14416592,  0.22217748,  0.08785055,  0.07199113])"
      ]
     },
     "execution_count": 21,
     "metadata": {},
     "output_type": "execute_result"
    }
   ],
   "source": [
    "qr2(G)"
   ]
  },
  {
   "cell_type": "code",
   "execution_count": 22,
   "metadata": {},
   "outputs": [
    {
     "data": {
      "text/plain": [
       "array([ 0.904901  , -0.16575955, -0.18475195, -0.0752494 , -0.03429893,\n",
       "        0.11629024,  0.08659452,  0.07137634, -0.19425903, -0.09954157,\n",
       "       -0.21399759,  0.08034088, -0.00148672,  0.08785059,  0.07199116])"
      ]
     },
     "execution_count": 22,
     "metadata": {},
     "output_type": "execute_result"
    }
   ],
   "source": [
    "qr3(G)"
   ]
  },
  {
   "cell_type": "code",
   "execution_count": 23,
   "metadata": {},
   "outputs": [
    {
     "data": {
      "text/plain": [
       "(array([ 0.904901  +0.j        , -0.17517232+0.35719852j,\n",
       "        -0.17517232-0.35719852j,  0.25651917+0.05630749j,\n",
       "         0.25651917-0.05630749j, -0.08741667+0.19918544j,\n",
       "        -0.08741667-0.19918544j, -0.20100774+0.07713345j,\n",
       "        -0.20100774-0.07713345j, -0.14314678+0.12655282j,\n",
       "        -0.14314678-0.12655282j,  0.04285302+0.04312956j,\n",
       "         0.04285302-0.04312956j,  0.08785051+0.j        ,\n",
       "         0.07199116+0.j        ]),\n",
       " array([[ 1.00000000e+00+0.00000000e+00j, -3.98991203e-03-5.33458737e-02j,\n",
       "         -3.98991203e-03+5.33458737e-02j, -5.29808910e-02-4.56547671e-02j,\n",
       "         -5.29808910e-02+4.56547671e-02j,  1.83356856e-02+6.26489450e-02j,\n",
       "          1.83356856e-02-6.26489450e-02j,  1.47041926e-01-3.53928222e-02j,\n",
       "          1.47041926e-01+3.53928222e-02j,  1.33842987e-01-9.38159787e-02j,\n",
       "          1.33842987e-01+9.38159787e-02j,  4.64077860e-02-1.80591811e-02j,\n",
       "          4.64077860e-02+1.80591811e-02j,  4.57149504e-02+0.00000000e+00j,\n",
       "         -5.06386135e-02+0.00000000e+00j],\n",
       "        [-1.31841361e-07+0.00000000e+00j,  6.44646548e-01+0.00000000e+00j,\n",
       "          6.44646548e-01-0.00000000e+00j, -1.08765975e-02+3.71847837e-02j,\n",
       "         -1.08765975e-02-3.71847837e-02j,  3.30747466e-01+3.00249293e-01j,\n",
       "          3.30747466e-01-3.00249293e-01j, -2.70546870e-01-1.60261093e-01j,\n",
       "         -2.70546870e-01+1.60261093e-01j, -1.26211303e-01-1.31072182e-01j,\n",
       "         -1.26211303e-01+1.31072182e-01j, -8.90872873e-02+1.47517382e-01j,\n",
       "         -8.90872873e-02-1.47517382e-01j,  4.04116604e-02+0.00000000e+00j,\n",
       "         -1.46073180e-03+0.00000000e+00j],\n",
       "        [-1.92985039e-07+0.00000000e+00j, -1.08428747e-01+4.84566243e-01j,\n",
       "         -1.08428747e-01-4.84566243e-01j, -6.32893891e-02-5.30028659e-02j,\n",
       "         -6.32893891e-02+5.30028659e-02j, -1.55857698e-01+4.46499135e-01j,\n",
       "         -1.55857698e-01-4.46499135e-01j,  8.66166007e-02-1.70157370e-01j,\n",
       "          8.66166007e-02+1.70157370e-01j,  1.48797032e-01-1.69397513e-01j,\n",
       "          1.48797032e-01+1.69397513e-01j, -2.30449421e-01-1.18207376e-02j,\n",
       "         -2.30449421e-01+1.18207376e-02j, -2.51520364e-01+0.00000000e+00j,\n",
       "          2.41262300e-01+0.00000000e+00j],\n",
       "        [ 5.36503298e-08+0.00000000e+00j, -1.70076794e-01+7.92617528e-02j,\n",
       "         -1.70076794e-01-7.92617528e-02j,  1.57965625e-01-1.57816273e-02j,\n",
       "          1.57965625e-01+1.57816273e-02j,  5.66349786e-01+0.00000000e+00j,\n",
       "          5.66349786e-01-0.00000000e+00j, -1.21645422e-02-9.07654199e-02j,\n",
       "         -1.21645422e-02+9.07654199e-02j, -6.49504804e-02-3.19531417e-01j,\n",
       "         -6.49504804e-02+3.19531417e-01j,  3.21053911e-01+3.70370448e-02j,\n",
       "          3.21053911e-01-3.70370448e-02j,  4.09950492e-01+0.00000000e+00j,\n",
       "         -3.76316017e-01+0.00000000e+00j],\n",
       "        [ 4.71078801e-07+0.00000000e+00j, -1.90836107e-01-5.13178483e-01j,\n",
       "         -1.90836107e-01+5.13178483e-01j,  1.59706214e-01-7.00110115e-02j,\n",
       "          1.59706214e-01+7.00110115e-02j, -1.01061473e-01+4.91190391e-01j,\n",
       "         -1.01061473e-01-4.91190391e-01j,  2.65737499e-01+6.78353581e-02j,\n",
       "          2.65737499e-01-6.78353581e-02j,  5.70065350e-01+0.00000000e+00j,\n",
       "          5.70065350e-01-0.00000000e+00j,  2.84682218e-01-4.62714076e-02j,\n",
       "          2.84682218e-01+4.62714076e-02j,  2.05406092e-01+0.00000000e+00j,\n",
       "         -2.65029420e-01+0.00000000e+00j],\n",
       "        [-1.28269642e-07+0.00000000e+00j, -1.65653451e-03+1.45338372e-03j,\n",
       "         -1.65653451e-03-1.45338372e-03j, -4.21661855e-01+2.32847858e-03j,\n",
       "         -4.21661855e-01-2.32847858e-03j,  6.84144259e-03-7.76641226e-03j,\n",
       "          6.84144259e-03+7.76641226e-03j, -8.07415733e-01+0.00000000e+00j,\n",
       "         -8.07415733e-01-0.00000000e+00j, -5.34540684e-01+1.02669837e-01j,\n",
       "         -5.34540684e-01-1.02669837e-01j, -4.04846565e-01+1.01374131e-01j,\n",
       "         -4.04846565e-01-1.01374131e-01j, -3.19371294e-01+0.00000000e+00j,\n",
       "          3.64770868e-01+0.00000000e+00j],\n",
       "        [ 1.46359004e-07+0.00000000e+00j, -1.78401404e-03+5.41917639e-04j,\n",
       "         -1.78401404e-03-5.41917639e-04j,  5.50051202e-01+0.00000000e+00j,\n",
       "          5.50051202e-01-0.00000000e+00j,  7.44548291e-03+9.94784082e-04j,\n",
       "          7.44548291e-03-9.94784082e-04j, -1.46076542e-01-3.93640828e-02j,\n",
       "         -1.46076542e-01+3.93640828e-02j, -1.07991472e-01-4.90274042e-02j,\n",
       "         -1.07991472e-01+4.90274042e-02j, -4.62928543e-02-6.71868564e-03j,\n",
       "         -4.62928543e-02+6.71868564e-03j, -5.93319576e-02+0.00000000e+00j,\n",
       "          6.23151911e-02+0.00000000e+00j],\n",
       "        [-5.27264186e-08+0.00000000e+00j, -4.16225604e-04-6.65299031e-04j,\n",
       "         -4.16225604e-04+6.65299031e-04j, -2.69956123e-01+6.24092437e-03j,\n",
       "         -2.69956123e-01-6.24092437e-03j,  1.17346801e-03-3.60676646e-04j,\n",
       "          1.17346801e-03+3.60676646e-04j, -1.00654124e-01+1.26912401e-02j,\n",
       "         -1.00654124e-01-1.26912401e-02j, -1.31765890e-01+1.45496454e-01j,\n",
       "         -1.31765890e-01-1.45496454e-01j, -5.43452257e-01+0.00000000e+00j,\n",
       "         -5.43452257e-01-0.00000000e+00j, -5.33917381e-01+0.00000000e+00j,\n",
       "          5.74396659e-01+0.00000000e+00j],\n",
       "        [-7.16507619e-08+0.00000000e+00j, -4.07980318e-03+1.26725064e-03j,\n",
       "         -4.07980318e-03-1.26725064e-03j, -2.59711071e-01-2.06746218e-03j,\n",
       "         -2.59711071e-01+2.06746218e-03j,  3.70417369e-03+8.73202782e-03j,\n",
       "          3.70417369e-03-8.73202782e-03j, -1.42932462e-01+2.65915963e-02j,\n",
       "         -1.42932462e-01-2.65915963e-02j,  1.98112152e-01-1.23482697e-02j,\n",
       "          1.98112152e-01+1.23482697e-02j, -2.24426046e-01-1.55231753e-02j,\n",
       "         -2.24426046e-01+1.55231753e-02j, -2.60183540e-01+0.00000000e+00j,\n",
       "          2.45398594e-01+0.00000000e+00j],\n",
       "        [-3.56609777e-07+0.00000000e+00j, -5.36782284e-04-7.03206121e-04j,\n",
       "         -5.36782284e-04+7.03206121e-04j, -3.90845568e-01-8.57004658e-02j,\n",
       "         -3.90845568e-01+8.57004658e-02j,  2.70222881e-03+5.89703613e-03j,\n",
       "          2.70222881e-03-5.89703613e-03j, -3.96218465e-02-1.99498891e-01j,\n",
       "         -3.96218465e-02+1.99498891e-01j, -2.03506927e-02-2.42850672e-01j,\n",
       "         -2.03506927e-02+2.42850672e-01j, -3.52162127e-01-6.76569107e-02j,\n",
       "         -3.52162127e-01+6.76569107e-02j, -4.34911338e-01+0.00000000e+00j,\n",
       "          4.09541676e-01+0.00000000e+00j],\n",
       "        [ 5.99367314e-08+0.00000000e+00j,  2.58884172e-04-7.08886936e-05j,\n",
       "          2.58884172e-04+7.08886936e-05j, -5.72366364e-02+1.15589231e-01j,\n",
       "         -5.72366364e-02-1.15589231e-01j, -4.83475896e-04-1.72692334e-03j,\n",
       "         -4.83475896e-04+1.72692334e-03j, -5.14619812e-03-3.86295019e-02j,\n",
       "         -5.14619812e-03+3.86295019e-02j, -4.00638425e-02+3.28576161e-02j,\n",
       "         -4.00638425e-02-3.28576161e-02j, -1.15552216e-01+2.17904234e-01j,\n",
       "         -1.15552216e-01-2.17904234e-01j,  1.60675268e-01+0.00000000e+00j,\n",
       "         -7.80125070e-02+0.00000000e+00j],\n",
       "        [ 3.01915530e-07+0.00000000e+00j,  3.12349074e-04+7.74558850e-04j,\n",
       "          3.12349074e-04-7.74558850e-04j, -1.23041639e-01+1.33151409e-01j,\n",
       "         -1.23041639e-01-1.33151409e-01j,  2.62515484e-03-1.54160122e-04j,\n",
       "          2.62515484e-03+1.54160122e-04j,  5.75387395e-02+7.55563951e-02j,\n",
       "          5.75387395e-02-7.55563951e-02j,  1.10850285e-02-8.23731421e-02j,\n",
       "          1.10850285e-02+8.23731421e-02j, -8.54108758e-02+8.76643421e-03j,\n",
       "         -8.54108758e-02-8.76643421e-03j, -2.72142708e-02+0.00000000e+00j,\n",
       "          5.66874432e-02+0.00000000e+00j],\n",
       "        [ 8.94304045e-07+0.00000000e+00j,  1.45970711e-04+2.23733009e-05j,\n",
       "          1.45970711e-04-2.23733009e-05j, -9.14159606e-02+3.04115115e-01j,\n",
       "         -9.14159606e-02-3.04115115e-01j, -1.18756617e-04-1.24109774e-03j,\n",
       "         -1.18756617e-04+1.24109774e-03j,  5.00644996e-03-4.03749553e-03j,\n",
       "          5.00644996e-03+4.03749553e-03j, -2.34984075e-02+1.54000611e-02j,\n",
       "         -2.34984075e-02-1.54000611e-02j,  8.27695772e-02+3.12469085e-02j,\n",
       "          8.27695772e-02-3.12469085e-02j,  1.53947025e-01+0.00000000e+00j,\n",
       "         -1.25982285e-01+0.00000000e+00j],\n",
       "        [ 8.32335981e-13+0.00000000e+00j,  4.41219764e-11+8.29928431e-11j,\n",
       "          4.41219764e-11-8.29928431e-11j,  2.24897034e-08-9.38208885e-08j,\n",
       "          2.24897034e-08+9.38208885e-08j,  2.79128119e-10+2.25551840e-10j,\n",
       "          2.79128119e-10-2.25551840e-10j,  5.14832449e-09+8.28601126e-09j,\n",
       "          5.14832449e-09-8.28601126e-09j,  5.10641155e-09-1.21052386e-08j,\n",
       "          5.10641155e-09+1.21052386e-08j, -3.29341938e-08-7.33111953e-09j,\n",
       "         -3.29341938e-08+7.33111953e-09j,  1.58357863e-01+0.00000000e+00j,\n",
       "         -7.88501514e-02+0.00000000e+00j],\n",
       "        [ 3.13834246e-17+0.00000000e+00j, -6.98428570e-16-7.81535938e-16j,\n",
       "         -6.98428570e-16+7.81535938e-16j, -1.81491682e-13+2.72814712e-14j,\n",
       "         -1.81491682e-13-2.72814712e-14j, -4.15906917e-16-3.60431237e-15j,\n",
       "         -4.15906917e-16+3.60431237e-15j, -3.73227236e-14-9.06336164e-14j,\n",
       "         -3.73227236e-14+9.06336164e-14j, -9.63763664e-14+1.01431748e-13j,\n",
       "         -9.63763664e-14-1.01431748e-13j,  4.89088914e-13+8.09036579e-13j,\n",
       "          4.89088914e-13-8.09036579e-13j, -1.42428395e-07+0.00000000e+00j,\n",
       "          3.41484422e-02+0.00000000e+00j]]))"
      ]
     },
     "execution_count": 23,
     "metadata": {},
     "output_type": "execute_result"
    }
   ],
   "source": [
    "eig(G)"
   ]
  },
  {
   "cell_type": "code",
   "execution_count": 24,
   "metadata": {},
   "outputs": [
    {
     "data": {
      "text/plain": [
       "array([ 9.65368128e-01, -7.85052384e-02, -7.76349791e-02, -6.88362836e-02,\n",
       "       -2.90613667e-02, -9.74984184e-02, -7.85585374e-02,  4.45662833e-03,\n",
       "       -3.36518474e-02,  1.04672579e-01, -8.54720179e-05, -4.98196871e-02,\n",
       "        1.15952986e-01,  3.34541647e-02,  3.97473447e-02])"
      ]
     },
     "execution_count": 24,
     "metadata": {},
     "output_type": "execute_result"
    }
   ],
   "source": [
    "qr2(H)"
   ]
  },
  {
   "cell_type": "code",
   "execution_count": 25,
   "metadata": {},
   "outputs": [
    {
     "data": {
      "text/plain": [
       "array([ 9.65368169e-01, -3.76812486e-02, -8.76687235e-02, -1.09235628e-01,\n",
       "       -7.92149945e-02, -6.53233794e-02,  6.36742246e-02,  3.53409841e-02,\n",
       "        2.95076256e-03,  3.29260569e-02,  5.60367683e-02, -1.00404040e-01,\n",
       "        2.97696297e-05,  3.34589037e-02,  3.97423751e-02])"
      ]
     },
     "execution_count": 25,
     "metadata": {},
     "output_type": "execute_result"
    }
   ],
   "source": [
    "qr3(H)"
   ]
  },
  {
   "cell_type": "code",
   "execution_count": 26,
   "metadata": {},
   "outputs": [
    {
     "data": {
      "text/plain": [
       "(array([ 9.65368169e-01+0.j        , -5.33459982e-02+0.14669913j,\n",
       "        -5.33459982e-02-0.14669913j,  1.03320985e-01+0.j        ,\n",
       "         8.65655321e-02+0.05757154j,  8.65655321e-02-0.05757154j,\n",
       "        -7.86599504e-02+0.11299929j, -7.86599504e-02-0.11299929j,\n",
       "        -1.15111076e-01+0.j        , -5.22029138e-02+0.04975714j,\n",
       "        -5.22029138e-02-0.04975714j, -8.18917553e-02+0.j        ,\n",
       "         4.01008093e-04+0.j        ,  3.34570850e-02+0.j        ,\n",
       "         3.97422448e-02+0.j        ]),\n",
       " array([[-1.00000000e+00+0.00000000e+00j,  2.33811967e-02-2.43586056e-03j,\n",
       "          2.33811967e-02+2.43586056e-03j, -9.90695085e-03+0.00000000e+00j,\n",
       "         -6.10970392e-03-9.49496169e-03j, -6.10970392e-03+9.49496169e-03j,\n",
       "          7.08089187e-03-1.56611664e-03j,  7.08089187e-03+1.56611664e-03j,\n",
       "         -1.27442082e-02+0.00000000e+00j, -8.00501288e-02-3.77504140e-02j,\n",
       "         -8.00501288e-02+3.77504140e-02j,  5.06208658e-02+0.00000000e+00j,\n",
       "          4.67394920e-02+0.00000000e+00j,  1.20291091e-02+0.00000000e+00j,\n",
       "         -4.10766368e-02+0.00000000e+00j],\n",
       "        [-2.99978013e-08+0.00000000e+00j,  2.84233031e-01+3.96953669e-01j,\n",
       "          2.84233031e-01-3.96953669e-01j,  1.03147199e-01+0.00000000e+00j,\n",
       "          1.52293433e-01-7.25603501e-02j,  1.52293433e-01+7.25603501e-02j,\n",
       "         -7.84698425e-02+3.77073290e-01j, -7.84698425e-02-3.77073290e-01j,\n",
       "          2.41983494e-02+0.00000000e+00j, -1.05825983e-01+7.40443411e-04j,\n",
       "         -1.05825983e-01-7.40443411e-04j,  2.60213388e-01+0.00000000e+00j,\n",
       "         -1.87985250e-01+0.00000000e+00j, -3.79190922e-02+0.00000000e+00j,\n",
       "          2.19452135e-02+0.00000000e+00j],\n",
       "        [ 9.84804974e-09+0.00000000e+00j,  6.36606089e-01+0.00000000e+00j,\n",
       "          6.36606089e-01-0.00000000e+00j,  4.65354943e-02+0.00000000e+00j,\n",
       "          5.09880809e-02-1.45656875e-02j,  5.09880809e-02+1.45656875e-02j,\n",
       "          7.27860212e-01+0.00000000e+00j,  7.27860212e-01-0.00000000e+00j,\n",
       "         -1.15776824e-01+0.00000000e+00j,  1.97580327e-03-2.00609150e-01j,\n",
       "          1.97580327e-03+2.00609150e-01j, -1.87675823e-01+0.00000000e+00j,\n",
       "          4.06630705e-01+0.00000000e+00j,  4.11351430e-02+0.00000000e+00j,\n",
       "         -1.57386290e-01+0.00000000e+00j],\n",
       "        [-9.20859049e-09+0.00000000e+00j, -2.72441757e-01-6.36192248e-02j,\n",
       "         -2.72441757e-01+6.36192248e-02j, -3.18391799e-01+0.00000000e+00j,\n",
       "         -2.85188918e-01+1.92050704e-01j, -2.85188918e-01-1.92050704e-01j,\n",
       "         -5.85191745e-02+4.85911496e-01j, -5.85191745e-02-4.85911496e-01j,\n",
       "          8.41160289e-02+0.00000000e+00j, -5.38656621e-02+2.21746129e-01j,\n",
       "         -5.38656621e-02-2.21746129e-01j,  7.30699157e-02+0.00000000e+00j,\n",
       "         -1.68334903e-03+0.00000000e+00j,  1.30480014e-01+0.00000000e+00j,\n",
       "         -1.51345671e-01+0.00000000e+00j],\n",
       "        [-4.49613533e-09+0.00000000e+00j,  1.43053583e-01-5.01448700e-01j,\n",
       "          1.43053583e-01+5.01448700e-01j,  3.63681429e-02+0.00000000e+00j,\n",
       "         -2.79343896e-02-1.53298772e-01j, -2.79343896e-02+1.53298772e-01j,\n",
       "         -1.55973983e-01-2.07360679e-01j, -1.55973983e-01+2.07360679e-01j,\n",
       "          7.97649135e-02+0.00000000e+00j, -3.35995428e-01-9.81813986e-03j,\n",
       "         -3.35995428e-01+9.81813986e-03j,  1.91333795e-01+0.00000000e+00j,\n",
       "          6.45813914e-02+0.00000000e+00j, -2.05593225e-01+0.00000000e+00j,\n",
       "          1.37690729e-01+0.00000000e+00j],\n",
       "        [-7.64154013e-08+0.00000000e+00j, -6.06330249e-02+2.44556970e-02j,\n",
       "         -6.06330249e-02-2.44556970e-02j, -1.09089038e-03+0.00000000e+00j,\n",
       "          6.95831991e-02+2.64072343e-02j,  6.95831991e-02-2.64072343e-02j,\n",
       "          8.04380651e-02+6.95058082e-02j,  8.04380651e-02-6.95058082e-02j,\n",
       "          5.18620637e-01+0.00000000e+00j, -6.69562549e-01+0.00000000e+00j,\n",
       "         -6.69562549e-01-0.00000000e+00j,  8.07857174e-01+0.00000000e+00j,\n",
       "          6.90632513e-02+0.00000000e+00j,  3.39980337e-01+0.00000000e+00j,\n",
       "         -4.06163680e-01+0.00000000e+00j],\n",
       "        [-1.31853050e-08+0.00000000e+00j, -5.15869621e-03-3.16069235e-02j,\n",
       "         -5.15869621e-03+3.16069235e-02j, -9.43793026e-02+0.00000000e+00j,\n",
       "         -1.58523866e-02+2.12562123e-01j, -1.58523866e-02-2.12562123e-01j,\n",
       "         -4.68716298e-02+1.89198950e-02j, -4.68716298e-02-1.89198950e-02j,\n",
       "         -4.79569021e-01+0.00000000e+00j, -4.70699422e-02-3.03458112e-01j,\n",
       "         -4.70699422e-02+3.03458112e-01j, -1.26056183e-01+0.00000000e+00j,\n",
       "          3.19769465e-02+0.00000000e+00j,  2.50710402e-01+0.00000000e+00j,\n",
       "         -2.84359418e-01+0.00000000e+00j],\n",
       "        [ 1.14161928e-07+0.00000000e+00j,  1.04602503e-03-4.89674934e-03j,\n",
       "          1.04602503e-03+4.89674934e-03j, -3.38281237e-01+0.00000000e+00j,\n",
       "         -2.66491917e-01+3.83308169e-01j, -2.66491917e-01-3.83308169e-01j,\n",
       "         -1.88563699e-03-4.43676435e-04j, -1.88563699e-03+4.43676435e-04j,\n",
       "          5.18290393e-02+0.00000000e+00j,  6.45657157e-02-1.05536732e-02j,\n",
       "          6.45657157e-02+1.05536732e-02j,  8.24994147e-02+0.00000000e+00j,\n",
       "         -2.02878812e-01+0.00000000e+00j,  3.65851150e-01+0.00000000e+00j,\n",
       "         -2.60738106e-01+0.00000000e+00j],\n",
       "        [-1.62202382e-08+0.00000000e+00j,  6.35495270e-03-1.11778944e-05j,\n",
       "          6.35495270e-03+1.11778944e-05j, -4.60554903e-01+0.00000000e+00j,\n",
       "         -3.89092750e-01+2.16491087e-01j, -3.89092750e-01-2.16491087e-01j,\n",
       "          8.35950780e-03+2.57108145e-03j,  8.35950780e-03-2.57108145e-03j,\n",
       "          1.80437655e-01+0.00000000e+00j, -1.97159137e-01+5.70365727e-02j,\n",
       "         -1.97159137e-01-5.70365727e-02j,  3.24595783e-02+0.00000000e+00j,\n",
       "          3.14132441e-01+0.00000000e+00j,  1.82558829e-01+0.00000000e+00j,\n",
       "         -3.01175027e-01+0.00000000e+00j],\n",
       "        [ 1.95465960e-07+0.00000000e+00j, -9.89370927e-03+6.14525337e-03j,\n",
       "         -9.89370927e-03-6.14525337e-03j,  6.48557108e-01+0.00000000e+00j,\n",
       "          5.95817881e-01+0.00000000e+00j,  5.95817881e-01-0.00000000e+00j,\n",
       "          1.48189737e-02+8.74363465e-03j,  1.48189737e-02-8.74363465e-03j,\n",
       "          2.66417430e-01+0.00000000e+00j, -1.12148412e-01+5.75516938e-02j,\n",
       "         -1.12148412e-01-5.75516938e-02j,  1.29989009e-01+0.00000000e+00j,\n",
       "          5.50128774e-02+0.00000000e+00j, -3.69157265e-01+0.00000000e+00j,\n",
       "          3.18988614e-01+0.00000000e+00j],\n",
       "        [ 1.05463304e-08+0.00000000e+00j,  3.10973303e-05-9.71062517e-06j,\n",
       "          3.10973303e-05+9.71062517e-06j,  1.98393378e-02+0.00000000e+00j,\n",
       "          2.63387726e-03-2.45452925e-04j,  2.63387726e-03+2.45452925e-04j,\n",
       "          2.17635254e-05-6.44958102e-05j,  2.17635254e-05+6.44958102e-05j,\n",
       "         -2.09469782e-03+0.00000000e+00j,  8.57635018e-05+1.95687478e-03j,\n",
       "          8.57635018e-05-1.95687478e-03j, -2.24494766e-03+0.00000000e+00j,\n",
       "          5.91279123e-01+0.00000000e+00j, -3.32844823e-01+0.00000000e+00j,\n",
       "          1.02125488e-01+0.00000000e+00j],\n",
       "        [ 1.92733285e-07+0.00000000e+00j,  1.11767610e-02-2.48214075e-03j,\n",
       "          1.11767610e-02+2.48214075e-03j, -6.58348459e-02+0.00000000e+00j,\n",
       "          2.02723454e-02+3.12441713e-02j,  2.02723454e-02-3.12441713e-02j,\n",
       "         -1.08671491e-02-2.47271618e-02j, -1.08671491e-02+2.47271618e-02j,\n",
       "         -6.05196931e-01+0.00000000e+00j,  3.82984776e-01+1.52970833e-01j,\n",
       "          3.82984776e-01-1.52970833e-01j, -3.98239923e-01+0.00000000e+00j,\n",
       "         -5.40514766e-01+0.00000000e+00j, -1.60385538e-01+0.00000000e+00j,\n",
       "          3.56780571e-01+0.00000000e+00j],\n",
       "        [ 1.85980123e-06+0.00000000e+00j, -3.25113596e-04+2.22946524e-04j,\n",
       "         -3.25113596e-04-2.22946524e-04j,  3.51558204e-01+0.00000000e+00j,\n",
       "          4.17103231e-02+2.81888156e-02j,  4.17103231e-02-2.81888156e-02j,\n",
       "          1.77265881e-04+1.48834076e-03j,  1.77265881e-04-1.48834076e-03j,\n",
       "          3.10810542e-02+0.00000000e+00j, -1.79881885e-02-1.84761540e-02j,\n",
       "         -1.79881885e-02+1.84761540e-02j,  2.60019080e-02+0.00000000e+00j,\n",
       "          5.02982046e-02+0.00000000e+00j, -3.80398082e-02+0.00000000e+00j,\n",
       "          2.16720541e-02+0.00000000e+00j],\n",
       "        [-4.72912376e-09+0.00000000e+00j, -8.86666197e-07-3.45086279e-07j,\n",
       "         -8.86666197e-07+3.45086279e-07j, -8.98366253e-06+0.00000000e+00j,\n",
       "         -8.38237136e-06+2.17556230e-05j, -8.38237136e-06-2.17556230e-05j,\n",
       "         -5.36409604e-07+2.60700676e-06j, -5.36409604e-07-2.60700676e-06j,\n",
       "          6.12851424e-05+0.00000000e+00j, -3.95867597e-05-4.33144951e-05j,\n",
       "         -3.95867597e-05+4.33144951e-05j,  4.99953621e-05+0.00000000e+00j,\n",
       "          2.14917706e-04+0.00000000e+00j,  5.63543495e-01+0.00000000e+00j,\n",
       "         -4.99849138e-01+0.00000000e+00j],\n",
       "        [-4.65400402e-10+0.00000000e+00j,  7.53530137e-09-2.41317592e-09j,\n",
       "          7.53530137e-09+2.41317592e-09j,  9.29031631e-07+0.00000000e+00j,\n",
       "          9.79373703e-08-1.37161503e-07j,  9.79373703e-08+1.37161503e-07j,\n",
       "          3.91893911e-09-2.34098677e-08j,  3.91893911e-09+2.34098677e-08j,\n",
       "         -5.17298636e-07+0.00000000e+00j,  3.29236797e-07+3.94928507e-07j,\n",
       "          3.29236797e-07-3.94928507e-07j, -4.32589317e-07+0.00000000e+00j,\n",
       "         -1.88320068e-06+0.00000000e+00j, -1.70520518e-04+0.00000000e+00j,\n",
       "          1.92046578e-01+0.00000000e+00j]]))"
      ]
     },
     "execution_count": 26,
     "metadata": {},
     "output_type": "execute_result"
    }
   ],
   "source": [
    "eig(H)"
   ]
  },
  {
   "cell_type": "markdown",
   "metadata": {},
   "source": [
    "### Zusammenfassung der Ergebnisse:\n",
    "Leider können die Markov Matrizen mit dem von mir implementierten Algorithmus qr2 und qr3 nicht berechnet werden. Das liegt vorallem daran, dass der Algorithmus noch schwächen bezüglich den Complexen Eigenwerten hat. Eine effiziente berechnung der Komplexen Eigenwerte fehlt hier."
   ]
  }
 ],
 "metadata": {
  "kernelspec": {
   "display_name": "Python 3",
   "language": "python",
   "name": "python3"
  },
  "language_info": {
   "codemirror_mode": {
    "name": "ipython",
    "version": 3
   },
   "file_extension": ".py",
   "mimetype": "text/x-python",
   "name": "python",
   "nbconvert_exporter": "python",
   "pygments_lexer": "ipython3",
   "version": "3.8.5"
  }
 },
 "nbformat": 4,
 "nbformat_minor": 4
}
